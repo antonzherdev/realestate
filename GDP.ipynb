{
 "cells": [
  {
   "cell_type": "code",
   "execution_count": 32,
   "metadata": {},
   "outputs": [
    {
     "data": {
      "text/html": [
       "        <script type=\"text/javascript\">\n",
       "        window.PlotlyConfig = {MathJaxConfig: 'local'};\n",
       "        if (window.MathJax) {MathJax.Hub.Config({SVG: {font: \"STIX-Web\"}});}\n",
       "        if (typeof require !== 'undefined') {\n",
       "        require.undef(\"plotly\");\n",
       "        requirejs.config({\n",
       "            paths: {\n",
       "                'plotly': ['https://cdn.plot.ly/plotly-latest.min']\n",
       "            }\n",
       "        });\n",
       "        require(['plotly'], function(Plotly) {\n",
       "            window._Plotly = Plotly;\n",
       "        });\n",
       "        }\n",
       "        </script>\n",
       "        "
      ]
     },
     "metadata": {},
     "output_type": "display_data"
    },
    {
     "data": {
      "text/html": [
       "        <script type=\"text/javascript\">\n",
       "        window.PlotlyConfig = {MathJaxConfig: 'local'};\n",
       "        if (window.MathJax) {MathJax.Hub.Config({SVG: {font: \"STIX-Web\"}});}\n",
       "        if (typeof require !== 'undefined') {\n",
       "        require.undef(\"plotly\");\n",
       "        requirejs.config({\n",
       "            paths: {\n",
       "                'plotly': ['https://cdn.plot.ly/plotly-latest.min']\n",
       "            }\n",
       "        });\n",
       "        require(['plotly'], function(Plotly) {\n",
       "            window._Plotly = Plotly;\n",
       "        });\n",
       "        }\n",
       "        </script>\n",
       "        "
      ]
     },
     "metadata": {},
     "output_type": "display_data"
    }
   ],
   "source": [
    "import pandas as pd\n",
    "\n",
    "import chart_studio.plotly as py\n",
    "import plotly.graph_objs as go\n",
    "import plotly.io as pio\n",
    "from plotly.offline import iplot, init_notebook_mode\n",
    "import cufflinks\n",
    "cufflinks.go_offline(connected=True)\n",
    "init_notebook_mode(connected=True)\n",
    "t = go.layout.Template(\n",
    "    layout=go.Layout(\n",
    "        hovermode='x'\n",
    "    )\n",
    ")\n",
    "t.data.scatter = [\n",
    "    go.Scatter(hoverlabel=go.scatter.Hoverlabel(namelength=-1))\n",
    "]\n",
    "t.data.bar = [\n",
    "    go.Bar(hoverlabel=go.bar.Hoverlabel(namelength=-1))\n",
    "]\n",
    "pio.templates[\"my\"] = t\n",
    "pio.templates.default = \"plotly_dark+my\""
   ]
  },
  {
   "cell_type": "code",
   "execution_count": 17,
   "metadata": {},
   "outputs": [
    {
     "data": {
      "application/vnd.plotly.v1+json": {
       "config": {
        "linkText": "Export to plot.ly",
        "plotlyServerURL": "https://plot.ly",
        "showLink": true
       },
       "data": [
        {
         "line": {
          "color": "rgba(255, 153, 51, 1.0)",
          "dash": "solid",
          "shape": "linear",
          "width": 1.3
         },
         "mode": "lines",
         "name": "Deflated GDP - Rent per household",
         "text": "",
         "type": "scatter",
         "x": [
          "1975-04-01",
          "1976-04-01",
          "1977-04-01",
          "1978-04-01",
          "1979-04-01",
          "1980-04-01",
          "1981-04-01",
          "1982-04-01",
          "1983-04-01",
          "1984-04-01",
          "1985-04-01",
          "1986-04-01",
          "1987-04-01",
          "1988-04-01",
          "1989-04-01",
          "1990-04-01",
          "1991-04-01",
          "1992-04-01",
          "1993-04-01",
          "1994-04-01",
          "1995-04-01",
          "1996-04-01",
          "1997-04-01",
          "1998-04-01",
          "1999-04-01",
          "2000-04-01",
          "2001-04-01",
          "2002-04-01",
          "2003-04-01",
          "2004-04-01",
          "2005-04-01",
          "2006-04-01",
          "2007-04-01",
          "2008-04-01",
          "2009-04-01",
          "2010-04-01",
          "2011-04-01",
          "2012-04-01",
          "2013-04-01",
          "2014-04-01",
          "2015-04-01",
          "2016-04-01",
          "2017-04-01",
          "2018-04-01",
          "2019-04-01"
         ],
         "y": [
          98279.72320953062,
          93310.12615192587,
          96794.20565376442,
          89027.05506117268,
          88907.97221141636,
          87388.62403333938,
          87582.23304889399,
          89562.49998266243,
          92267.77053554311,
          96651.76031047464,
          90525.34562271126,
          92144.70740776733,
          94708.40610685544,
          97261.44059235814,
          99007.24493746452,
          95369.68836594111,
          91822.02379677494,
          89355.74537715595,
          89036.49062598396,
          93794.01749128646,
          94262.80253120775,
          96258.5893673255,
          98565.94100991647,
          99614.9994069792,
          100990.69086282364,
          104307.40126310094,
          106115.22867817429,
          109628.0212529752,
          110329.55077863309,
          113397.73212029674,
          115604.10362069652,
          115147.82770741076,
          117555.20922036265,
          121390.71157443145,
          120130.34143744981,
          119804.86751036826,
          118570.886358239,
          122418.47466648313,
          122730.39789779075,
          128333.6584587202,
          131038.66835389467,
          135518.48058359826,
          139762.99395227863,
          143701.2238291467,
          144002.7206211679
         ]
        },
        {
         "line": {
          "color": "rgba(55, 128, 191, 1.0)",
          "dash": "solid",
          "shape": "linear",
          "width": 1.3
         },
         "mode": "lines",
         "name": "Deflated Consumption - Rent per household",
         "text": "",
         "type": "scatter",
         "x": [
          "1975-04-01",
          "1976-04-01",
          "1977-04-01",
          "1978-04-01",
          "1979-04-01",
          "1980-04-01",
          "1981-04-01",
          "1982-04-01",
          "1983-04-01",
          "1984-04-01",
          "1985-04-01",
          "1986-04-01",
          "1987-04-01",
          "1988-04-01",
          "1989-04-01",
          "1990-04-01",
          "1991-04-01",
          "1992-04-01",
          "1993-04-01",
          "1994-04-01",
          "1995-04-01",
          "1996-04-01",
          "1997-04-01",
          "1998-04-01",
          "1999-04-01",
          "2000-04-01",
          "2001-04-01",
          "2002-04-01",
          "2003-04-01",
          "2004-04-01",
          "2005-04-01",
          "2006-04-01",
          "2007-04-01",
          "2008-04-01",
          "2009-04-01",
          "2010-04-01",
          "2011-04-01",
          "2012-04-01",
          "2013-04-01",
          "2014-04-01",
          "2015-04-01",
          "2016-04-01",
          "2017-04-01",
          "2018-04-01",
          "2019-04-01"
         ],
         "y": [
          54775.34087160413,
          51240.24676258371,
          50172.391108150405,
          48758.24551963504,
          48715.931297227806,
          48084.01138301384,
          49028.38002765706,
          48179.37486030006,
          50718.32668844512,
          52106.497526717576,
          48529.9592404391,
          50774.075670509235,
          48376.07720777985,
          50531.83969635896,
          51329.47164115478,
          50110.623947796186,
          49941.25238946484,
          48374.72844150307,
          47071.430292572135,
          47448.31702653132,
          48070.69974787714,
          48591.88926079659,
          50776.65706727554,
          51774.28756889171,
          54396.46862225447,
          54966.004263156334,
          54741.59598511762,
          54915.10109312168,
          55891.09628032878,
          57409.28691144693,
          58596.77040714371,
          59238.994107969316,
          60656.67092515668,
          60492.89703166401,
          61537.47164733027,
          61756.7879998277,
          60820.44286159095,
          63555.72041768059,
          64344.72653834765,
          65348.1989674016,
          66213.00287183306,
          68110.26052307898,
          70678.15278844799,
          72355.85579977641,
          73156.17041986297
         ]
        }
       ],
       "layout": {
        "autosize": true,
        "legend": {
         "x": 0,
         "y": 1
        },
        "template": {
         "data": {
          "bar": [
           {
            "error_x": {
             "color": "#f2f5fa"
            },
            "error_y": {
             "color": "#f2f5fa"
            },
            "marker": {
             "line": {
              "color": "rgb(17,17,17)",
              "width": 0.5
             }
            },
            "type": "bar"
           }
          ],
          "barpolar": [
           {
            "marker": {
             "line": {
              "color": "rgb(17,17,17)",
              "width": 0.5
             }
            },
            "type": "barpolar"
           }
          ],
          "carpet": [
           {
            "aaxis": {
             "endlinecolor": "#A2B1C6",
             "gridcolor": "#506784",
             "linecolor": "#506784",
             "minorgridcolor": "#506784",
             "startlinecolor": "#A2B1C6"
            },
            "baxis": {
             "endlinecolor": "#A2B1C6",
             "gridcolor": "#506784",
             "linecolor": "#506784",
             "minorgridcolor": "#506784",
             "startlinecolor": "#A2B1C6"
            },
            "type": "carpet"
           }
          ],
          "choropleth": [
           {
            "colorbar": {
             "outlinewidth": 0,
             "ticks": ""
            },
            "type": "choropleth"
           }
          ],
          "contour": [
           {
            "colorbar": {
             "outlinewidth": 0,
             "ticks": ""
            },
            "colorscale": [
             [
              0,
              "#0d0887"
             ],
             [
              0.1111111111111111,
              "#46039f"
             ],
             [
              0.2222222222222222,
              "#7201a8"
             ],
             [
              0.3333333333333333,
              "#9c179e"
             ],
             [
              0.4444444444444444,
              "#bd3786"
             ],
             [
              0.5555555555555556,
              "#d8576b"
             ],
             [
              0.6666666666666666,
              "#ed7953"
             ],
             [
              0.7777777777777778,
              "#fb9f3a"
             ],
             [
              0.8888888888888888,
              "#fdca26"
             ],
             [
              1,
              "#f0f921"
             ]
            ],
            "type": "contour"
           }
          ],
          "contourcarpet": [
           {
            "colorbar": {
             "outlinewidth": 0,
             "ticks": ""
            },
            "type": "contourcarpet"
           }
          ],
          "heatmap": [
           {
            "colorbar": {
             "outlinewidth": 0,
             "ticks": ""
            },
            "colorscale": [
             [
              0,
              "#0d0887"
             ],
             [
              0.1111111111111111,
              "#46039f"
             ],
             [
              0.2222222222222222,
              "#7201a8"
             ],
             [
              0.3333333333333333,
              "#9c179e"
             ],
             [
              0.4444444444444444,
              "#bd3786"
             ],
             [
              0.5555555555555556,
              "#d8576b"
             ],
             [
              0.6666666666666666,
              "#ed7953"
             ],
             [
              0.7777777777777778,
              "#fb9f3a"
             ],
             [
              0.8888888888888888,
              "#fdca26"
             ],
             [
              1,
              "#f0f921"
             ]
            ],
            "type": "heatmap"
           }
          ],
          "heatmapgl": [
           {
            "colorbar": {
             "outlinewidth": 0,
             "ticks": ""
            },
            "colorscale": [
             [
              0,
              "#0d0887"
             ],
             [
              0.1111111111111111,
              "#46039f"
             ],
             [
              0.2222222222222222,
              "#7201a8"
             ],
             [
              0.3333333333333333,
              "#9c179e"
             ],
             [
              0.4444444444444444,
              "#bd3786"
             ],
             [
              0.5555555555555556,
              "#d8576b"
             ],
             [
              0.6666666666666666,
              "#ed7953"
             ],
             [
              0.7777777777777778,
              "#fb9f3a"
             ],
             [
              0.8888888888888888,
              "#fdca26"
             ],
             [
              1,
              "#f0f921"
             ]
            ],
            "type": "heatmapgl"
           }
          ],
          "histogram": [
           {
            "marker": {
             "colorbar": {
              "outlinewidth": 0,
              "ticks": ""
             }
            },
            "type": "histogram"
           }
          ],
          "histogram2d": [
           {
            "colorbar": {
             "outlinewidth": 0,
             "ticks": ""
            },
            "colorscale": [
             [
              0,
              "#0d0887"
             ],
             [
              0.1111111111111111,
              "#46039f"
             ],
             [
              0.2222222222222222,
              "#7201a8"
             ],
             [
              0.3333333333333333,
              "#9c179e"
             ],
             [
              0.4444444444444444,
              "#bd3786"
             ],
             [
              0.5555555555555556,
              "#d8576b"
             ],
             [
              0.6666666666666666,
              "#ed7953"
             ],
             [
              0.7777777777777778,
              "#fb9f3a"
             ],
             [
              0.8888888888888888,
              "#fdca26"
             ],
             [
              1,
              "#f0f921"
             ]
            ],
            "type": "histogram2d"
           }
          ],
          "histogram2dcontour": [
           {
            "colorbar": {
             "outlinewidth": 0,
             "ticks": ""
            },
            "colorscale": [
             [
              0,
              "#0d0887"
             ],
             [
              0.1111111111111111,
              "#46039f"
             ],
             [
              0.2222222222222222,
              "#7201a8"
             ],
             [
              0.3333333333333333,
              "#9c179e"
             ],
             [
              0.4444444444444444,
              "#bd3786"
             ],
             [
              0.5555555555555556,
              "#d8576b"
             ],
             [
              0.6666666666666666,
              "#ed7953"
             ],
             [
              0.7777777777777778,
              "#fb9f3a"
             ],
             [
              0.8888888888888888,
              "#fdca26"
             ],
             [
              1,
              "#f0f921"
             ]
            ],
            "type": "histogram2dcontour"
           }
          ],
          "mesh3d": [
           {
            "colorbar": {
             "outlinewidth": 0,
             "ticks": ""
            },
            "type": "mesh3d"
           }
          ],
          "parcoords": [
           {
            "line": {
             "colorbar": {
              "outlinewidth": 0,
              "ticks": ""
             }
            },
            "type": "parcoords"
           }
          ],
          "pie": [
           {
            "automargin": true,
            "type": "pie"
           }
          ],
          "scatter": [
           {
            "hoverlabel": {
             "namelength": -1
            },
            "marker": {
             "line": {
              "color": "#283442"
             }
            },
            "type": "scatter"
           }
          ],
          "scatter3d": [
           {
            "line": {
             "colorbar": {
              "outlinewidth": 0,
              "ticks": ""
             }
            },
            "marker": {
             "colorbar": {
              "outlinewidth": 0,
              "ticks": ""
             }
            },
            "type": "scatter3d"
           }
          ],
          "scattercarpet": [
           {
            "marker": {
             "colorbar": {
              "outlinewidth": 0,
              "ticks": ""
             }
            },
            "type": "scattercarpet"
           }
          ],
          "scattergeo": [
           {
            "marker": {
             "colorbar": {
              "outlinewidth": 0,
              "ticks": ""
             }
            },
            "type": "scattergeo"
           }
          ],
          "scattergl": [
           {
            "marker": {
             "line": {
              "color": "#283442"
             }
            },
            "type": "scattergl"
           }
          ],
          "scattermapbox": [
           {
            "marker": {
             "colorbar": {
              "outlinewidth": 0,
              "ticks": ""
             }
            },
            "type": "scattermapbox"
           }
          ],
          "scatterpolar": [
           {
            "marker": {
             "colorbar": {
              "outlinewidth": 0,
              "ticks": ""
             }
            },
            "type": "scatterpolar"
           }
          ],
          "scatterpolargl": [
           {
            "marker": {
             "colorbar": {
              "outlinewidth": 0,
              "ticks": ""
             }
            },
            "type": "scatterpolargl"
           }
          ],
          "scatterternary": [
           {
            "marker": {
             "colorbar": {
              "outlinewidth": 0,
              "ticks": ""
             }
            },
            "type": "scatterternary"
           }
          ],
          "surface": [
           {
            "colorbar": {
             "outlinewidth": 0,
             "ticks": ""
            },
            "colorscale": [
             [
              0,
              "#0d0887"
             ],
             [
              0.1111111111111111,
              "#46039f"
             ],
             [
              0.2222222222222222,
              "#7201a8"
             ],
             [
              0.3333333333333333,
              "#9c179e"
             ],
             [
              0.4444444444444444,
              "#bd3786"
             ],
             [
              0.5555555555555556,
              "#d8576b"
             ],
             [
              0.6666666666666666,
              "#ed7953"
             ],
             [
              0.7777777777777778,
              "#fb9f3a"
             ],
             [
              0.8888888888888888,
              "#fdca26"
             ],
             [
              1,
              "#f0f921"
             ]
            ],
            "type": "surface"
           }
          ],
          "table": [
           {
            "cells": {
             "fill": {
              "color": "#506784"
             },
             "line": {
              "color": "rgb(17,17,17)"
             }
            },
            "header": {
             "fill": {
              "color": "#2a3f5f"
             },
             "line": {
              "color": "rgb(17,17,17)"
             }
            },
            "type": "table"
           }
          ]
         },
         "layout": {
          "annotationdefaults": {
           "arrowcolor": "#f2f5fa",
           "arrowhead": 0,
           "arrowwidth": 1
          },
          "coloraxis": {
           "colorbar": {
            "outlinewidth": 0,
            "ticks": ""
           }
          },
          "colorscale": {
           "diverging": [
            [
             0,
             "#8e0152"
            ],
            [
             0.1,
             "#c51b7d"
            ],
            [
             0.2,
             "#de77ae"
            ],
            [
             0.3,
             "#f1b6da"
            ],
            [
             0.4,
             "#fde0ef"
            ],
            [
             0.5,
             "#f7f7f7"
            ],
            [
             0.6,
             "#e6f5d0"
            ],
            [
             0.7,
             "#b8e186"
            ],
            [
             0.8,
             "#7fbc41"
            ],
            [
             0.9,
             "#4d9221"
            ],
            [
             1,
             "#276419"
            ]
           ],
           "sequential": [
            [
             0,
             "#0d0887"
            ],
            [
             0.1111111111111111,
             "#46039f"
            ],
            [
             0.2222222222222222,
             "#7201a8"
            ],
            [
             0.3333333333333333,
             "#9c179e"
            ],
            [
             0.4444444444444444,
             "#bd3786"
            ],
            [
             0.5555555555555556,
             "#d8576b"
            ],
            [
             0.6666666666666666,
             "#ed7953"
            ],
            [
             0.7777777777777778,
             "#fb9f3a"
            ],
            [
             0.8888888888888888,
             "#fdca26"
            ],
            [
             1,
             "#f0f921"
            ]
           ],
           "sequentialminus": [
            [
             0,
             "#0d0887"
            ],
            [
             0.1111111111111111,
             "#46039f"
            ],
            [
             0.2222222222222222,
             "#7201a8"
            ],
            [
             0.3333333333333333,
             "#9c179e"
            ],
            [
             0.4444444444444444,
             "#bd3786"
            ],
            [
             0.5555555555555556,
             "#d8576b"
            ],
            [
             0.6666666666666666,
             "#ed7953"
            ],
            [
             0.7777777777777778,
             "#fb9f3a"
            ],
            [
             0.8888888888888888,
             "#fdca26"
            ],
            [
             1,
             "#f0f921"
            ]
           ]
          },
          "colorway": [
           "#636efa",
           "#EF553B",
           "#00cc96",
           "#ab63fa",
           "#FFA15A",
           "#19d3f3",
           "#FF6692",
           "#B6E880",
           "#FF97FF",
           "#FECB52"
          ],
          "font": {
           "color": "#f2f5fa"
          },
          "geo": {
           "bgcolor": "rgb(17,17,17)",
           "lakecolor": "rgb(17,17,17)",
           "landcolor": "rgb(17,17,17)",
           "showlakes": true,
           "showland": true,
           "subunitcolor": "#506784"
          },
          "hoverlabel": {
           "align": "left"
          },
          "hovermode": "x",
          "mapbox": {
           "style": "dark"
          },
          "paper_bgcolor": "rgb(17,17,17)",
          "plot_bgcolor": "rgb(17,17,17)",
          "polar": {
           "angularaxis": {
            "gridcolor": "#506784",
            "linecolor": "#506784",
            "ticks": ""
           },
           "bgcolor": "rgb(17,17,17)",
           "radialaxis": {
            "gridcolor": "#506784",
            "linecolor": "#506784",
            "ticks": ""
           }
          },
          "scene": {
           "xaxis": {
            "backgroundcolor": "rgb(17,17,17)",
            "gridcolor": "#506784",
            "gridwidth": 2,
            "linecolor": "#506784",
            "showbackground": true,
            "ticks": "",
            "zerolinecolor": "#C8D4E3"
           },
           "yaxis": {
            "backgroundcolor": "rgb(17,17,17)",
            "gridcolor": "#506784",
            "gridwidth": 2,
            "linecolor": "#506784",
            "showbackground": true,
            "ticks": "",
            "zerolinecolor": "#C8D4E3"
           },
           "zaxis": {
            "backgroundcolor": "rgb(17,17,17)",
            "gridcolor": "#506784",
            "gridwidth": 2,
            "linecolor": "#506784",
            "showbackground": true,
            "ticks": "",
            "zerolinecolor": "#C8D4E3"
           }
          },
          "shapedefaults": {
           "line": {
            "color": "#f2f5fa"
           }
          },
          "sliderdefaults": {
           "bgcolor": "#C8D4E3",
           "bordercolor": "rgb(17,17,17)",
           "borderwidth": 1,
           "tickwidth": 0
          },
          "ternary": {
           "aaxis": {
            "gridcolor": "#506784",
            "linecolor": "#506784",
            "ticks": ""
           },
           "baxis": {
            "gridcolor": "#506784",
            "linecolor": "#506784",
            "ticks": ""
           },
           "bgcolor": "rgb(17,17,17)",
           "caxis": {
            "gridcolor": "#506784",
            "linecolor": "#506784",
            "ticks": ""
           }
          },
          "title": {
           "x": 0.05
          },
          "updatemenudefaults": {
           "bgcolor": "#506784",
           "borderwidth": 0
          },
          "xaxis": {
           "automargin": true,
           "gridcolor": "#283442",
           "linecolor": "#506784",
           "ticks": "",
           "title": {
            "standoff": 15
           },
           "zerolinecolor": "#283442",
           "zerolinewidth": 2
          },
          "yaxis": {
           "automargin": true,
           "gridcolor": "#283442",
           "linecolor": "#506784",
           "ticks": "",
           "title": {
            "standoff": 15
           },
           "zerolinecolor": "#283442",
           "zerolinewidth": 2
          }
         }
        },
        "xaxis": {
         "autorange": true,
         "range": [
          "1975-04-01",
          "2019-04-01"
         ],
         "type": "date"
        },
        "yaxis": {
         "autorange": true,
         "range": [
          41686.35860765015,
          149387.79230608986
         ],
         "tickformat": "$.3s",
         "title": {
          "text": "Amount [$K]"
         },
         "type": "linear"
        }
       }
      },
      "image/png": "[encoded data removed]",
      "text/html": [
       "<div>\n",
       "        \n",
       "        \n",
       "            <div id=\"a7153309-b747-461a-9e91-bdfefd3bb7bb\" class=\"plotly-graph-div\" style=\"height:525px; width:100%;\"></div>\n",
       "            <script type=\"text/javascript\">\n",
       "                require([\"plotly\"], function(Plotly) {\n",
       "                    window.PLOTLYENV=window.PLOTLYENV || {};\n",
       "                    window.PLOTLYENV.BASE_URL='https://plot.ly';\n",
       "                    \n",
       "                if (document.getElementById(\"a7153309-b747-461a-9e91-bdfefd3bb7bb\")) {\n",
       "                    Plotly.newPlot(\n",
       "                        'a7153309-b747-461a-9e91-bdfefd3bb7bb',\n",
       "                        [{\"line\": {\"color\": \"rgba(255, 153, 51, 1.0)\", \"dash\": \"solid\", \"shape\": \"linear\", \"width\": 1.3}, \"mode\": \"lines\", \"name\": \"Deflated GDP - Rent per household\", \"text\": \"\", \"type\": \"scatter\", \"x\": [\"1975-04-01\", \"1976-04-01\", \"1977-04-01\", \"1978-04-01\", \"1979-04-01\", \"1980-04-01\", \"1981-04-01\", \"1982-04-01\", \"1983-04-01\", \"1984-04-01\", \"1985-04-01\", \"1986-04-01\", \"1987-04-01\", \"1988-04-01\", \"1989-04-01\", \"1990-04-01\", \"1991-04-01\", \"1992-04-01\", \"1993-04-01\", \"1994-04-01\", \"1995-04-01\", \"1996-04-01\", \"1997-04-01\", \"1998-04-01\", \"1999-04-01\", \"2000-04-01\", \"2001-04-01\", \"2002-04-01\", \"2003-04-01\", \"2004-04-01\", \"2005-04-01\", \"2006-04-01\", \"2007-04-01\", \"2008-04-01\", \"2009-04-01\", \"2010-04-01\", \"2011-04-01\", \"2012-04-01\", \"2013-04-01\", \"2014-04-01\", \"2015-04-01\", \"2016-04-01\", \"2017-04-01\", \"2018-04-01\", \"2019-04-01\"], \"y\": [98279.72320953062, 93310.12615192587, 96794.20565376442, 89027.05506117268, 88907.97221141636, 87388.62403333938, 87582.23304889399, 89562.49998266243, 92267.77053554311, 96651.76031047464, 90525.34562271126, 92144.70740776733, 94708.40610685544, 97261.44059235814, 99007.24493746452, 95369.68836594111, 91822.02379677494, 89355.74537715595, 89036.49062598396, 93794.01749128646, 94262.80253120775, 96258.5893673255, 98565.94100991647, 99614.9994069792, 100990.69086282364, 104307.40126310094, 106115.22867817429, 109628.0212529752, 110329.55077863309, 113397.73212029674, 115604.10362069652, 115147.82770741076, 117555.20922036265, 121390.71157443145, 120130.34143744981, 119804.86751036826, 118570.886358239, 122418.47466648313, 122730.39789779075, 128333.6584587202, 131038.66835389467, 135518.48058359826, 139762.99395227863, 143701.2238291467, 144002.7206211679]}, {\"line\": {\"color\": \"rgba(55, 128, 191, 1.0)\", \"dash\": \"solid\", \"shape\": \"linear\", \"width\": 1.3}, \"mode\": \"lines\", \"name\": \"Deflated Consumption - Rent per household\", \"text\": \"\", \"type\": \"scatter\", \"x\": [\"1975-04-01\", \"1976-04-01\", \"1977-04-01\", \"1978-04-01\", \"1979-04-01\", \"1980-04-01\", \"1981-04-01\", \"1982-04-01\", \"1983-04-01\", \"1984-04-01\", \"1985-04-01\", \"1986-04-01\", \"1987-04-01\", \"1988-04-01\", \"1989-04-01\", \"1990-04-01\", \"1991-04-01\", \"1992-04-01\", \"1993-04-01\", \"1994-04-01\", \"1995-04-01\", \"1996-04-01\", \"1997-04-01\", \"1998-04-01\", \"1999-04-01\", \"2000-04-01\", \"2001-04-01\", \"2002-04-01\", \"2003-04-01\", \"2004-04-01\", \"2005-04-01\", \"2006-04-01\", \"2007-04-01\", \"2008-04-01\", \"2009-04-01\", \"2010-04-01\", \"2011-04-01\", \"2012-04-01\", \"2013-04-01\", \"2014-04-01\", \"2015-04-01\", \"2016-04-01\", \"2017-04-01\", \"2018-04-01\", \"2019-04-01\"], \"y\": [54775.34087160413, 51240.24676258371, 50172.391108150405, 48758.24551963504, 48715.931297227806, 48084.01138301384, 49028.38002765706, 48179.37486030006, 50718.32668844512, 52106.497526717576, 48529.9592404391, 50774.075670509235, 48376.07720777985, 50531.83969635896, 51329.47164115478, 50110.623947796186, 49941.25238946484, 48374.72844150307, 47071.430292572135, 47448.31702653132, 48070.69974787714, 48591.88926079659, 50776.65706727554, 51774.28756889171, 54396.46862225447, 54966.004263156334, 54741.59598511762, 54915.10109312168, 55891.09628032878, 57409.28691144693, 58596.77040714371, 59238.994107969316, 60656.67092515668, 60492.89703166401, 61537.47164733027, 61756.7879998277, 60820.44286159095, 63555.72041768059, 64344.72653834765, 65348.1989674016, 66213.00287183306, 68110.26052307898, 70678.15278844799, 72355.85579977641, 73156.17041986297]}],\n",
       "                        {\"legend\": {\"x\": 0}, \"template\": {\"data\": {\"bar\": [{\"error_x\": {\"color\": \"#f2f5fa\"}, \"error_y\": {\"color\": \"#f2f5fa\"}, \"marker\": {\"line\": {\"color\": \"rgb(17,17,17)\", \"width\": 0.5}}, \"type\": \"bar\"}], \"barpolar\": [{\"marker\": {\"line\": {\"color\": \"rgb(17,17,17)\", \"width\": 0.5}}, \"type\": \"barpolar\"}], \"carpet\": [{\"aaxis\": {\"endlinecolor\": \"#A2B1C6\", \"gridcolor\": \"#506784\", \"linecolor\": \"#506784\", \"minorgridcolor\": \"#506784\", \"startlinecolor\": \"#A2B1C6\"}, \"baxis\": {\"endlinecolor\": \"#A2B1C6\", \"gridcolor\": \"#506784\", \"linecolor\": \"#506784\", \"minorgridcolor\": \"#506784\", \"startlinecolor\": \"#A2B1C6\"}, \"type\": \"carpet\"}], \"choropleth\": [{\"colorbar\": {\"outlinewidth\": 0, \"ticks\": \"\"}, \"type\": \"choropleth\"}], \"contour\": [{\"colorbar\": {\"outlinewidth\": 0, \"ticks\": \"\"}, \"colorscale\": [[0.0, \"#0d0887\"], [0.1111111111111111, \"#46039f\"], [0.2222222222222222, \"#7201a8\"], [0.3333333333333333, \"#9c179e\"], [0.4444444444444444, \"#bd3786\"], [0.5555555555555556, \"#d8576b\"], [0.6666666666666666, \"#ed7953\"], [0.7777777777777778, \"#fb9f3a\"], [0.8888888888888888, \"#fdca26\"], [1.0, \"#f0f921\"]], \"type\": \"contour\"}], \"contourcarpet\": [{\"colorbar\": {\"outlinewidth\": 0, \"ticks\": \"\"}, \"type\": \"contourcarpet\"}], \"heatmap\": [{\"colorbar\": {\"outlinewidth\": 0, \"ticks\": \"\"}, \"colorscale\": [[0.0, \"#0d0887\"], [0.1111111111111111, \"#46039f\"], [0.2222222222222222, \"#7201a8\"], [0.3333333333333333, \"#9c179e\"], [0.4444444444444444, \"#bd3786\"], [0.5555555555555556, \"#d8576b\"], [0.6666666666666666, \"#ed7953\"], [0.7777777777777778, \"#fb9f3a\"], [0.8888888888888888, \"#fdca26\"], [1.0, \"#f0f921\"]], \"type\": \"heatmap\"}], \"heatmapgl\": [{\"colorbar\": {\"outlinewidth\": 0, \"ticks\": \"\"}, \"colorscale\": [[0.0, \"#0d0887\"], [0.1111111111111111, \"#46039f\"], [0.2222222222222222, \"#7201a8\"], [0.3333333333333333, \"#9c179e\"], [0.4444444444444444, \"#bd3786\"], [0.5555555555555556, \"#d8576b\"], [0.6666666666666666, \"#ed7953\"], [0.7777777777777778, \"#fb9f3a\"], [0.8888888888888888, \"#fdca26\"], [1.0, \"#f0f921\"]], \"type\": \"heatmapgl\"}], \"histogram\": [{\"marker\": {\"colorbar\": {\"outlinewidth\": 0, \"ticks\": \"\"}}, \"type\": \"histogram\"}], \"histogram2d\": [{\"colorbar\": {\"outlinewidth\": 0, \"ticks\": \"\"}, \"colorscale\": [[0.0, \"#0d0887\"], [0.1111111111111111, \"#46039f\"], [0.2222222222222222, \"#7201a8\"], [0.3333333333333333, \"#9c179e\"], [0.4444444444444444, \"#bd3786\"], [0.5555555555555556, \"#d8576b\"], [0.6666666666666666, \"#ed7953\"], [0.7777777777777778, \"#fb9f3a\"], [0.8888888888888888, \"#fdca26\"], [1.0, \"#f0f921\"]], \"type\": \"histogram2d\"}], \"histogram2dcontour\": [{\"colorbar\": {\"outlinewidth\": 0, \"ticks\": \"\"}, \"colorscale\": [[0.0, \"#0d0887\"], [0.1111111111111111, \"#46039f\"], [0.2222222222222222, \"#7201a8\"], [0.3333333333333333, \"#9c179e\"], [0.4444444444444444, \"#bd3786\"], [0.5555555555555556, \"#d8576b\"], [0.6666666666666666, \"#ed7953\"], [0.7777777777777778, \"#fb9f3a\"], [0.8888888888888888, \"#fdca26\"], [1.0, \"#f0f921\"]], \"type\": \"histogram2dcontour\"}], \"mesh3d\": [{\"colorbar\": {\"outlinewidth\": 0, \"ticks\": \"\"}, \"type\": \"mesh3d\"}], \"parcoords\": [{\"line\": {\"colorbar\": {\"outlinewidth\": 0, \"ticks\": \"\"}}, \"type\": \"parcoords\"}], \"pie\": [{\"automargin\": true, \"type\": \"pie\"}], \"scatter\": [{\"hoverlabel\": {\"namelength\": -1}, \"marker\": {\"line\": {\"color\": \"#283442\"}}, \"type\": \"scatter\"}], \"scatter3d\": [{\"line\": {\"colorbar\": {\"outlinewidth\": 0, \"ticks\": \"\"}}, \"marker\": {\"colorbar\": {\"outlinewidth\": 0, \"ticks\": \"\"}}, \"type\": \"scatter3d\"}], \"scattercarpet\": [{\"marker\": {\"colorbar\": {\"outlinewidth\": 0, \"ticks\": \"\"}}, \"type\": \"scattercarpet\"}], \"scattergeo\": [{\"marker\": {\"colorbar\": {\"outlinewidth\": 0, \"ticks\": \"\"}}, \"type\": \"scattergeo\"}], \"scattergl\": [{\"marker\": {\"line\": {\"color\": \"#283442\"}}, \"type\": \"scattergl\"}], \"scattermapbox\": [{\"marker\": {\"colorbar\": {\"outlinewidth\": 0, \"ticks\": \"\"}}, \"type\": \"scattermapbox\"}], \"scatterpolar\": [{\"marker\": {\"colorbar\": {\"outlinewidth\": 0, \"ticks\": \"\"}}, \"type\": \"scatterpolar\"}], \"scatterpolargl\": [{\"marker\": {\"colorbar\": {\"outlinewidth\": 0, \"ticks\": \"\"}}, \"type\": \"scatterpolargl\"}], \"scatterternary\": [{\"marker\": {\"colorbar\": {\"outlinewidth\": 0, \"ticks\": \"\"}}, \"type\": \"scatterternary\"}], \"surface\": [{\"colorbar\": {\"outlinewidth\": 0, \"ticks\": \"\"}, \"colorscale\": [[0.0, \"#0d0887\"], [0.1111111111111111, \"#46039f\"], [0.2222222222222222, \"#7201a8\"], [0.3333333333333333, \"#9c179e\"], [0.4444444444444444, \"#bd3786\"], [0.5555555555555556, \"#d8576b\"], [0.6666666666666666, \"#ed7953\"], [0.7777777777777778, \"#fb9f3a\"], [0.8888888888888888, \"#fdca26\"], [1.0, \"#f0f921\"]], \"type\": \"surface\"}], \"table\": [{\"cells\": {\"fill\": {\"color\": \"#506784\"}, \"line\": {\"color\": \"rgb(17,17,17)\"}}, \"header\": {\"fill\": {\"color\": \"#2a3f5f\"}, \"line\": {\"color\": \"rgb(17,17,17)\"}}, \"type\": \"table\"}]}, \"layout\": {\"annotationdefaults\": {\"arrowcolor\": \"#f2f5fa\", \"arrowhead\": 0, \"arrowwidth\": 1}, \"coloraxis\": {\"colorbar\": {\"outlinewidth\": 0, \"ticks\": \"\"}}, \"colorscale\": {\"diverging\": [[0, \"#8e0152\"], [0.1, \"#c51b7d\"], [0.2, \"#de77ae\"], [0.3, \"#f1b6da\"], [0.4, \"#fde0ef\"], [0.5, \"#f7f7f7\"], [0.6, \"#e6f5d0\"], [0.7, \"#b8e186\"], [0.8, \"#7fbc41\"], [0.9, \"#4d9221\"], [1, \"#276419\"]], \"sequential\": [[0.0, \"#0d0887\"], [0.1111111111111111, \"#46039f\"], [0.2222222222222222, \"#7201a8\"], [0.3333333333333333, \"#9c179e\"], [0.4444444444444444, \"#bd3786\"], [0.5555555555555556, \"#d8576b\"], [0.6666666666666666, \"#ed7953\"], [0.7777777777777778, \"#fb9f3a\"], [0.8888888888888888, \"#fdca26\"], [1.0, \"#f0f921\"]], \"sequentialminus\": [[0.0, \"#0d0887\"], [0.1111111111111111, \"#46039f\"], [0.2222222222222222, \"#7201a8\"], [0.3333333333333333, \"#9c179e\"], [0.4444444444444444, \"#bd3786\"], [0.5555555555555556, \"#d8576b\"], [0.6666666666666666, \"#ed7953\"], [0.7777777777777778, \"#fb9f3a\"], [0.8888888888888888, \"#fdca26\"], [1.0, \"#f0f921\"]]}, \"colorway\": [\"#636efa\", \"#EF553B\", \"#00cc96\", \"#ab63fa\", \"#FFA15A\", \"#19d3f3\", \"#FF6692\", \"#B6E880\", \"#FF97FF\", \"#FECB52\"], \"font\": {\"color\": \"#f2f5fa\"}, \"geo\": {\"bgcolor\": \"rgb(17,17,17)\", \"lakecolor\": \"rgb(17,17,17)\", \"landcolor\": \"rgb(17,17,17)\", \"showlakes\": true, \"showland\": true, \"subunitcolor\": \"#506784\"}, \"hoverlabel\": {\"align\": \"left\"}, \"hovermode\": \"x\", \"mapbox\": {\"style\": \"dark\"}, \"paper_bgcolor\": \"rgb(17,17,17)\", \"plot_bgcolor\": \"rgb(17,17,17)\", \"polar\": {\"angularaxis\": {\"gridcolor\": \"#506784\", \"linecolor\": \"#506784\", \"ticks\": \"\"}, \"bgcolor\": \"rgb(17,17,17)\", \"radialaxis\": {\"gridcolor\": \"#506784\", \"linecolor\": \"#506784\", \"ticks\": \"\"}}, \"scene\": {\"xaxis\": {\"backgroundcolor\": \"rgb(17,17,17)\", \"gridcolor\": \"#506784\", \"gridwidth\": 2, \"linecolor\": \"#506784\", \"showbackground\": true, \"ticks\": \"\", \"zerolinecolor\": \"#C8D4E3\"}, \"yaxis\": {\"backgroundcolor\": \"rgb(17,17,17)\", \"gridcolor\": \"#506784\", \"gridwidth\": 2, \"linecolor\": \"#506784\", \"showbackground\": true, \"ticks\": \"\", \"zerolinecolor\": \"#C8D4E3\"}, \"zaxis\": {\"backgroundcolor\": \"rgb(17,17,17)\", \"gridcolor\": \"#506784\", \"gridwidth\": 2, \"linecolor\": \"#506784\", \"showbackground\": true, \"ticks\": \"\", \"zerolinecolor\": \"#C8D4E3\"}}, \"shapedefaults\": {\"line\": {\"color\": \"#f2f5fa\"}}, \"sliderdefaults\": {\"bgcolor\": \"#C8D4E3\", \"bordercolor\": \"rgb(17,17,17)\", \"borderwidth\": 1, \"tickwidth\": 0}, \"ternary\": {\"aaxis\": {\"gridcolor\": \"#506784\", \"linecolor\": \"#506784\", \"ticks\": \"\"}, \"baxis\": {\"gridcolor\": \"#506784\", \"linecolor\": \"#506784\", \"ticks\": \"\"}, \"bgcolor\": \"rgb(17,17,17)\", \"caxis\": {\"gridcolor\": \"#506784\", \"linecolor\": \"#506784\", \"ticks\": \"\"}}, \"title\": {\"x\": 0.05}, \"updatemenudefaults\": {\"bgcolor\": \"#506784\", \"borderwidth\": 0}, \"xaxis\": {\"automargin\": true, \"gridcolor\": \"#283442\", \"linecolor\": \"#506784\", \"ticks\": \"\", \"title\": {\"standoff\": 15}, \"zerolinecolor\": \"#283442\", \"zerolinewidth\": 2}, \"yaxis\": {\"automargin\": true, \"gridcolor\": \"#283442\", \"linecolor\": \"#506784\", \"ticks\": \"\", \"title\": {\"standoff\": 15}, \"zerolinecolor\": \"#283442\", \"zerolinewidth\": 2}}}, \"yaxis\": {\"tickformat\": \"$.3s\", \"title\": {\"text\": \"Amount [$K]\"}}},\n",
       "                        {\"showLink\": true, \"linkText\": \"Export to plot.ly\", \"plotlyServerURL\": \"https://plot.ly\", \"responsive\": true}\n",
       "                    ).then(function(){\n",
       "                            \n",
       "var gd = document.getElementById('a7153309-b747-461a-9e91-bdfefd3bb7bb');\n",
       "var x = new MutationObserver(function (mutations, observer) {{\n",
       "        var display = window.getComputedStyle(gd).display;\n",
       "        if (!display || display === 'none') {{\n",
       "            console.log([gd, 'removed!']);\n",
       "            Plotly.purge(gd);\n",
       "            observer.disconnect();\n",
       "        }}\n",
       "}});\n",
       "\n",
       "// Listen for the removal of the full notebook cells\n",
       "var notebookContainer = gd.closest('#notebook-container');\n",
       "if (notebookContainer) {{\n",
       "    x.observe(notebookContainer, {childList: true});\n",
       "}}\n",
       "\n",
       "// Listen for the clearing of the current output cell\n",
       "var outputEl = gd.closest('.output');\n",
       "if (outputEl) {{\n",
       "    x.observe(outputEl, {childList: true});\n",
       "}}\n",
       "\n",
       "                        })\n",
       "                };\n",
       "                });\n",
       "            </script>\n",
       "        </div>"
      ]
     },
     "metadata": {},
     "output_type": "display_data"
    },
    {
     "data": {
      "application/vnd.plotly.v1+json": {
       "config": {
        "linkText": "Export to plot.ly",
        "plotlyServerURL": "https://plot.ly",
        "showLink": true
       },
       "data": [
        {
         "line": {
          "color": "rgba(255, 153, 51, 1.0)",
          "dash": "solid",
          "shape": "linear",
          "width": 1.3
         },
         "mode": "lines",
         "name": "GDP",
         "text": "",
         "type": "scatter",
         "x": [
          "1975-04-01",
          "1976-04-01",
          "1977-04-01",
          "1978-04-01",
          "1979-04-01",
          "1980-04-01",
          "1981-04-01",
          "1982-04-01",
          "1983-04-01",
          "1984-04-01",
          "1985-04-01",
          "1986-04-01",
          "1987-04-01",
          "1988-04-01",
          "1989-04-01",
          "1990-04-01",
          "1991-04-01",
          "1992-04-01",
          "1993-04-01",
          "1994-04-01",
          "1995-04-01",
          "1996-04-01",
          "1997-04-01",
          "1998-04-01",
          "1999-04-01",
          "2000-04-01",
          "2001-04-01",
          "2002-04-01",
          "2003-04-01",
          "2004-04-01",
          "2005-04-01",
          "2006-04-01",
          "2007-04-01",
          "2008-04-01",
          "2009-04-01",
          "2010-04-01",
          "2011-04-01",
          "2012-04-01",
          "2013-04-01",
          "2014-04-01",
          "2015-04-01",
          "2016-04-01",
          "2017-04-01",
          "2018-04-01",
          "2019-04-01"
         ],
         "y": [
          10511422285.106478,
          12149309085.945751,
          14682671187.943182,
          15587517742.25299,
          17657523438.418587,
          20611550681.890312,
          23940428051.42824,
          29041513516.979168,
          32704632248.926125,
          36276120950.056915,
          40969036278.33575,
          47149898357.02738,
          58151749557.07047,
          65167000000,
          70629000000,
          74635000000,
          76166000000,
          75987000000,
          78309000000,
          84460000000,
          90337000000,
          96235000000,
          101101000000,
          104814000000,
          106827000000,
          113228000000,
          119838000000,
          128712000000,
          135180000000,
          144502000000,
          154559000000,
          162936000000,
          172112000000,
          186845000000,
          189617000000,
          194252000000,
          203434000000,
          213241000000,
          217472000000,
          232645000000,
          242091000000,
          254353000000,
          270232000000,
          285755000000,
          296755000000
         ]
        },
        {
         "line": {
          "color": "rgba(55, 128, 191, 1.0)",
          "dash": "solid",
          "shape": "linear",
          "width": 1.3
         },
         "mode": "lines",
         "name": "Consumption",
         "text": "",
         "type": "scatter",
         "x": [
          "1975-04-01",
          "1976-04-01",
          "1977-04-01",
          "1978-04-01",
          "1979-04-01",
          "1980-04-01",
          "1981-04-01",
          "1982-04-01",
          "1983-04-01",
          "1984-04-01",
          "1985-04-01",
          "1986-04-01",
          "1987-04-01",
          "1988-04-01",
          "1989-04-01",
          "1990-04-01",
          "1991-04-01",
          "1992-04-01",
          "1993-04-01",
          "1994-04-01",
          "1995-04-01",
          "1996-04-01",
          "1997-04-01",
          "1998-04-01",
          "1999-04-01",
          "2000-04-01",
          "2001-04-01",
          "2002-04-01",
          "2003-04-01",
          "2004-04-01",
          "2005-04-01",
          "2006-04-01",
          "2007-04-01",
          "2008-04-01",
          "2009-04-01",
          "2010-04-01",
          "2011-04-01",
          "2012-04-01",
          "2013-04-01",
          "2014-04-01",
          "2015-04-01",
          "2016-04-01",
          "2017-04-01",
          "2018-04-01",
          "2019-04-01"
         ],
         "y": [
          6351128912.098117,
          7265569142.299081,
          8356372984.344828,
          9327902013.75566,
          10525747354.319914,
          12286325144.238605,
          14444485642.940329,
          16955373365.331604,
          19387763988.80931,
          21120816821.9661,
          24040501124.413776,
          28409833149.65495,
          32735329132.645687,
          37502000000,
          40704000000,
          43544000000,
          45844000000,
          45655000000,
          46449000000,
          48424000000,
          52180000000,
          55501000000,
          59287000000,
          61676000000,
          64500000000,
          66868000000,
          69484000000,
          72858000000,
          77785000000,
          82916000000,
          88793000000,
          94791000000,
          100508000000,
          106174000000,
          109860000000,
          113390000000,
          118143000000,
          124941000000,
          128614000000,
          134381000000,
          139452000000,
          145956000000,
          155740000000,
          164161000000,
          172307000000
         ]
        },
        {
         "line": {
          "color": "rgba(50, 171, 96, 1.0)",
          "dash": "solid",
          "shape": "linear",
          "width": 1.3
         },
         "mode": "lines",
         "name": "Consumption - Rent",
         "text": "",
         "type": "scatter",
         "x": [
          "1975-04-01",
          "1976-04-01",
          "1977-04-01",
          "1978-04-01",
          "1979-04-01",
          "1980-04-01",
          "1981-04-01",
          "1982-04-01",
          "1983-04-01",
          "1984-04-01",
          "1985-04-01",
          "1986-04-01",
          "1987-04-01",
          "1988-04-01",
          "1989-04-01",
          "1990-04-01",
          "1991-04-01",
          "1992-04-01",
          "1993-04-01",
          "1994-04-01",
          "1995-04-01",
          "1996-04-01",
          "1997-04-01",
          "1998-04-01",
          "1999-04-01",
          "2000-04-01",
          "2001-04-01",
          "2002-04-01",
          "2003-04-01",
          "2004-04-01",
          "2005-04-01",
          "2006-04-01",
          "2007-04-01",
          "2008-04-01",
          "2009-04-01",
          "2010-04-01",
          "2011-04-01",
          "2012-04-01",
          "2013-04-01",
          "2014-04-01",
          "2015-04-01",
          "2016-04-01",
          "2017-04-01",
          "2018-04-01",
          "2019-04-01"
         ],
         "y": [
          5238127181.356275,
          5948294681.827351,
          6808089964.563295,
          7579262561.358251,
          8644276474.587124,
          10184815789.433472,
          12075853297.143515,
          14071017480.158611,
          16255555125.336878,
          17727806902.846886,
          19562651800.412468,
          22999636431.765743,
          26537554791.9392,
          29916012942.44007,
          32216991957.979004,
          34423809444.37539,
          36157850108.010086,
          35804437586.10441,
          35736771428.57143,
          36893337142.85715,
          39708815571.42857,
          41524628571.42857,
          44427850000,
          46684907714.28571,
          49414696000,
          51644746857.14285,
          53655118000,
          56060397571.42857,
          58926534571.42857,
          63148893142.85715,
          67599640000,
          72203997000,
          76333424285.71428,
          80134608000,
          83765211428.57143,
          86028296428.57143,
          89825048571.42857,
          95339917142.85715,
          97927172500,
          101950124285.71428,
          104835582500,
          109525928785.7143,
          117132542142.85715,
          123316175571.42856,
          128505044642.85715
         ]
        }
       ],
       "layout": {
        "autosize": true,
        "legend": {
         "x": 0,
         "y": 1
        },
        "template": {
         "data": {
          "bar": [
           {
            "error_x": {
             "color": "#f2f5fa"
            },
            "error_y": {
             "color": "#f2f5fa"
            },
            "marker": {
             "line": {
              "color": "rgb(17,17,17)",
              "width": 0.5
             }
            },
            "type": "bar"
           }
          ],
          "barpolar": [
           {
            "marker": {
             "line": {
              "color": "rgb(17,17,17)",
              "width": 0.5
             }
            },
            "type": "barpolar"
           }
          ],
          "carpet": [
           {
            "aaxis": {
             "endlinecolor": "#A2B1C6",
             "gridcolor": "#506784",
             "linecolor": "#506784",
             "minorgridcolor": "#506784",
             "startlinecolor": "#A2B1C6"
            },
            "baxis": {
             "endlinecolor": "#A2B1C6",
             "gridcolor": "#506784",
             "linecolor": "#506784",
             "minorgridcolor": "#506784",
             "startlinecolor": "#A2B1C6"
            },
            "type": "carpet"
           }
          ],
          "choropleth": [
           {
            "colorbar": {
             "outlinewidth": 0,
             "ticks": ""
            },
            "type": "choropleth"
           }
          ],
          "contour": [
           {
            "colorbar": {
             "outlinewidth": 0,
             "ticks": ""
            },
            "colorscale": [
             [
              0,
              "#0d0887"
             ],
             [
              0.1111111111111111,
              "#46039f"
             ],
             [
              0.2222222222222222,
              "#7201a8"
             ],
             [
              0.3333333333333333,
              "#9c179e"
             ],
             [
              0.4444444444444444,
              "#bd3786"
             ],
             [
              0.5555555555555556,
              "#d8576b"
             ],
             [
              0.6666666666666666,
              "#ed7953"
             ],
             [
              0.7777777777777778,
              "#fb9f3a"
             ],
             [
              0.8888888888888888,
              "#fdca26"
             ],
             [
              1,
              "#f0f921"
             ]
            ],
            "type": "contour"
           }
          ],
          "contourcarpet": [
           {
            "colorbar": {
             "outlinewidth": 0,
             "ticks": ""
            },
            "type": "contourcarpet"
           }
          ],
          "heatmap": [
           {
            "colorbar": {
             "outlinewidth": 0,
             "ticks": ""
            },
            "colorscale": [
             [
              0,
              "#0d0887"
             ],
             [
              0.1111111111111111,
              "#46039f"
             ],
             [
              0.2222222222222222,
              "#7201a8"
             ],
             [
              0.3333333333333333,
              "#9c179e"
             ],
             [
              0.4444444444444444,
              "#bd3786"
             ],
             [
              0.5555555555555556,
              "#d8576b"
             ],
             [
              0.6666666666666666,
              "#ed7953"
             ],
             [
              0.7777777777777778,
              "#fb9f3a"
             ],
             [
              0.8888888888888888,
              "#fdca26"
             ],
             [
              1,
              "#f0f921"
             ]
            ],
            "type": "heatmap"
           }
          ],
          "heatmapgl": [
           {
            "colorbar": {
             "outlinewidth": 0,
             "ticks": ""
            },
            "colorscale": [
             [
              0,
              "#0d0887"
             ],
             [
              0.1111111111111111,
              "#46039f"
             ],
             [
              0.2222222222222222,
              "#7201a8"
             ],
             [
              0.3333333333333333,
              "#9c179e"
             ],
             [
              0.4444444444444444,
              "#bd3786"
             ],
             [
              0.5555555555555556,
              "#d8576b"
             ],
             [
              0.6666666666666666,
              "#ed7953"
             ],
             [
              0.7777777777777778,
              "#fb9f3a"
             ],
             [
              0.8888888888888888,
              "#fdca26"
             ],
             [
              1,
              "#f0f921"
             ]
            ],
            "type": "heatmapgl"
           }
          ],
          "histogram": [
           {
            "marker": {
             "colorbar": {
              "outlinewidth": 0,
              "ticks": ""
             }
            },
            "type": "histogram"
           }
          ],
          "histogram2d": [
           {
            "colorbar": {
             "outlinewidth": 0,
             "ticks": ""
            },
            "colorscale": [
             [
              0,
              "#0d0887"
             ],
             [
              0.1111111111111111,
              "#46039f"
             ],
             [
              0.2222222222222222,
              "#7201a8"
             ],
             [
              0.3333333333333333,
              "#9c179e"
             ],
             [
              0.4444444444444444,
              "#bd3786"
             ],
             [
              0.5555555555555556,
              "#d8576b"
             ],
             [
              0.6666666666666666,
              "#ed7953"
             ],
             [
              0.7777777777777778,
              "#fb9f3a"
             ],
             [
              0.8888888888888888,
              "#fdca26"
             ],
             [
              1,
              "#f0f921"
             ]
            ],
            "type": "histogram2d"
           }
          ],
          "histogram2dcontour": [
           {
            "colorbar": {
             "outlinewidth": 0,
             "ticks": ""
            },
            "colorscale": [
             [
              0,
              "#0d0887"
             ],
             [
              0.1111111111111111,
              "#46039f"
             ],
             [
              0.2222222222222222,
              "#7201a8"
             ],
             [
              0.3333333333333333,
              "#9c179e"
             ],
             [
              0.4444444444444444,
              "#bd3786"
             ],
             [
              0.5555555555555556,
              "#d8576b"
             ],
             [
              0.6666666666666666,
              "#ed7953"
             ],
             [
              0.7777777777777778,
              "#fb9f3a"
             ],
             [
              0.8888888888888888,
              "#fdca26"
             ],
             [
              1,
              "#f0f921"
             ]
            ],
            "type": "histogram2dcontour"
           }
          ],
          "mesh3d": [
           {
            "colorbar": {
             "outlinewidth": 0,
             "ticks": ""
            },
            "type": "mesh3d"
           }
          ],
          "parcoords": [
           {
            "line": {
             "colorbar": {
              "outlinewidth": 0,
              "ticks": ""
             }
            },
            "type": "parcoords"
           }
          ],
          "pie": [
           {
            "automargin": true,
            "type": "pie"
           }
          ],
          "scatter": [
           {
            "hoverlabel": {
             "namelength": -1
            },
            "marker": {
             "line": {
              "color": "#283442"
             }
            },
            "type": "scatter"
           }
          ],
          "scatter3d": [
           {
            "line": {
             "colorbar": {
              "outlinewidth": 0,
              "ticks": ""
             }
            },
            "marker": {
             "colorbar": {
              "outlinewidth": 0,
              "ticks": ""
             }
            },
            "type": "scatter3d"
           }
          ],
          "scattercarpet": [
           {
            "marker": {
             "colorbar": {
              "outlinewidth": 0,
              "ticks": ""
             }
            },
            "type": "scattercarpet"
           }
          ],
          "scattergeo": [
           {
            "marker": {
             "colorbar": {
              "outlinewidth": 0,
              "ticks": ""
             }
            },
            "type": "scattergeo"
           }
          ],
          "scattergl": [
           {
            "marker": {
             "line": {
              "color": "#283442"
             }
            },
            "type": "scattergl"
           }
          ],
          "scattermapbox": [
           {
            "marker": {
             "colorbar": {
              "outlinewidth": 0,
              "ticks": ""
             }
            },
            "type": "scattermapbox"
           }
          ],
          "scatterpolar": [
           {
            "marker": {
             "colorbar": {
              "outlinewidth": 0,
              "ticks": ""
             }
            },
            "type": "scatterpolar"
           }
          ],
          "scatterpolargl": [
           {
            "marker": {
             "colorbar": {
              "outlinewidth": 0,
              "ticks": ""
             }
            },
            "type": "scatterpolargl"
           }
          ],
          "scatterternary": [
           {
            "marker": {
             "colorbar": {
              "outlinewidth": 0,
              "ticks": ""
             }
            },
            "type": "scatterternary"
           }
          ],
          "surface": [
           {
            "colorbar": {
             "outlinewidth": 0,
             "ticks": ""
            },
            "colorscale": [
             [
              0,
              "#0d0887"
             ],
             [
              0.1111111111111111,
              "#46039f"
             ],
             [
              0.2222222222222222,
              "#7201a8"
             ],
             [
              0.3333333333333333,
              "#9c179e"
             ],
             [
              0.4444444444444444,
              "#bd3786"
             ],
             [
              0.5555555555555556,
              "#d8576b"
             ],
             [
              0.6666666666666666,
              "#ed7953"
             ],
             [
              0.7777777777777778,
              "#fb9f3a"
             ],
             [
              0.8888888888888888,
              "#fdca26"
             ],
             [
              1,
              "#f0f921"
             ]
            ],
            "type": "surface"
           }
          ],
          "table": [
           {
            "cells": {
             "fill": {
              "color": "#506784"
             },
             "line": {
              "color": "rgb(17,17,17)"
             }
            },
            "header": {
             "fill": {
              "color": "#2a3f5f"
             },
             "line": {
              "color": "rgb(17,17,17)"
             }
            },
            "type": "table"
           }
          ]
         },
         "layout": {
          "annotationdefaults": {
           "arrowcolor": "#f2f5fa",
           "arrowhead": 0,
           "arrowwidth": 1
          },
          "coloraxis": {
           "colorbar": {
            "outlinewidth": 0,
            "ticks": ""
           }
          },
          "colorscale": {
           "diverging": [
            [
             0,
             "#8e0152"
            ],
            [
             0.1,
             "#c51b7d"
            ],
            [
             0.2,
             "#de77ae"
            ],
            [
             0.3,
             "#f1b6da"
            ],
            [
             0.4,
             "#fde0ef"
            ],
            [
             0.5,
             "#f7f7f7"
            ],
            [
             0.6,
             "#e6f5d0"
            ],
            [
             0.7,
             "#b8e186"
            ],
            [
             0.8,
             "#7fbc41"
            ],
            [
             0.9,
             "#4d9221"
            ],
            [
             1,
             "#276419"
            ]
           ],
           "sequential": [
            [
             0,
             "#0d0887"
            ],
            [
             0.1111111111111111,
             "#46039f"
            ],
            [
             0.2222222222222222,
             "#7201a8"
            ],
            [
             0.3333333333333333,
             "#9c179e"
            ],
            [
             0.4444444444444444,
             "#bd3786"
            ],
            [
             0.5555555555555556,
             "#d8576b"
            ],
            [
             0.6666666666666666,
             "#ed7953"
            ],
            [
             0.7777777777777778,
             "#fb9f3a"
            ],
            [
             0.8888888888888888,
             "#fdca26"
            ],
            [
             1,
             "#f0f921"
            ]
           ],
           "sequentialminus": [
            [
             0,
             "#0d0887"
            ],
            [
             0.1111111111111111,
             "#46039f"
            ],
            [
             0.2222222222222222,
             "#7201a8"
            ],
            [
             0.3333333333333333,
             "#9c179e"
            ],
            [
             0.4444444444444444,
             "#bd3786"
            ],
            [
             0.5555555555555556,
             "#d8576b"
            ],
            [
             0.6666666666666666,
             "#ed7953"
            ],
            [
             0.7777777777777778,
             "#fb9f3a"
            ],
            [
             0.8888888888888888,
             "#fdca26"
            ],
            [
             1,
             "#f0f921"
            ]
           ]
          },
          "colorway": [
           "#636efa",
           "#EF553B",
           "#00cc96",
           "#ab63fa",
           "#FFA15A",
           "#19d3f3",
           "#FF6692",
           "#B6E880",
           "#FF97FF",
           "#FECB52"
          ],
          "font": {
           "color": "#f2f5fa"
          },
          "geo": {
           "bgcolor": "rgb(17,17,17)",
           "lakecolor": "rgb(17,17,17)",
           "landcolor": "rgb(17,17,17)",
           "showlakes": true,
           "showland": true,
           "subunitcolor": "#506784"
          },
          "hoverlabel": {
           "align": "left"
          },
          "hovermode": "x",
          "mapbox": {
           "style": "dark"
          },
          "paper_bgcolor": "rgb(17,17,17)",
          "plot_bgcolor": "rgb(17,17,17)",
          "polar": {
           "angularaxis": {
            "gridcolor": "#506784",
            "linecolor": "#506784",
            "ticks": ""
           },
           "bgcolor": "rgb(17,17,17)",
           "radialaxis": {
            "gridcolor": "#506784",
            "linecolor": "#506784",
            "ticks": ""
           }
          },
          "scene": {
           "xaxis": {
            "backgroundcolor": "rgb(17,17,17)",
            "gridcolor": "#506784",
            "gridwidth": 2,
            "linecolor": "#506784",
            "showbackground": true,
            "ticks": "",
            "zerolinecolor": "#C8D4E3"
           },
           "yaxis": {
            "backgroundcolor": "rgb(17,17,17)",
            "gridcolor": "#506784",
            "gridwidth": 2,
            "linecolor": "#506784",
            "showbackground": true,
            "ticks": "",
            "zerolinecolor": "#C8D4E3"
           },
           "zaxis": {
            "backgroundcolor": "rgb(17,17,17)",
            "gridcolor": "#506784",
            "gridwidth": 2,
            "linecolor": "#506784",
            "showbackground": true,
            "ticks": "",
            "zerolinecolor": "#C8D4E3"
           }
          },
          "shapedefaults": {
           "line": {
            "color": "#f2f5fa"
           }
          },
          "sliderdefaults": {
           "bgcolor": "#C8D4E3",
           "bordercolor": "rgb(17,17,17)",
           "borderwidth": 1,
           "tickwidth": 0
          },
          "ternary": {
           "aaxis": {
            "gridcolor": "#506784",
            "linecolor": "#506784",
            "ticks": ""
           },
           "baxis": {
            "gridcolor": "#506784",
            "linecolor": "#506784",
            "ticks": ""
           },
           "bgcolor": "rgb(17,17,17)",
           "caxis": {
            "gridcolor": "#506784",
            "linecolor": "#506784",
            "ticks": ""
           }
          },
          "title": {
           "x": 0.05
          },
          "updatemenudefaults": {
           "bgcolor": "#506784",
           "borderwidth": 0
          },
          "xaxis": {
           "automargin": true,
           "gridcolor": "#283442",
           "linecolor": "#506784",
           "ticks": "",
           "title": {
            "standoff": 15
           },
           "zerolinecolor": "#283442",
           "zerolinewidth": 2
          },
          "yaxis": {
           "automargin": true,
           "gridcolor": "#283442",
           "linecolor": "#506784",
           "ticks": "",
           "title": {
            "standoff": 15
           },
           "zerolinecolor": "#283442",
           "zerolinewidth": 2
          }
         }
        },
        "xaxis": {
         "autorange": true,
         "range": [
          "1975-04-01",
          "2019-04-01"
         ],
         "type": "date"
        },
        "yaxis": {
         "autorange": true,
         "range": [
          -10957254641.90171,
          312950381823.258
         ],
         "tickformat": "$.3s",
         "title": {
          "text": "Amount [$K]"
         },
         "type": "linear"
        }
       }
      },
      "image/png": "[encoded data removed]",
      "text/html": [
       "<div>\n",
       "        \n",
       "        \n",
       "            <div id=\"870a109a-9ff8-4c6a-8177-33123a3ec462\" class=\"plotly-graph-div\" style=\"height:525px; width:100%;\"></div>\n",
       "            <script type=\"text/javascript\">\n",
       "                require([\"plotly\"], function(Plotly) {\n",
       "                    window.PLOTLYENV=window.PLOTLYENV || {};\n",
       "                    window.PLOTLYENV.BASE_URL='https://plot.ly';\n",
       "                    \n",
       "                if (document.getElementById(\"870a109a-9ff8-4c6a-8177-33123a3ec462\")) {\n",
       "                    Plotly.newPlot(\n",
       "                        '870a109a-9ff8-4c6a-8177-33123a3ec462',\n",
       "                        [{\"line\": {\"color\": \"rgba(255, 153, 51, 1.0)\", \"dash\": \"solid\", \"shape\": \"linear\", \"width\": 1.3}, \"mode\": \"lines\", \"name\": \"GDP\", \"text\": \"\", \"type\": \"scatter\", \"x\": [\"1975-04-01\", \"1976-04-01\", \"1977-04-01\", \"1978-04-01\", \"1979-04-01\", \"1980-04-01\", \"1981-04-01\", \"1982-04-01\", \"1983-04-01\", \"1984-04-01\", \"1985-04-01\", \"1986-04-01\", \"1987-04-01\", \"1988-04-01\", \"1989-04-01\", \"1990-04-01\", \"1991-04-01\", \"1992-04-01\", \"1993-04-01\", \"1994-04-01\", \"1995-04-01\", \"1996-04-01\", \"1997-04-01\", \"1998-04-01\", \"1999-04-01\", \"2000-04-01\", \"2001-04-01\", \"2002-04-01\", \"2003-04-01\", \"2004-04-01\", \"2005-04-01\", \"2006-04-01\", \"2007-04-01\", \"2008-04-01\", \"2009-04-01\", \"2010-04-01\", \"2011-04-01\", \"2012-04-01\", \"2013-04-01\", \"2014-04-01\", \"2015-04-01\", \"2016-04-01\", \"2017-04-01\", \"2018-04-01\", \"2019-04-01\"], \"y\": [10511422285.106478, 12149309085.945751, 14682671187.943182, 15587517742.25299, 17657523438.418587, 20611550681.890312, 23940428051.42824, 29041513516.979168, 32704632248.926125, 36276120950.056915, 40969036278.33575, 47149898357.02738, 58151749557.07047, 65167000000.0, 70629000000.0, 74635000000.0, 76166000000.0, 75987000000.0, 78309000000.0, 84460000000.0, 90337000000.0, 96235000000.0, 101101000000.0, 104814000000.0, 106827000000.0, 113228000000.0, 119838000000.0, 128712000000.0, 135180000000.0, 144502000000.0, 154559000000.0, 162936000000.0, 172112000000.0, 186845000000.0, 189617000000.0, 194252000000.0, 203434000000.0, 213241000000.0, 217472000000.0, 232645000000.0, 242091000000.0, 254353000000.0, 270232000000.0, 285755000000.0, 296755000000.0]}, {\"line\": {\"color\": \"rgba(55, 128, 191, 1.0)\", \"dash\": \"solid\", \"shape\": \"linear\", \"width\": 1.3}, \"mode\": \"lines\", \"name\": \"Consumption\", \"text\": \"\", \"type\": \"scatter\", \"x\": [\"1975-04-01\", \"1976-04-01\", \"1977-04-01\", \"1978-04-01\", \"1979-04-01\", \"1980-04-01\", \"1981-04-01\", \"1982-04-01\", \"1983-04-01\", \"1984-04-01\", \"1985-04-01\", \"1986-04-01\", \"1987-04-01\", \"1988-04-01\", \"1989-04-01\", \"1990-04-01\", \"1991-04-01\", \"1992-04-01\", \"1993-04-01\", \"1994-04-01\", \"1995-04-01\", \"1996-04-01\", \"1997-04-01\", \"1998-04-01\", \"1999-04-01\", \"2000-04-01\", \"2001-04-01\", \"2002-04-01\", \"2003-04-01\", \"2004-04-01\", \"2005-04-01\", \"2006-04-01\", \"2007-04-01\", \"2008-04-01\", \"2009-04-01\", \"2010-04-01\", \"2011-04-01\", \"2012-04-01\", \"2013-04-01\", \"2014-04-01\", \"2015-04-01\", \"2016-04-01\", \"2017-04-01\", \"2018-04-01\", \"2019-04-01\"], \"y\": [6351128912.098117, 7265569142.299081, 8356372984.344828, 9327902013.75566, 10525747354.319914, 12286325144.238605, 14444485642.940329, 16955373365.331604, 19387763988.80931, 21120816821.9661, 24040501124.413776, 28409833149.65495, 32735329132.645687, 37502000000.0, 40704000000.0, 43544000000.0, 45844000000.0, 45655000000.0, 46449000000.0, 48424000000.0, 52180000000.0, 55501000000.0, 59287000000.0, 61676000000.0, 64500000000.0, 66868000000.0, 69484000000.0, 72858000000.0, 77785000000.0, 82916000000.0, 88793000000.0, 94791000000.0, 100508000000.0, 106174000000.0, 109860000000.0, 113390000000.0, 118143000000.0, 124941000000.0, 128614000000.0, 134381000000.0, 139452000000.0, 145956000000.0, 155740000000.0, 164161000000.0, 172307000000.0]}, {\"line\": {\"color\": \"rgba(50, 171, 96, 1.0)\", \"dash\": \"solid\", \"shape\": \"linear\", \"width\": 1.3}, \"mode\": \"lines\", \"name\": \"Consumption - Rent\", \"text\": \"\", \"type\": \"scatter\", \"x\": [\"1975-04-01\", \"1976-04-01\", \"1977-04-01\", \"1978-04-01\", \"1979-04-01\", \"1980-04-01\", \"1981-04-01\", \"1982-04-01\", \"1983-04-01\", \"1984-04-01\", \"1985-04-01\", \"1986-04-01\", \"1987-04-01\", \"1988-04-01\", \"1989-04-01\", \"1990-04-01\", \"1991-04-01\", \"1992-04-01\", \"1993-04-01\", \"1994-04-01\", \"1995-04-01\", \"1996-04-01\", \"1997-04-01\", \"1998-04-01\", \"1999-04-01\", \"2000-04-01\", \"2001-04-01\", \"2002-04-01\", \"2003-04-01\", \"2004-04-01\", \"2005-04-01\", \"2006-04-01\", \"2007-04-01\", \"2008-04-01\", \"2009-04-01\", \"2010-04-01\", \"2011-04-01\", \"2012-04-01\", \"2013-04-01\", \"2014-04-01\", \"2015-04-01\", \"2016-04-01\", \"2017-04-01\", \"2018-04-01\", \"2019-04-01\"], \"y\": [5238127181.356275, 5948294681.827351, 6808089964.563295, 7579262561.358251, 8644276474.587124, 10184815789.433472, 12075853297.143515, 14071017480.158611, 16255555125.336878, 17727806902.846886, 19562651800.412468, 22999636431.765743, 26537554791.9392, 29916012942.44007, 32216991957.979004, 34423809444.37539, 36157850108.010086, 35804437586.10441, 35736771428.57143, 36893337142.85715, 39708815571.42857, 41524628571.42857, 44427850000.0, 46684907714.28571, 49414696000.0, 51644746857.14285, 53655118000.0, 56060397571.42857, 58926534571.42857, 63148893142.85715, 67599640000.0, 72203997000.0, 76333424285.71428, 80134608000.0, 83765211428.57143, 86028296428.57143, 89825048571.42857, 95339917142.85715, 97927172500.0, 101950124285.71428, 104835582500.0, 109525928785.7143, 117132542142.85715, 123316175571.42856, 128505044642.85715]}],\n",
       "                        {\"legend\": {\"x\": 0}, \"template\": {\"data\": {\"bar\": [{\"error_x\": {\"color\": \"#f2f5fa\"}, \"error_y\": {\"color\": \"#f2f5fa\"}, \"marker\": {\"line\": {\"color\": \"rgb(17,17,17)\", \"width\": 0.5}}, \"type\": \"bar\"}], \"barpolar\": [{\"marker\": {\"line\": {\"color\": \"rgb(17,17,17)\", \"width\": 0.5}}, \"type\": \"barpolar\"}], \"carpet\": [{\"aaxis\": {\"endlinecolor\": \"#A2B1C6\", \"gridcolor\": \"#506784\", \"linecolor\": \"#506784\", \"minorgridcolor\": \"#506784\", \"startlinecolor\": \"#A2B1C6\"}, \"baxis\": {\"endlinecolor\": \"#A2B1C6\", \"gridcolor\": \"#506784\", \"linecolor\": \"#506784\", \"minorgridcolor\": \"#506784\", \"startlinecolor\": \"#A2B1C6\"}, \"type\": \"carpet\"}], \"choropleth\": [{\"colorbar\": {\"outlinewidth\": 0, \"ticks\": \"\"}, \"type\": \"choropleth\"}], \"contour\": [{\"colorbar\": {\"outlinewidth\": 0, \"ticks\": \"\"}, \"colorscale\": [[0.0, \"#0d0887\"], [0.1111111111111111, \"#46039f\"], [0.2222222222222222, \"#7201a8\"], [0.3333333333333333, \"#9c179e\"], [0.4444444444444444, \"#bd3786\"], [0.5555555555555556, \"#d8576b\"], [0.6666666666666666, \"#ed7953\"], [0.7777777777777778, \"#fb9f3a\"], [0.8888888888888888, \"#fdca26\"], [1.0, \"#f0f921\"]], \"type\": \"contour\"}], \"contourcarpet\": [{\"colorbar\": {\"outlinewidth\": 0, \"ticks\": \"\"}, \"type\": \"contourcarpet\"}], \"heatmap\": [{\"colorbar\": {\"outlinewidth\": 0, \"ticks\": \"\"}, \"colorscale\": [[0.0, \"#0d0887\"], [0.1111111111111111, \"#46039f\"], [0.2222222222222222, \"#7201a8\"], [0.3333333333333333, \"#9c179e\"], [0.4444444444444444, \"#bd3786\"], [0.5555555555555556, \"#d8576b\"], [0.6666666666666666, \"#ed7953\"], [0.7777777777777778, \"#fb9f3a\"], [0.8888888888888888, \"#fdca26\"], [1.0, \"#f0f921\"]], \"type\": \"heatmap\"}], \"heatmapgl\": [{\"colorbar\": {\"outlinewidth\": 0, \"ticks\": \"\"}, \"colorscale\": [[0.0, \"#0d0887\"], [0.1111111111111111, \"#46039f\"], [0.2222222222222222, \"#7201a8\"], [0.3333333333333333, \"#9c179e\"], [0.4444444444444444, \"#bd3786\"], [0.5555555555555556, \"#d8576b\"], [0.6666666666666666, \"#ed7953\"], [0.7777777777777778, \"#fb9f3a\"], [0.8888888888888888, \"#fdca26\"], [1.0, \"#f0f921\"]], \"type\": \"heatmapgl\"}], \"histogram\": [{\"marker\": {\"colorbar\": {\"outlinewidth\": 0, \"ticks\": \"\"}}, \"type\": \"histogram\"}], \"histogram2d\": [{\"colorbar\": {\"outlinewidth\": 0, \"ticks\": \"\"}, \"colorscale\": [[0.0, \"#0d0887\"], [0.1111111111111111, \"#46039f\"], [0.2222222222222222, \"#7201a8\"], [0.3333333333333333, \"#9c179e\"], [0.4444444444444444, \"#bd3786\"], [0.5555555555555556, \"#d8576b\"], [0.6666666666666666, \"#ed7953\"], [0.7777777777777778, \"#fb9f3a\"], [0.8888888888888888, \"#fdca26\"], [1.0, \"#f0f921\"]], \"type\": \"histogram2d\"}], \"histogram2dcontour\": [{\"colorbar\": {\"outlinewidth\": 0, \"ticks\": \"\"}, \"colorscale\": [[0.0, \"#0d0887\"], [0.1111111111111111, \"#46039f\"], [0.2222222222222222, \"#7201a8\"], [0.3333333333333333, \"#9c179e\"], [0.4444444444444444, \"#bd3786\"], [0.5555555555555556, \"#d8576b\"], [0.6666666666666666, \"#ed7953\"], [0.7777777777777778, \"#fb9f3a\"], [0.8888888888888888, \"#fdca26\"], [1.0, \"#f0f921\"]], \"type\": \"histogram2dcontour\"}], \"mesh3d\": [{\"colorbar\": {\"outlinewidth\": 0, \"ticks\": \"\"}, \"type\": \"mesh3d\"}], \"parcoords\": [{\"line\": {\"colorbar\": {\"outlinewidth\": 0, \"ticks\": \"\"}}, \"type\": \"parcoords\"}], \"pie\": [{\"automargin\": true, \"type\": \"pie\"}], \"scatter\": [{\"hoverlabel\": {\"namelength\": -1}, \"marker\": {\"line\": {\"color\": \"#283442\"}}, \"type\": \"scatter\"}], \"scatter3d\": [{\"line\": {\"colorbar\": {\"outlinewidth\": 0, \"ticks\": \"\"}}, \"marker\": {\"colorbar\": {\"outlinewidth\": 0, \"ticks\": \"\"}}, \"type\": \"scatter3d\"}], \"scattercarpet\": [{\"marker\": {\"colorbar\": {\"outlinewidth\": 0, \"ticks\": \"\"}}, \"type\": \"scattercarpet\"}], \"scattergeo\": [{\"marker\": {\"colorbar\": {\"outlinewidth\": 0, \"ticks\": \"\"}}, \"type\": \"scattergeo\"}], \"scattergl\": [{\"marker\": {\"line\": {\"color\": \"#283442\"}}, \"type\": \"scattergl\"}], \"scattermapbox\": [{\"marker\": {\"colorbar\": {\"outlinewidth\": 0, \"ticks\": \"\"}}, \"type\": \"scattermapbox\"}], \"scatterpolar\": [{\"marker\": {\"colorbar\": {\"outlinewidth\": 0, \"ticks\": \"\"}}, \"type\": \"scatterpolar\"}], \"scatterpolargl\": [{\"marker\": {\"colorbar\": {\"outlinewidth\": 0, \"ticks\": \"\"}}, \"type\": \"scatterpolargl\"}], \"scatterternary\": [{\"marker\": {\"colorbar\": {\"outlinewidth\": 0, \"ticks\": \"\"}}, \"type\": \"scatterternary\"}], \"surface\": [{\"colorbar\": {\"outlinewidth\": 0, \"ticks\": \"\"}, \"colorscale\": [[0.0, \"#0d0887\"], [0.1111111111111111, \"#46039f\"], [0.2222222222222222, \"#7201a8\"], [0.3333333333333333, \"#9c179e\"], [0.4444444444444444, \"#bd3786\"], [0.5555555555555556, \"#d8576b\"], [0.6666666666666666, \"#ed7953\"], [0.7777777777777778, \"#fb9f3a\"], [0.8888888888888888, \"#fdca26\"], [1.0, \"#f0f921\"]], \"type\": \"surface\"}], \"table\": [{\"cells\": {\"fill\": {\"color\": \"#506784\"}, \"line\": {\"color\": \"rgb(17,17,17)\"}}, \"header\": {\"fill\": {\"color\": \"#2a3f5f\"}, \"line\": {\"color\": \"rgb(17,17,17)\"}}, \"type\": \"table\"}]}, \"layout\": {\"annotationdefaults\": {\"arrowcolor\": \"#f2f5fa\", \"arrowhead\": 0, \"arrowwidth\": 1}, \"coloraxis\": {\"colorbar\": {\"outlinewidth\": 0, \"ticks\": \"\"}}, \"colorscale\": {\"diverging\": [[0, \"#8e0152\"], [0.1, \"#c51b7d\"], [0.2, \"#de77ae\"], [0.3, \"#f1b6da\"], [0.4, \"#fde0ef\"], [0.5, \"#f7f7f7\"], [0.6, \"#e6f5d0\"], [0.7, \"#b8e186\"], [0.8, \"#7fbc41\"], [0.9, \"#4d9221\"], [1, \"#276419\"]], \"sequential\": [[0.0, \"#0d0887\"], [0.1111111111111111, \"#46039f\"], [0.2222222222222222, \"#7201a8\"], [0.3333333333333333, \"#9c179e\"], [0.4444444444444444, \"#bd3786\"], [0.5555555555555556, \"#d8576b\"], [0.6666666666666666, \"#ed7953\"], [0.7777777777777778, \"#fb9f3a\"], [0.8888888888888888, \"#fdca26\"], [1.0, \"#f0f921\"]], \"sequentialminus\": [[0.0, \"#0d0887\"], [0.1111111111111111, \"#46039f\"], [0.2222222222222222, \"#7201a8\"], [0.3333333333333333, \"#9c179e\"], [0.4444444444444444, \"#bd3786\"], [0.5555555555555556, \"#d8576b\"], [0.6666666666666666, \"#ed7953\"], [0.7777777777777778, \"#fb9f3a\"], [0.8888888888888888, \"#fdca26\"], [1.0, \"#f0f921\"]]}, \"colorway\": [\"#636efa\", \"#EF553B\", \"#00cc96\", \"#ab63fa\", \"#FFA15A\", \"#19d3f3\", \"#FF6692\", \"#B6E880\", \"#FF97FF\", \"#FECB52\"], \"font\": {\"color\": \"#f2f5fa\"}, \"geo\": {\"bgcolor\": \"rgb(17,17,17)\", \"lakecolor\": \"rgb(17,17,17)\", \"landcolor\": \"rgb(17,17,17)\", \"showlakes\": true, \"showland\": true, \"subunitcolor\": \"#506784\"}, \"hoverlabel\": {\"align\": \"left\"}, \"hovermode\": \"x\", \"mapbox\": {\"style\": \"dark\"}, \"paper_bgcolor\": \"rgb(17,17,17)\", \"plot_bgcolor\": \"rgb(17,17,17)\", \"polar\": {\"angularaxis\": {\"gridcolor\": \"#506784\", \"linecolor\": \"#506784\", \"ticks\": \"\"}, \"bgcolor\": \"rgb(17,17,17)\", \"radialaxis\": {\"gridcolor\": \"#506784\", \"linecolor\": \"#506784\", \"ticks\": \"\"}}, \"scene\": {\"xaxis\": {\"backgroundcolor\": \"rgb(17,17,17)\", \"gridcolor\": \"#506784\", \"gridwidth\": 2, \"linecolor\": \"#506784\", \"showbackground\": true, \"ticks\": \"\", \"zerolinecolor\": \"#C8D4E3\"}, \"yaxis\": {\"backgroundcolor\": \"rgb(17,17,17)\", \"gridcolor\": \"#506784\", \"gridwidth\": 2, \"linecolor\": \"#506784\", \"showbackground\": true, \"ticks\": \"\", \"zerolinecolor\": \"#C8D4E3\"}, \"zaxis\": {\"backgroundcolor\": \"rgb(17,17,17)\", \"gridcolor\": \"#506784\", \"gridwidth\": 2, \"linecolor\": \"#506784\", \"showbackground\": true, \"ticks\": \"\", \"zerolinecolor\": \"#C8D4E3\"}}, \"shapedefaults\": {\"line\": {\"color\": \"#f2f5fa\"}}, \"sliderdefaults\": {\"bgcolor\": \"#C8D4E3\", \"bordercolor\": \"rgb(17,17,17)\", \"borderwidth\": 1, \"tickwidth\": 0}, \"ternary\": {\"aaxis\": {\"gridcolor\": \"#506784\", \"linecolor\": \"#506784\", \"ticks\": \"\"}, \"baxis\": {\"gridcolor\": \"#506784\", \"linecolor\": \"#506784\", \"ticks\": \"\"}, \"bgcolor\": \"rgb(17,17,17)\", \"caxis\": {\"gridcolor\": \"#506784\", \"linecolor\": \"#506784\", \"ticks\": \"\"}}, \"title\": {\"x\": 0.05}, \"updatemenudefaults\": {\"bgcolor\": \"#506784\", \"borderwidth\": 0}, \"xaxis\": {\"automargin\": true, \"gridcolor\": \"#283442\", \"linecolor\": \"#506784\", \"ticks\": \"\", \"title\": {\"standoff\": 15}, \"zerolinecolor\": \"#283442\", \"zerolinewidth\": 2}, \"yaxis\": {\"automargin\": true, \"gridcolor\": \"#283442\", \"linecolor\": \"#506784\", \"ticks\": \"\", \"title\": {\"standoff\": 15}, \"zerolinecolor\": \"#283442\", \"zerolinewidth\": 2}}}, \"yaxis\": {\"tickformat\": \"$.3s\", \"title\": {\"text\": \"Amount [$K]\"}}},\n",
       "                        {\"showLink\": true, \"linkText\": \"Export to plot.ly\", \"plotlyServerURL\": \"https://plot.ly\", \"responsive\": true}\n",
       "                    ).then(function(){\n",
       "                            \n",
       "var gd = document.getElementById('870a109a-9ff8-4c6a-8177-33123a3ec462');\n",
       "var x = new MutationObserver(function (mutations, observer) {{\n",
       "        var display = window.getComputedStyle(gd).display;\n",
       "        if (!display || display === 'none') {{\n",
       "            console.log([gd, 'removed!']);\n",
       "            Plotly.purge(gd);\n",
       "            observer.disconnect();\n",
       "        }}\n",
       "}});\n",
       "\n",
       "// Listen for the removal of the full notebook cells\n",
       "var notebookContainer = gd.closest('#notebook-container');\n",
       "if (notebookContainer) {{\n",
       "    x.observe(notebookContainer, {childList: true});\n",
       "}}\n",
       "\n",
       "// Listen for the clearing of the current output cell\n",
       "var outputEl = gd.closest('.output');\n",
       "if (outputEl) {{\n",
       "    x.observe(outputEl, {childList: true});\n",
       "}}\n",
       "\n",
       "                        })\n",
       "                };\n",
       "                });\n",
       "            </script>\n",
       "        </div>"
      ]
     },
     "metadata": {},
     "output_type": "display_data"
    }
   ],
   "source": [
    "gdp = pd.read_csv('out/gen/gdp_1860-now.csv', parse_dates=True, index_col=0)\n",
    "gdp['Deflated GDP - Rent per household'] = (gdp['GDP'] - gdp['Rent'])/gdp.Deflator/gdp['Occupied Dwellings']\n",
    "gdp['Deflated Consumption - Rent per household'] = (gdp['Consumption'] - gdp['Rent'])/gdp.Deflator/gdp['Occupied Dwellings']\n",
    "\n",
    "gdp[['Deflated GDP - Rent per household', 'Deflated Consumption - Rent per household']].dropna().iplot(\n",
    "    layout=go.Layout(\n",
    "        yaxis=go.layout.YAxis(title=\"Amount [$K]\", tickformat=\"$.3s\"),\n",
    "        legend = go.layout.Legend(x=0)\n",
    "    )\n",
    ")\n",
    "\n",
    "gdp['Consumption - Rent'] = (gdp['Consumption'] - gdp['Rent'])\n",
    "gdp[['GDP', 'Consumption', 'Consumption - Rent']].dropna().iplot(\n",
    "    layout=go.Layout(\n",
    "        yaxis=go.layout.YAxis(title=\"Amount [$K]\", tickformat=\"$.3s\"),\n",
    "        legend = go.layout.Legend(x=0)\n",
    "    )\n",
    ")\n",
    "\n",
    "\n"
   ]
  },
  {
   "cell_type": "code",
   "execution_count": 46,
   "metadata": {},
   "outputs": [
    {
     "data": {
      "application/vnd.plotly.v1+json": {
       "config": {
        "plotlyServerURL": "https://plot.ly"
       },
       "data": [
        {
         "name": "Rent Income Ratio",
         "type": "bar",
         "x": [
          "1975-04-01T00:00:00",
          "1976-04-01T00:00:00",
          "1977-04-01T00:00:00",
          "1978-04-01T00:00:00",
          "1979-04-01T00:00:00",
          "1980-04-01T00:00:00",
          "1981-04-01T00:00:00",
          "1982-04-01T00:00:00",
          "1983-04-01T00:00:00",
          "1984-04-01T00:00:00",
          "1985-04-01T00:00:00",
          "1986-04-01T00:00:00",
          "1987-04-01T00:00:00",
          "1988-04-01T00:00:00",
          "1989-04-01T00:00:00",
          "1990-04-01T00:00:00",
          "1991-04-01T00:00:00",
          "1992-04-01T00:00:00",
          "1993-04-01T00:00:00",
          "1994-04-01T00:00:00",
          "1995-04-01T00:00:00",
          "1996-04-01T00:00:00",
          "1997-04-01T00:00:00",
          "1998-04-01T00:00:00",
          "1999-04-01T00:00:00",
          "2000-04-01T00:00:00",
          "2001-04-01T00:00:00",
          "2002-04-01T00:00:00",
          "2003-04-01T00:00:00",
          "2004-04-01T00:00:00",
          "2005-04-01T00:00:00",
          "2006-04-01T00:00:00",
          "2007-04-01T00:00:00",
          "2008-04-01T00:00:00",
          "2009-04-01T00:00:00",
          "2010-04-01T00:00:00",
          "2011-04-01T00:00:00",
          "2012-04-01T00:00:00",
          "2013-04-01T00:00:00",
          "2014-04-01T00:00:00",
          "2015-04-01T00:00:00",
          "2016-04-01T00:00:00",
          "2017-04-01T00:00:00",
          "2018-04-01T00:00:00",
          "2019-04-01T00:00:00"
         ],
         "y": [
          0.17884220826101113,
          0.18781647616353145,
          0.19315216223567153,
          0.18910540794241837,
          0.1776434244432405,
          0.16571029421009326,
          0.15614873946518706,
          0.15872861475291764,
          0.1577377006710117,
          0.16755088117291814,
          0.20303408792756356,
          0.21145893794138285,
          0.19502121902789435,
          0.2041713647573659,
          0.21759327356222435,
          0.22265546631245844,
          0.23133866472390527,
          0.2299652717146164,
          0.2552049689440994,
          0.26227510820541483,
          0.2678461465297444,
          0.28352513294596665,
          0.28466895283344185,
          0.27522246205574336,
          0.2675932876858126,
          0.24609601097426628,
          0.26063495356648886,
          0.2596389642106379,
          0.2882015042190178,
          0.27620421223668523,
          0.2743867735211486,
          0.2795732569221819,
          0.2762145738084085,
          0.2712295401281183,
          0.2670062577015335,
          0.25870526428112184,
          0.2555541145074581,
          0.25181909550181514,
          0.2583871028855788,
          0.2619618393722594,
          0.27308413076577176,
          0.27243750861347843,
          0.267674234448031,
          0.2676260781984644,
          0.27365105024298164
         ]
        },
        {
         "name": "Deflated Annual Rent",
         "type": "scatter",
         "x": [
          "1975-04-01T00:00:00",
          "1976-04-01T00:00:00",
          "1977-04-01T00:00:00",
          "1978-04-01T00:00:00",
          "1979-04-01T00:00:00",
          "1980-04-01T00:00:00",
          "1981-04-01T00:00:00",
          "1982-04-01T00:00:00",
          "1983-04-01T00:00:00",
          "1984-04-01T00:00:00",
          "1985-04-01T00:00:00",
          "1986-04-01T00:00:00",
          "1987-04-01T00:00:00",
          "1988-04-01T00:00:00",
          "1989-04-01T00:00:00",
          "1990-04-01T00:00:00",
          "1991-04-01T00:00:00",
          "1992-04-01T00:00:00",
          "1993-04-01T00:00:00",
          "1994-04-01T00:00:00",
          "1995-04-01T00:00:00",
          "1996-04-01T00:00:00",
          "1997-04-01T00:00:00",
          "1998-04-01T00:00:00",
          "1999-04-01T00:00:00",
          "2000-04-01T00:00:00",
          "2001-04-01T00:00:00",
          "2002-04-01T00:00:00",
          "2003-04-01T00:00:00",
          "2004-04-01T00:00:00",
          "2005-04-01T00:00:00",
          "2006-04-01T00:00:00",
          "2007-04-01T00:00:00",
          "2008-04-01T00:00:00",
          "2009-04-01T00:00:00",
          "2010-04-01T00:00:00",
          "2011-04-01T00:00:00",
          "2012-04-01T00:00:00",
          "2013-04-01T00:00:00",
          "2014-04-01T00:00:00",
          "2015-04-01T00:00:00",
          "2016-04-01T00:00:00",
          "2017-04-01T00:00:00",
          "2018-04-01T00:00:00",
          "2019-04-01T00:00:00"
         ],
         "y": [
          10741.147594154438,
          10472.269335453277,
          10530.176689693568,
          10381.6691621566,
          9785.559368700468,
          9156.397434782857,
          8875.098169302246,
          9114.446440800615,
          9019.025613797969,
          9203.813146420425,
          10251.737374502716,
          11022.494889536365,
          10426.806141446588,
          11825.493924027827,
          12479.069787438397,
          12252.383686667821,
          12346.782820107144,
          12282.549001748124,
          13021.700603093728,
          13685.886715439343,
          13933.076037159144,
          15093.788375883129,
          15672.871387015508,
          15343.22660450486,
          15325.492493160184,
          14935.1656305285,
          14722.779899622643,
          14999.635642343277,
          16440.61478575268,
          16747.40440755728,
          17260.898466520837,
          17452.71506845436,
          18234.770380028025,
          18706.784530277284,
          18291.48519118116,
          18754.81885028117,
          18247.348872553895,
          18891.57824858807,
          19436.00413471452,
          20151.07305662905,
          21337.686559868573,
          22317.63331601266,
          23049.22857142857,
          23829.38896746818,
          24913.26530612245
         ],
         "yaxis": "y2"
        },
        {
         "name": "Full household income",
         "type": "scatter",
         "x": [
          "1975-04-01T00:00:00",
          "1976-04-01T00:00:00",
          "1977-04-01T00:00:00",
          "1978-04-01T00:00:00",
          "1979-04-01T00:00:00",
          "1980-04-01T00:00:00",
          "1981-04-01T00:00:00",
          "1982-04-01T00:00:00",
          "1983-04-01T00:00:00",
          "1984-04-01T00:00:00",
          "1985-04-01T00:00:00",
          "1986-04-01T00:00:00",
          "1987-04-01T00:00:00",
          "1988-04-01T00:00:00",
          "1989-04-01T00:00:00",
          "1990-04-01T00:00:00",
          "1991-04-01T00:00:00",
          "1992-04-01T00:00:00",
          "1993-04-01T00:00:00",
          "1994-04-01T00:00:00",
          "1995-04-01T00:00:00",
          "1996-04-01T00:00:00",
          "1997-04-01T00:00:00",
          "1998-04-01T00:00:00",
          "1999-04-01T00:00:00",
          "2000-04-01T00:00:00",
          "2001-04-01T00:00:00",
          "2002-04-01T00:00:00",
          "2003-04-01T00:00:00",
          "2004-04-01T00:00:00",
          "2005-04-01T00:00:00",
          "2006-04-01T00:00:00",
          "2007-04-01T00:00:00",
          "2008-04-01T00:00:00",
          "2009-04-01T00:00:00",
          "2010-04-01T00:00:00",
          "2011-04-01T00:00:00",
          "2012-04-01T00:00:00",
          "2013-04-01T00:00:00",
          "2014-04-01T00:00:00",
          "2015-04-01T00:00:00",
          "2016-04-01T00:00:00",
          "2017-04-01T00:00:00",
          "2018-04-01T00:00:00",
          "2019-04-01T00:00:00"
         ],
         "y": [
          60059.35454833054,
          55757.99072247044,
          54517.51907827643,
          54898.848611023146,
          55085.40155296932,
          55255.45337077284,
          56837.46279156435,
          57421.5711199173,
          57177.36200940733,
          54931.45175955106,
          50492.69055824866,
          52125.93516662719,
          53464.98290504079,
          57919.45377884437,
          57350.439115802,
          55028.44322480598,
          53371.03002147352,
          53410.451544138334,
          51024.47909603997,
          52181.416715765896,
          52018.9527371523,
          53236.15659413043,
          55056.48308681422,
          55748.4534143774,
          57271.587885097455,
          60688.369435172346,
          56488.12524244494,
          57771.127257211236,
          57045.555089326284,
          60634.13831359702,
          62907.181148038966,
          62426.26802216728,
          66016.68452395368,
          68970.306558205,
          68505.82959605334,
          72494.92546043155,
          71403.07213492885,
          75020.43564623913,
          75220.48862988854,
          76923.69661519089,
          78135.94477289572,
          81918.35782669659,
          86109.25373134328,
          89039.86161541754,
          91040.26929186398
         ],
         "yaxis": "y2"
        }
       ],
       "layout": {
        "autosize": true,
        "legend": {
         "x": 0,
         "y": 1
        },
        "shapes": [
         {
          "fillcolor": "rgba(128, 128, 128, 0.5)",
          "layer": "below",
          "line": {
           "width": 0
          },
          "type": "rect",
          "x0": 0,
          "x1": 1,
          "xref": "paper",
          "y0": 0.24,
          "y1": 0.29
         }
        ],
        "template": {
         "data": {
          "bar": [
           {
            "error_x": {
             "color": "#f2f5fa"
            },
            "error_y": {
             "color": "#f2f5fa"
            },
            "hoverlabel": {
             "namelength": -1
            },
            "marker": {
             "line": {
              "color": "rgb(17,17,17)",
              "width": 0.5
             }
            },
            "type": "bar"
           }
          ],
          "barpolar": [
           {
            "marker": {
             "line": {
              "color": "rgb(17,17,17)",
              "width": 0.5
             }
            },
            "type": "barpolar"
           }
          ],
          "carpet": [
           {
            "aaxis": {
             "endlinecolor": "#A2B1C6",
             "gridcolor": "#506784",
             "linecolor": "#506784",
             "minorgridcolor": "#506784",
             "startlinecolor": "#A2B1C6"
            },
            "baxis": {
             "endlinecolor": "#A2B1C6",
             "gridcolor": "#506784",
             "linecolor": "#506784",
             "minorgridcolor": "#506784",
             "startlinecolor": "#A2B1C6"
            },
            "type": "carpet"
           }
          ],
          "choropleth": [
           {
            "colorbar": {
             "outlinewidth": 0,
             "ticks": ""
            },
            "type": "choropleth"
           }
          ],
          "contour": [
           {
            "colorbar": {
             "outlinewidth": 0,
             "ticks": ""
            },
            "colorscale": [
             [
              0,
              "#0d0887"
             ],
             [
              0.1111111111111111,
              "#46039f"
             ],
             [
              0.2222222222222222,
              "#7201a8"
             ],
             [
              0.3333333333333333,
              "#9c179e"
             ],
             [
              0.4444444444444444,
              "#bd3786"
             ],
             [
              0.5555555555555556,
              "#d8576b"
             ],
             [
              0.6666666666666666,
              "#ed7953"
             ],
             [
              0.7777777777777778,
              "#fb9f3a"
             ],
             [
              0.8888888888888888,
              "#fdca26"
             ],
             [
              1,
              "#f0f921"
             ]
            ],
            "type": "contour"
           }
          ],
          "contourcarpet": [
           {
            "colorbar": {
             "outlinewidth": 0,
             "ticks": ""
            },
            "type": "contourcarpet"
           }
          ],
          "heatmap": [
           {
            "colorbar": {
             "outlinewidth": 0,
             "ticks": ""
            },
            "colorscale": [
             [
              0,
              "#0d0887"
             ],
             [
              0.1111111111111111,
              "#46039f"
             ],
             [
              0.2222222222222222,
              "#7201a8"
             ],
             [
              0.3333333333333333,
              "#9c179e"
             ],
             [
              0.4444444444444444,
              "#bd3786"
             ],
             [
              0.5555555555555556,
              "#d8576b"
             ],
             [
              0.6666666666666666,
              "#ed7953"
             ],
             [
              0.7777777777777778,
              "#fb9f3a"
             ],
             [
              0.8888888888888888,
              "#fdca26"
             ],
             [
              1,
              "#f0f921"
             ]
            ],
            "type": "heatmap"
           }
          ],
          "heatmapgl": [
           {
            "colorbar": {
             "outlinewidth": 0,
             "ticks": ""
            },
            "colorscale": [
             [
              0,
              "#0d0887"
             ],
             [
              0.1111111111111111,
              "#46039f"
             ],
             [
              0.2222222222222222,
              "#7201a8"
             ],
             [
              0.3333333333333333,
              "#9c179e"
             ],
             [
              0.4444444444444444,
              "#bd3786"
             ],
             [
              0.5555555555555556,
              "#d8576b"
             ],
             [
              0.6666666666666666,
              "#ed7953"
             ],
             [
              0.7777777777777778,
              "#fb9f3a"
             ],
             [
              0.8888888888888888,
              "#fdca26"
             ],
             [
              1,
              "#f0f921"
             ]
            ],
            "type": "heatmapgl"
           }
          ],
          "histogram": [
           {
            "marker": {
             "colorbar": {
              "outlinewidth": 0,
              "ticks": ""
             }
            },
            "type": "histogram"
           }
          ],
          "histogram2d": [
           {
            "colorbar": {
             "outlinewidth": 0,
             "ticks": ""
            },
            "colorscale": [
             [
              0,
              "#0d0887"
             ],
             [
              0.1111111111111111,
              "#46039f"
             ],
             [
              0.2222222222222222,
              "#7201a8"
             ],
             [
              0.3333333333333333,
              "#9c179e"
             ],
             [
              0.4444444444444444,
              "#bd3786"
             ],
             [
              0.5555555555555556,
              "#d8576b"
             ],
             [
              0.6666666666666666,
              "#ed7953"
             ],
             [
              0.7777777777777778,
              "#fb9f3a"
             ],
             [
              0.8888888888888888,
              "#fdca26"
             ],
             [
              1,
              "#f0f921"
             ]
            ],
            "type": "histogram2d"
           }
          ],
          "histogram2dcontour": [
           {
            "colorbar": {
             "outlinewidth": 0,
             "ticks": ""
            },
            "colorscale": [
             [
              0,
              "#0d0887"
             ],
             [
              0.1111111111111111,
              "#46039f"
             ],
             [
              0.2222222222222222,
              "#7201a8"
             ],
             [
              0.3333333333333333,
              "#9c179e"
             ],
             [
              0.4444444444444444,
              "#bd3786"
             ],
             [
              0.5555555555555556,
              "#d8576b"
             ],
             [
              0.6666666666666666,
              "#ed7953"
             ],
             [
              0.7777777777777778,
              "#fb9f3a"
             ],
             [
              0.8888888888888888,
              "#fdca26"
             ],
             [
              1,
              "#f0f921"
             ]
            ],
            "type": "histogram2dcontour"
           }
          ],
          "mesh3d": [
           {
            "colorbar": {
             "outlinewidth": 0,
             "ticks": ""
            },
            "type": "mesh3d"
           }
          ],
          "parcoords": [
           {
            "line": {
             "colorbar": {
              "outlinewidth": 0,
              "ticks": ""
             }
            },
            "type": "parcoords"
           }
          ],
          "pie": [
           {
            "automargin": true,
            "type": "pie"
           }
          ],
          "scatter": [
           {
            "hoverlabel": {
             "namelength": -1
            },
            "marker": {
             "line": {
              "color": "#283442"
             }
            },
            "type": "scatter"
           }
          ],
          "scatter3d": [
           {
            "line": {
             "colorbar": {
              "outlinewidth": 0,
              "ticks": ""
             }
            },
            "marker": {
             "colorbar": {
              "outlinewidth": 0,
              "ticks": ""
             }
            },
            "type": "scatter3d"
           }
          ],
          "scattercarpet": [
           {
            "marker": {
             "colorbar": {
              "outlinewidth": 0,
              "ticks": ""
             }
            },
            "type": "scattercarpet"
           }
          ],
          "scattergeo": [
           {
            "marker": {
             "colorbar": {
              "outlinewidth": 0,
              "ticks": ""
             }
            },
            "type": "scattergeo"
           }
          ],
          "scattergl": [
           {
            "marker": {
             "line": {
              "color": "#283442"
             }
            },
            "type": "scattergl"
           }
          ],
          "scattermapbox": [
           {
            "marker": {
             "colorbar": {
              "outlinewidth": 0,
              "ticks": ""
             }
            },
            "type": "scattermapbox"
           }
          ],
          "scatterpolar": [
           {
            "marker": {
             "colorbar": {
              "outlinewidth": 0,
              "ticks": ""
             }
            },
            "type": "scatterpolar"
           }
          ],
          "scatterpolargl": [
           {
            "marker": {
             "colorbar": {
              "outlinewidth": 0,
              "ticks": ""
             }
            },
            "type": "scatterpolargl"
           }
          ],
          "scatterternary": [
           {
            "marker": {
             "colorbar": {
              "outlinewidth": 0,
              "ticks": ""
             }
            },
            "type": "scatterternary"
           }
          ],
          "surface": [
           {
            "colorbar": {
             "outlinewidth": 0,
             "ticks": ""
            },
            "colorscale": [
             [
              0,
              "#0d0887"
             ],
             [
              0.1111111111111111,
              "#46039f"
             ],
             [
              0.2222222222222222,
              "#7201a8"
             ],
             [
              0.3333333333333333,
              "#9c179e"
             ],
             [
              0.4444444444444444,
              "#bd3786"
             ],
             [
              0.5555555555555556,
              "#d8576b"
             ],
             [
              0.6666666666666666,
              "#ed7953"
             ],
             [
              0.7777777777777778,
              "#fb9f3a"
             ],
             [
              0.8888888888888888,
              "#fdca26"
             ],
             [
              1,
              "#f0f921"
             ]
            ],
            "type": "surface"
           }
          ],
          "table": [
           {
            "cells": {
             "fill": {
              "color": "#506784"
             },
             "line": {
              "color": "rgb(17,17,17)"
             }
            },
            "header": {
             "fill": {
              "color": "#2a3f5f"
             },
             "line": {
              "color": "rgb(17,17,17)"
             }
            },
            "type": "table"
           }
          ]
         },
         "layout": {
          "annotationdefaults": {
           "arrowcolor": "#f2f5fa",
           "arrowhead": 0,
           "arrowwidth": 1
          },
          "coloraxis": {
           "colorbar": {
            "outlinewidth": 0,
            "ticks": ""
           }
          },
          "colorscale": {
           "diverging": [
            [
             0,
             "#8e0152"
            ],
            [
             0.1,
             "#c51b7d"
            ],
            [
             0.2,
             "#de77ae"
            ],
            [
             0.3,
             "#f1b6da"
            ],
            [
             0.4,
             "#fde0ef"
            ],
            [
             0.5,
             "#f7f7f7"
            ],
            [
             0.6,
             "#e6f5d0"
            ],
            [
             0.7,
             "#b8e186"
            ],
            [
             0.8,
             "#7fbc41"
            ],
            [
             0.9,
             "#4d9221"
            ],
            [
             1,
             "#276419"
            ]
           ],
           "sequential": [
            [
             0,
             "#0d0887"
            ],
            [
             0.1111111111111111,
             "#46039f"
            ],
            [
             0.2222222222222222,
             "#7201a8"
            ],
            [
             0.3333333333333333,
             "#9c179e"
            ],
            [
             0.4444444444444444,
             "#bd3786"
            ],
            [
             0.5555555555555556,
             "#d8576b"
            ],
            [
             0.6666666666666666,
             "#ed7953"
            ],
            [
             0.7777777777777778,
             "#fb9f3a"
            ],
            [
             0.8888888888888888,
             "#fdca26"
            ],
            [
             1,
             "#f0f921"
            ]
           ],
           "sequentialminus": [
            [
             0,
             "#0d0887"
            ],
            [
             0.1111111111111111,
             "#46039f"
            ],
            [
             0.2222222222222222,
             "#7201a8"
            ],
            [
             0.3333333333333333,
             "#9c179e"
            ],
            [
             0.4444444444444444,
             "#bd3786"
            ],
            [
             0.5555555555555556,
             "#d8576b"
            ],
            [
             0.6666666666666666,
             "#ed7953"
            ],
            [
             0.7777777777777778,
             "#fb9f3a"
            ],
            [
             0.8888888888888888,
             "#fdca26"
            ],
            [
             1,
             "#f0f921"
            ]
           ]
          },
          "colorway": [
           "#636efa",
           "#EF553B",
           "#00cc96",
           "#ab63fa",
           "#FFA15A",
           "#19d3f3",
           "#FF6692",
           "#B6E880",
           "#FF97FF",
           "#FECB52"
          ],
          "font": {
           "color": "#f2f5fa"
          },
          "geo": {
           "bgcolor": "rgb(17,17,17)",
           "lakecolor": "rgb(17,17,17)",
           "landcolor": "rgb(17,17,17)",
           "showlakes": true,
           "showland": true,
           "subunitcolor": "#506784"
          },
          "hoverlabel": {
           "align": "left"
          },
          "hovermode": "x",
          "mapbox": {
           "style": "dark"
          },
          "paper_bgcolor": "rgb(17,17,17)",
          "plot_bgcolor": "rgb(17,17,17)",
          "polar": {
           "angularaxis": {
            "gridcolor": "#506784",
            "linecolor": "#506784",
            "ticks": ""
           },
           "bgcolor": "rgb(17,17,17)",
           "radialaxis": {
            "gridcolor": "#506784",
            "linecolor": "#506784",
            "ticks": ""
           }
          },
          "scene": {
           "xaxis": {
            "backgroundcolor": "rgb(17,17,17)",
            "gridcolor": "#506784",
            "gridwidth": 2,
            "linecolor": "#506784",
            "showbackground": true,
            "ticks": "",
            "zerolinecolor": "#C8D4E3"
           },
           "yaxis": {
            "backgroundcolor": "rgb(17,17,17)",
            "gridcolor": "#506784",
            "gridwidth": 2,
            "linecolor": "#506784",
            "showbackground": true,
            "ticks": "",
            "zerolinecolor": "#C8D4E3"
           },
           "zaxis": {
            "backgroundcolor": "rgb(17,17,17)",
            "gridcolor": "#506784",
            "gridwidth": 2,
            "linecolor": "#506784",
            "showbackground": true,
            "ticks": "",
            "zerolinecolor": "#C8D4E3"
           }
          },
          "shapedefaults": {
           "line": {
            "color": "#f2f5fa"
           }
          },
          "sliderdefaults": {
           "bgcolor": "#C8D4E3",
           "bordercolor": "rgb(17,17,17)",
           "borderwidth": 1,
           "tickwidth": 0
          },
          "ternary": {
           "aaxis": {
            "gridcolor": "#506784",
            "linecolor": "#506784",
            "ticks": ""
           },
           "baxis": {
            "gridcolor": "#506784",
            "linecolor": "#506784",
            "ticks": ""
           },
           "bgcolor": "rgb(17,17,17)",
           "caxis": {
            "gridcolor": "#506784",
            "linecolor": "#506784",
            "ticks": ""
           }
          },
          "title": {
           "x": 0.05
          },
          "updatemenudefaults": {
           "bgcolor": "#506784",
           "borderwidth": 0
          },
          "xaxis": {
           "automargin": true,
           "gridcolor": "#283442",
           "linecolor": "#506784",
           "ticks": "",
           "title": {
            "standoff": 15
           },
           "zerolinecolor": "#283442",
           "zerolinewidth": 2
          },
          "yaxis": {
           "automargin": true,
           "gridcolor": "#283442",
           "linecolor": "#506784",
           "ticks": "",
           "title": {
            "standoff": 15
           },
           "zerolinecolor": "#283442",
           "zerolinewidth": 2
          }
         }
        },
        "title": {
         "text": "Rent to Income Ratio"
        },
        "xaxis": {
         "autorange": true,
         "range": [
          "1974-09-30 12:00",
          "2019-09-30 12:00"
         ],
         "title": {
          "text": "Date"
         },
         "type": "date"
        },
        "yaxis": {
         "range": [
          0,
          0.6
         ],
         "tickformat": ".1%",
         "title": {
          "text": "Rent Income Ratio [%]"
         },
         "type": "linear"
        },
        "yaxis2": {
         "overlaying": "y",
         "range": [
          0,
          100000
         ],
         "side": "right",
         "tickformat": "$.2s",
         "title": {
          "text": "Income [$K]"
         },
         "type": "linear"
        }
       }
      },
      "image/png": "[encoded data removed]",
      "text/html": [
       "<div>\n",
       "        \n",
       "        \n",
       "            <div id=\"48e10f07-d08e-46c6-a613-16317f0b199d\" class=\"plotly-graph-div\" style=\"height:525px; width:100%;\"></div>\n",
       "            <script type=\"text/javascript\">\n",
       "                require([\"plotly\"], function(Plotly) {\n",
       "                    window.PLOTLYENV=window.PLOTLYENV || {};\n",
       "                    \n",
       "                if (document.getElementById(\"48e10f07-d08e-46c6-a613-16317f0b199d\")) {\n",
       "                    Plotly.newPlot(\n",
       "                        '48e10f07-d08e-46c6-a613-16317f0b199d',\n",
       "                        [{\"name\": \"Rent Income Ratio\", \"type\": \"bar\", \"x\": [\"1975-04-01T00:00:00\", \"1976-04-01T00:00:00\", \"1977-04-01T00:00:00\", \"1978-04-01T00:00:00\", \"1979-04-01T00:00:00\", \"1980-04-01T00:00:00\", \"1981-04-01T00:00:00\", \"1982-04-01T00:00:00\", \"1983-04-01T00:00:00\", \"1984-04-01T00:00:00\", \"1985-04-01T00:00:00\", \"1986-04-01T00:00:00\", \"1987-04-01T00:00:00\", \"1988-04-01T00:00:00\", \"1989-04-01T00:00:00\", \"1990-04-01T00:00:00\", \"1991-04-01T00:00:00\", \"1992-04-01T00:00:00\", \"1993-04-01T00:00:00\", \"1994-04-01T00:00:00\", \"1995-04-01T00:00:00\", \"1996-04-01T00:00:00\", \"1997-04-01T00:00:00\", \"1998-04-01T00:00:00\", \"1999-04-01T00:00:00\", \"2000-04-01T00:00:00\", \"2001-04-01T00:00:00\", \"2002-04-01T00:00:00\", \"2003-04-01T00:00:00\", \"2004-04-01T00:00:00\", \"2005-04-01T00:00:00\", \"2006-04-01T00:00:00\", \"2007-04-01T00:00:00\", \"2008-04-01T00:00:00\", \"2009-04-01T00:00:00\", \"2010-04-01T00:00:00\", \"2011-04-01T00:00:00\", \"2012-04-01T00:00:00\", \"2013-04-01T00:00:00\", \"2014-04-01T00:00:00\", \"2015-04-01T00:00:00\", \"2016-04-01T00:00:00\", \"2017-04-01T00:00:00\", \"2018-04-01T00:00:00\", \"2019-04-01T00:00:00\"], \"y\": [0.17884220826101113, 0.18781647616353145, 0.19315216223567153, 0.18910540794241837, 0.1776434244432405, 0.16571029421009326, 0.15614873946518706, 0.15872861475291764, 0.1577377006710117, 0.16755088117291814, 0.20303408792756356, 0.21145893794138285, 0.19502121902789435, 0.2041713647573659, 0.21759327356222435, 0.22265546631245844, 0.23133866472390527, 0.2299652717146164, 0.2552049689440994, 0.26227510820541483, 0.2678461465297444, 0.28352513294596665, 0.28466895283344185, 0.27522246205574336, 0.2675932876858126, 0.24609601097426628, 0.26063495356648886, 0.2596389642106379, 0.2882015042190178, 0.27620421223668523, 0.2743867735211486, 0.2795732569221819, 0.2762145738084085, 0.2712295401281183, 0.2670062577015335, 0.25870526428112184, 0.2555541145074581, 0.25181909550181514, 0.2583871028855788, 0.2619618393722594, 0.27308413076577176, 0.27243750861347843, 0.267674234448031, 0.2676260781984644, 0.27365105024298164]}, {\"name\": \"Deflated Annual Rent\", \"type\": \"scatter\", \"x\": [\"1975-04-01T00:00:00\", \"1976-04-01T00:00:00\", \"1977-04-01T00:00:00\", \"1978-04-01T00:00:00\", \"1979-04-01T00:00:00\", \"1980-04-01T00:00:00\", \"1981-04-01T00:00:00\", \"1982-04-01T00:00:00\", \"1983-04-01T00:00:00\", \"1984-04-01T00:00:00\", \"1985-04-01T00:00:00\", \"1986-04-01T00:00:00\", \"1987-04-01T00:00:00\", \"1988-04-01T00:00:00\", \"1989-04-01T00:00:00\", \"1990-04-01T00:00:00\", \"1991-04-01T00:00:00\", \"1992-04-01T00:00:00\", \"1993-04-01T00:00:00\", \"1994-04-01T00:00:00\", \"1995-04-01T00:00:00\", \"1996-04-01T00:00:00\", \"1997-04-01T00:00:00\", \"1998-04-01T00:00:00\", \"1999-04-01T00:00:00\", \"2000-04-01T00:00:00\", \"2001-04-01T00:00:00\", \"2002-04-01T00:00:00\", \"2003-04-01T00:00:00\", \"2004-04-01T00:00:00\", \"2005-04-01T00:00:00\", \"2006-04-01T00:00:00\", \"2007-04-01T00:00:00\", \"2008-04-01T00:00:00\", \"2009-04-01T00:00:00\", \"2010-04-01T00:00:00\", \"2011-04-01T00:00:00\", \"2012-04-01T00:00:00\", \"2013-04-01T00:00:00\", \"2014-04-01T00:00:00\", \"2015-04-01T00:00:00\", \"2016-04-01T00:00:00\", \"2017-04-01T00:00:00\", \"2018-04-01T00:00:00\", \"2019-04-01T00:00:00\"], \"y\": [10741.147594154438, 10472.269335453277, 10530.176689693568, 10381.6691621566, 9785.559368700468, 9156.397434782857, 8875.098169302246, 9114.446440800615, 9019.025613797969, 9203.813146420425, 10251.737374502716, 11022.494889536365, 10426.806141446588, 11825.493924027827, 12479.069787438397, 12252.383686667821, 12346.782820107144, 12282.549001748124, 13021.700603093728, 13685.886715439343, 13933.076037159144, 15093.788375883129, 15672.871387015508, 15343.22660450486, 15325.492493160184, 14935.1656305285, 14722.779899622643, 14999.635642343277, 16440.61478575268, 16747.40440755728, 17260.898466520837, 17452.71506845436, 18234.770380028025, 18706.784530277284, 18291.48519118116, 18754.81885028117, 18247.348872553895, 18891.57824858807, 19436.00413471452, 20151.07305662905, 21337.686559868573, 22317.63331601266, 23049.22857142857, 23829.38896746818, 24913.26530612245], \"yaxis\": \"y2\"}, {\"name\": \"Full household income\", \"type\": \"scatter\", \"x\": [\"1975-04-01T00:00:00\", \"1976-04-01T00:00:00\", \"1977-04-01T00:00:00\", \"1978-04-01T00:00:00\", \"1979-04-01T00:00:00\", \"1980-04-01T00:00:00\", \"1981-04-01T00:00:00\", \"1982-04-01T00:00:00\", \"1983-04-01T00:00:00\", \"1984-04-01T00:00:00\", \"1985-04-01T00:00:00\", \"1986-04-01T00:00:00\", \"1987-04-01T00:00:00\", \"1988-04-01T00:00:00\", \"1989-04-01T00:00:00\", \"1990-04-01T00:00:00\", \"1991-04-01T00:00:00\", \"1992-04-01T00:00:00\", \"1993-04-01T00:00:00\", \"1994-04-01T00:00:00\", \"1995-04-01T00:00:00\", \"1996-04-01T00:00:00\", \"1997-04-01T00:00:00\", \"1998-04-01T00:00:00\", \"1999-04-01T00:00:00\", \"2000-04-01T00:00:00\", \"2001-04-01T00:00:00\", \"2002-04-01T00:00:00\", \"2003-04-01T00:00:00\", \"2004-04-01T00:00:00\", \"2005-04-01T00:00:00\", \"2006-04-01T00:00:00\", \"2007-04-01T00:00:00\", \"2008-04-01T00:00:00\", \"2009-04-01T00:00:00\", \"2010-04-01T00:00:00\", \"2011-04-01T00:00:00\", \"2012-04-01T00:00:00\", \"2013-04-01T00:00:00\", \"2014-04-01T00:00:00\", \"2015-04-01T00:00:00\", \"2016-04-01T00:00:00\", \"2017-04-01T00:00:00\", \"2018-04-01T00:00:00\", \"2019-04-01T00:00:00\"], \"y\": [60059.35454833054, 55757.99072247044, 54517.51907827643, 54898.848611023146, 55085.40155296932, 55255.45337077284, 56837.46279156435, 57421.5711199173, 57177.36200940733, 54931.45175955106, 50492.69055824866, 52125.93516662719, 53464.98290504079, 57919.45377884437, 57350.439115802, 55028.44322480598, 53371.03002147352, 53410.451544138334, 51024.47909603997, 52181.416715765896, 52018.9527371523, 53236.15659413043, 55056.48308681422, 55748.4534143774, 57271.587885097455, 60688.369435172346, 56488.12524244494, 57771.127257211236, 57045.555089326284, 60634.13831359702, 62907.181148038966, 62426.26802216728, 66016.68452395368, 68970.306558205, 68505.82959605334, 72494.92546043155, 71403.07213492885, 75020.43564623913, 75220.48862988854, 76923.69661519089, 78135.94477289572, 81918.35782669659, 86109.25373134328, 89039.86161541754, 91040.26929186398], \"yaxis\": \"y2\"}],\n",
       "                        {\"legend\": {\"x\": 0, \"y\": 1}, \"shapes\": [{\"fillcolor\": \"rgba(128, 128, 128, 0.5)\", \"layer\": \"below\", \"line\": {\"width\": 0}, \"type\": \"rect\", \"x0\": 0, \"x1\": 1, \"xref\": \"paper\", \"y0\": 0.24, \"y1\": 0.29}], \"template\": {\"data\": {\"bar\": [{\"error_x\": {\"color\": \"#f2f5fa\"}, \"error_y\": {\"color\": \"#f2f5fa\"}, \"hoverlabel\": {\"namelength\": -1}, \"marker\": {\"line\": {\"color\": \"rgb(17,17,17)\", \"width\": 0.5}}, \"type\": \"bar\"}], \"barpolar\": [{\"marker\": {\"line\": {\"color\": \"rgb(17,17,17)\", \"width\": 0.5}}, \"type\": \"barpolar\"}], \"carpet\": [{\"aaxis\": {\"endlinecolor\": \"#A2B1C6\", \"gridcolor\": \"#506784\", \"linecolor\": \"#506784\", \"minorgridcolor\": \"#506784\", \"startlinecolor\": \"#A2B1C6\"}, \"baxis\": {\"endlinecolor\": \"#A2B1C6\", \"gridcolor\": \"#506784\", \"linecolor\": \"#506784\", \"minorgridcolor\": \"#506784\", \"startlinecolor\": \"#A2B1C6\"}, \"type\": \"carpet\"}], \"choropleth\": [{\"colorbar\": {\"outlinewidth\": 0, \"ticks\": \"\"}, \"type\": \"choropleth\"}], \"contour\": [{\"colorbar\": {\"outlinewidth\": 0, \"ticks\": \"\"}, \"colorscale\": [[0.0, \"#0d0887\"], [0.1111111111111111, \"#46039f\"], [0.2222222222222222, \"#7201a8\"], [0.3333333333333333, \"#9c179e\"], [0.4444444444444444, \"#bd3786\"], [0.5555555555555556, \"#d8576b\"], [0.6666666666666666, \"#ed7953\"], [0.7777777777777778, \"#fb9f3a\"], [0.8888888888888888, \"#fdca26\"], [1.0, \"#f0f921\"]], \"type\": \"contour\"}], \"contourcarpet\": [{\"colorbar\": {\"outlinewidth\": 0, \"ticks\": \"\"}, \"type\": \"contourcarpet\"}], \"heatmap\": [{\"colorbar\": {\"outlinewidth\": 0, \"ticks\": \"\"}, \"colorscale\": [[0.0, \"#0d0887\"], [0.1111111111111111, \"#46039f\"], [0.2222222222222222, \"#7201a8\"], [0.3333333333333333, \"#9c179e\"], [0.4444444444444444, \"#bd3786\"], [0.5555555555555556, \"#d8576b\"], [0.6666666666666666, \"#ed7953\"], [0.7777777777777778, \"#fb9f3a\"], [0.8888888888888888, \"#fdca26\"], [1.0, \"#f0f921\"]], \"type\": \"heatmap\"}], \"heatmapgl\": [{\"colorbar\": {\"outlinewidth\": 0, \"ticks\": \"\"}, \"colorscale\": [[0.0, \"#0d0887\"], [0.1111111111111111, \"#46039f\"], [0.2222222222222222, \"#7201a8\"], [0.3333333333333333, \"#9c179e\"], [0.4444444444444444, \"#bd3786\"], [0.5555555555555556, \"#d8576b\"], [0.6666666666666666, \"#ed7953\"], [0.7777777777777778, \"#fb9f3a\"], [0.8888888888888888, \"#fdca26\"], [1.0, \"#f0f921\"]], \"type\": \"heatmapgl\"}], \"histogram\": [{\"marker\": {\"colorbar\": {\"outlinewidth\": 0, \"ticks\": \"\"}}, \"type\": \"histogram\"}], \"histogram2d\": [{\"colorbar\": {\"outlinewidth\": 0, \"ticks\": \"\"}, \"colorscale\": [[0.0, \"#0d0887\"], [0.1111111111111111, \"#46039f\"], [0.2222222222222222, \"#7201a8\"], [0.3333333333333333, \"#9c179e\"], [0.4444444444444444, \"#bd3786\"], [0.5555555555555556, \"#d8576b\"], [0.6666666666666666, \"#ed7953\"], [0.7777777777777778, \"#fb9f3a\"], [0.8888888888888888, \"#fdca26\"], [1.0, \"#f0f921\"]], \"type\": \"histogram2d\"}], \"histogram2dcontour\": [{\"colorbar\": {\"outlinewidth\": 0, \"ticks\": \"\"}, \"colorscale\": [[0.0, \"#0d0887\"], [0.1111111111111111, \"#46039f\"], [0.2222222222222222, \"#7201a8\"], [0.3333333333333333, \"#9c179e\"], [0.4444444444444444, \"#bd3786\"], [0.5555555555555556, \"#d8576b\"], [0.6666666666666666, \"#ed7953\"], [0.7777777777777778, \"#fb9f3a\"], [0.8888888888888888, \"#fdca26\"], [1.0, \"#f0f921\"]], \"type\": \"histogram2dcontour\"}], \"mesh3d\": [{\"colorbar\": {\"outlinewidth\": 0, \"ticks\": \"\"}, \"type\": \"mesh3d\"}], \"parcoords\": [{\"line\": {\"colorbar\": {\"outlinewidth\": 0, \"ticks\": \"\"}}, \"type\": \"parcoords\"}], \"pie\": [{\"automargin\": true, \"type\": \"pie\"}], \"scatter\": [{\"hoverlabel\": {\"namelength\": -1}, \"marker\": {\"line\": {\"color\": \"#283442\"}}, \"type\": \"scatter\"}], \"scatter3d\": [{\"line\": {\"colorbar\": {\"outlinewidth\": 0, \"ticks\": \"\"}}, \"marker\": {\"colorbar\": {\"outlinewidth\": 0, \"ticks\": \"\"}}, \"type\": \"scatter3d\"}], \"scattercarpet\": [{\"marker\": {\"colorbar\": {\"outlinewidth\": 0, \"ticks\": \"\"}}, \"type\": \"scattercarpet\"}], \"scattergeo\": [{\"marker\": {\"colorbar\": {\"outlinewidth\": 0, \"ticks\": \"\"}}, \"type\": \"scattergeo\"}], \"scattergl\": [{\"marker\": {\"line\": {\"color\": \"#283442\"}}, \"type\": \"scattergl\"}], \"scattermapbox\": [{\"marker\": {\"colorbar\": {\"outlinewidth\": 0, \"ticks\": \"\"}}, \"type\": \"scattermapbox\"}], \"scatterpolar\": [{\"marker\": {\"colorbar\": {\"outlinewidth\": 0, \"ticks\": \"\"}}, \"type\": \"scatterpolar\"}], \"scatterpolargl\": [{\"marker\": {\"colorbar\": {\"outlinewidth\": 0, \"ticks\": \"\"}}, \"type\": \"scatterpolargl\"}], \"scatterternary\": [{\"marker\": {\"colorbar\": {\"outlinewidth\": 0, \"ticks\": \"\"}}, \"type\": \"scatterternary\"}], \"surface\": [{\"colorbar\": {\"outlinewidth\": 0, \"ticks\": \"\"}, \"colorscale\": [[0.0, \"#0d0887\"], [0.1111111111111111, \"#46039f\"], [0.2222222222222222, \"#7201a8\"], [0.3333333333333333, \"#9c179e\"], [0.4444444444444444, \"#bd3786\"], [0.5555555555555556, \"#d8576b\"], [0.6666666666666666, \"#ed7953\"], [0.7777777777777778, \"#fb9f3a\"], [0.8888888888888888, \"#fdca26\"], [1.0, \"#f0f921\"]], \"type\": \"surface\"}], \"table\": [{\"cells\": {\"fill\": {\"color\": \"#506784\"}, \"line\": {\"color\": \"rgb(17,17,17)\"}}, \"header\": {\"fill\": {\"color\": \"#2a3f5f\"}, \"line\": {\"color\": \"rgb(17,17,17)\"}}, \"type\": \"table\"}]}, \"layout\": {\"annotationdefaults\": {\"arrowcolor\": \"#f2f5fa\", \"arrowhead\": 0, \"arrowwidth\": 1}, \"coloraxis\": {\"colorbar\": {\"outlinewidth\": 0, \"ticks\": \"\"}}, \"colorscale\": {\"diverging\": [[0, \"#8e0152\"], [0.1, \"#c51b7d\"], [0.2, \"#de77ae\"], [0.3, \"#f1b6da\"], [0.4, \"#fde0ef\"], [0.5, \"#f7f7f7\"], [0.6, \"#e6f5d0\"], [0.7, \"#b8e186\"], [0.8, \"#7fbc41\"], [0.9, \"#4d9221\"], [1, \"#276419\"]], \"sequential\": [[0.0, \"#0d0887\"], [0.1111111111111111, \"#46039f\"], [0.2222222222222222, \"#7201a8\"], [0.3333333333333333, \"#9c179e\"], [0.4444444444444444, \"#bd3786\"], [0.5555555555555556, \"#d8576b\"], [0.6666666666666666, \"#ed7953\"], [0.7777777777777778, \"#fb9f3a\"], [0.8888888888888888, \"#fdca26\"], [1.0, \"#f0f921\"]], \"sequentialminus\": [[0.0, \"#0d0887\"], [0.1111111111111111, \"#46039f\"], [0.2222222222222222, \"#7201a8\"], [0.3333333333333333, \"#9c179e\"], [0.4444444444444444, \"#bd3786\"], [0.5555555555555556, \"#d8576b\"], [0.6666666666666666, \"#ed7953\"], [0.7777777777777778, \"#fb9f3a\"], [0.8888888888888888, \"#fdca26\"], [1.0, \"#f0f921\"]]}, \"colorway\": [\"#636efa\", \"#EF553B\", \"#00cc96\", \"#ab63fa\", \"#FFA15A\", \"#19d3f3\", \"#FF6692\", \"#B6E880\", \"#FF97FF\", \"#FECB52\"], \"font\": {\"color\": \"#f2f5fa\"}, \"geo\": {\"bgcolor\": \"rgb(17,17,17)\", \"lakecolor\": \"rgb(17,17,17)\", \"landcolor\": \"rgb(17,17,17)\", \"showlakes\": true, \"showland\": true, \"subunitcolor\": \"#506784\"}, \"hoverlabel\": {\"align\": \"left\"}, \"hovermode\": \"x\", \"mapbox\": {\"style\": \"dark\"}, \"paper_bgcolor\": \"rgb(17,17,17)\", \"plot_bgcolor\": \"rgb(17,17,17)\", \"polar\": {\"angularaxis\": {\"gridcolor\": \"#506784\", \"linecolor\": \"#506784\", \"ticks\": \"\"}, \"bgcolor\": \"rgb(17,17,17)\", \"radialaxis\": {\"gridcolor\": \"#506784\", \"linecolor\": \"#506784\", \"ticks\": \"\"}}, \"scene\": {\"xaxis\": {\"backgroundcolor\": \"rgb(17,17,17)\", \"gridcolor\": \"#506784\", \"gridwidth\": 2, \"linecolor\": \"#506784\", \"showbackground\": true, \"ticks\": \"\", \"zerolinecolor\": \"#C8D4E3\"}, \"yaxis\": {\"backgroundcolor\": \"rgb(17,17,17)\", \"gridcolor\": \"#506784\", \"gridwidth\": 2, \"linecolor\": \"#506784\", \"showbackground\": true, \"ticks\": \"\", \"zerolinecolor\": \"#C8D4E3\"}, \"zaxis\": {\"backgroundcolor\": \"rgb(17,17,17)\", \"gridcolor\": \"#506784\", \"gridwidth\": 2, \"linecolor\": \"#506784\", \"showbackground\": true, \"ticks\": \"\", \"zerolinecolor\": \"#C8D4E3\"}}, \"shapedefaults\": {\"line\": {\"color\": \"#f2f5fa\"}}, \"sliderdefaults\": {\"bgcolor\": \"#C8D4E3\", \"bordercolor\": \"rgb(17,17,17)\", \"borderwidth\": 1, \"tickwidth\": 0}, \"ternary\": {\"aaxis\": {\"gridcolor\": \"#506784\", \"linecolor\": \"#506784\", \"ticks\": \"\"}, \"baxis\": {\"gridcolor\": \"#506784\", \"linecolor\": \"#506784\", \"ticks\": \"\"}, \"bgcolor\": \"rgb(17,17,17)\", \"caxis\": {\"gridcolor\": \"#506784\", \"linecolor\": \"#506784\", \"ticks\": \"\"}}, \"title\": {\"x\": 0.05}, \"updatemenudefaults\": {\"bgcolor\": \"#506784\", \"borderwidth\": 0}, \"xaxis\": {\"automargin\": true, \"gridcolor\": \"#283442\", \"linecolor\": \"#506784\", \"ticks\": \"\", \"title\": {\"standoff\": 15}, \"zerolinecolor\": \"#283442\", \"zerolinewidth\": 2}, \"yaxis\": {\"automargin\": true, \"gridcolor\": \"#283442\", \"linecolor\": \"#506784\", \"ticks\": \"\", \"title\": {\"standoff\": 15}, \"zerolinecolor\": \"#283442\", \"zerolinewidth\": 2}}}, \"title\": {\"text\": \"Rent to Income Ratio\"}, \"xaxis\": {\"title\": {\"text\": \"Date\"}}, \"yaxis\": {\"range\": [0, 0.6], \"tickformat\": \".1%\", \"title\": {\"text\": \"Rent Income Ratio [%]\"}}, \"yaxis2\": {\"overlaying\": \"y\", \"range\": [0, 100000], \"side\": \"right\", \"tickformat\": \"$.2s\", \"title\": {\"text\": \"Income [$K]\"}}},\n",
       "                        {\"responsive\": true}\n",
       "                    ).then(function(){\n",
       "                            \n",
       "var gd = document.getElementById('48e10f07-d08e-46c6-a613-16317f0b199d');\n",
       "var x = new MutationObserver(function (mutations, observer) {{\n",
       "        var display = window.getComputedStyle(gd).display;\n",
       "        if (!display || display === 'none') {{\n",
       "            console.log([gd, 'removed!']);\n",
       "            Plotly.purge(gd);\n",
       "            observer.disconnect();\n",
       "        }}\n",
       "}});\n",
       "\n",
       "// Listen for the removal of the full notebook cells\n",
       "var notebookContainer = gd.closest('#notebook-container');\n",
       "if (notebookContainer) {{\n",
       "    x.observe(notebookContainer, {childList: true});\n",
       "}}\n",
       "\n",
       "// Listen for the clearing of the current output cell\n",
       "var outputEl = gd.closest('.output');\n",
       "if (outputEl) {{\n",
       "    x.observe(outputEl, {childList: true});\n",
       "}}\n",
       "\n",
       "                        })\n",
       "                };\n",
       "                });\n",
       "            </script>\n",
       "        </div>"
      ]
     },
     "metadata": {},
     "output_type": "display_data"
    }
   ],
   "source": [
    "income = pd.read_csv('out/gen/income_stats-nz_1972-now.csv', parse_dates=True, index_col=0)\n",
    "income['Deflated Household Income'] = income['Deflated Income']/income['Occupied Dwellings']\n",
    "income['Deflated Household Salaries'] = income['Deflated Salaries']/income['Occupied Dwellings']\n",
    "income['Deflated Rent'] = income['Deflated Rent']*365/7\n",
    "income['Household Income - Rent'] = income['Deflated Household Income'] - income['Deflated Rent']\n",
    "income['Rent Income Ratio'] = income['Deflated Rent']/income['Deflated Household Income'] \n",
    "\n",
    "df = income.dropna()\n",
    "#income[['Deflated Household Salaries', 'Deflated Household Income']].dropna().iplot(\n",
    "#    layout=go.Layout(\n",
    "#        yaxis=go.layout.YAxis(title=\"Amount [$K]\", tickformat=\"$.3s\"),\n",
    "#        legend = go.layout.Legend(x=0)\n",
    "#    )\n",
    "#)\n",
    "\n",
    "\n",
    "#income[['Household Income - Rent', 'Deflated Household Income']].dropna().iplot(\n",
    "#    layout=go.Layout(\n",
    "#        yaxis=go.layout.YAxis(title=\"Amount [$K]\", tickformat=\"$.3s\"),\n",
    "#        legend = go.layout.Legend(x=0)\n",
    "#    )\n",
    "#)\n",
    "\n",
    "#income[['Rent ratio']].dropna().iplot(\n",
    "#    layout=go.Layout(\n",
    "#        yaxis=go.layout.YAxis(title=\"Amount [$K]\", tickformat=\"%\"),\n",
    "#        legend = go.layout.Legend(x=0)\n",
    "#    )\n",
    "#)\n",
    "\n",
    "fig = go.Figure(\n",
    " data = [\n",
    "     go.Bar(x=df.index, y=df[\"Rent Income Ratio\"], \n",
    "                name=\"Rent Income Ratio\"),\n",
    "\n",
    "     go.Scatter(x=df.index, y=df[\"Deflated Rent\"], \n",
    "                name=\"Deflated Annual Rent\", yaxis=\"y2\"),#, fill=\"tozeroy\"),\n",
    "     #go.Scatter(x=df.index, y=df[\"Deflated Household Salaries\"], \n",
    "     #           name=\"Deflated Household Salaries\", fill=\"tonexty\"),\n",
    "     go.Scatter(x=df.index, y=df[\"Deflated Household Income\"], \n",
    "                name=\"Full household income\", yaxis=\"y2\")#, fill=\"tonexty\"),\n",
    "          \n",
    " ],\n",
    " layout=go.Layout(\n",
    "    title='Rent to Income Ratio',\n",
    "    xaxis=go.layout.XAxis(title = \"Date\"),\n",
    "    yaxis2=go.layout.YAxis(title=\"Income [$K]\", overlaying='y', side='right', tickformat=\"$.2s\", range=[0,100000]),\n",
    "    yaxis=go.layout.YAxis(title=\"Rent Income Ratio [%]\", tickformat=\".1%\", range=[0,0.6]),\n",
    "    legend = go.layout.Legend(x=0, y=1),\n",
    "    shapes = [\n",
    "         go.layout.Shape(type=\"rect\",x0=0, y0=0.24, x1=1, y1=0.29,\n",
    "            line_width=0, layer='below', fillcolor=\"rgba(128, 128, 128, 0.5)\",\n",
    "                         xref=\"paper\"\n",
    "        )\n",
    "     ],\n",
    "))\n",
    "fig.show()\n"
   ]
  },
  {
   "cell_type": "code",
   "execution_count": null,
   "metadata": {},
   "outputs": [],
   "source": []
  }
 ],
 "metadata": {
  "kernelspec": {
   "display_name": "Python 3",
   "language": "python",
   "name": "python3"
  },
  "language_info": {
   "codemirror_mode": {
    "name": "ipython",
    "version": 3
   },
   "file_extension": ".py",
   "mimetype": "text/x-python",
   "name": "python",
   "nbconvert_exporter": "python",
   "pygments_lexer": "ipython3",
   "version": "3.7.4"
  }
 },
 "nbformat": 4,
 "nbformat_minor": 4
}
