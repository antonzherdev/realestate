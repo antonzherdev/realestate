{
 "cells": [
  {
   "cell_type": "code",
   "execution_count": 1,
   "metadata": {},
   "outputs": [
    {
     "data": {
      "text/html": [
       "        <script type=\"text/javascript\">\n",
       "        window.PlotlyConfig = {MathJaxConfig: 'local'};\n",
       "        if (window.MathJax) {MathJax.Hub.Config({SVG: {font: \"STIX-Web\"}});}\n",
       "        if (typeof require !== 'undefined') {\n",
       "        require.undef(\"plotly\");\n",
       "        requirejs.config({\n",
       "            paths: {\n",
       "                'plotly': ['https://cdn.plot.ly/plotly-latest.min']\n",
       "            }\n",
       "        });\n",
       "        require(['plotly'], function(Plotly) {\n",
       "            window._Plotly = Plotly;\n",
       "        });\n",
       "        }\n",
       "        </script>\n",
       "        "
      ]
     },
     "metadata": {},
     "output_type": "display_data"
    },
    {
     "data": {
      "text/html": [
       "        <script type=\"text/javascript\">\n",
       "        window.PlotlyConfig = {MathJaxConfig: 'local'};\n",
       "        if (window.MathJax) {MathJax.Hub.Config({SVG: {font: \"STIX-Web\"}});}\n",
       "        if (typeof require !== 'undefined') {\n",
       "        require.undef(\"plotly\");\n",
       "        requirejs.config({\n",
       "            paths: {\n",
       "                'plotly': ['https://cdn.plot.ly/plotly-latest.min']\n",
       "            }\n",
       "        });\n",
       "        require(['plotly'], function(Plotly) {\n",
       "            window._Plotly = Plotly;\n",
       "        });\n",
       "        }\n",
       "        </script>\n",
       "        "
      ]
     },
     "metadata": {},
     "output_type": "display_data"
    }
   ],
   "source": [
    "import pandas as pd\n",
    "\n",
    "import chart_studio.plotly as py\n",
    "import plotly.graph_objs as go\n",
    "import plotly.io as pio\n",
    "from plotly.offline import iplot, init_notebook_mode\n",
    "import cufflinks\n",
    "cufflinks.go_offline(connected=True)\n",
    "init_notebook_mode(connected=True)\n",
    "t = go.layout.Template(\n",
    "    layout=go.Layout(\n",
    "        hovermode='x'\n",
    "    )\n",
    ")\n",
    "t.data.scatter = [\n",
    "    go.Scatter(hoverlabel=go.scatter.Hoverlabel(namelength=-1))\n",
    "]\n",
    "pio.templates[\"my\"] = t\n",
    "pio.templates.default = \"plotly_dark+my\""
   ]
  },
  {
   "cell_type": "code",
   "execution_count": 7,
   "metadata": {},
   "outputs": [
    {
     "data": {
      "application/vnd.plotly.v1+json": {
       "config": {
        "linkText": "Export to plot.ly",
        "plotlyServerURL": "https://plot.ly",
        "showLink": true
       },
       "data": [
        {
         "line": {
          "color": "rgba(255, 153, 51, 1.0)",
          "dash": "solid",
          "shape": "linear",
          "width": 1.3
         },
         "mode": "lines",
         "name": "Deflated GDP per capita",
         "text": "",
         "type": "scatter",
         "x": [
          "1949-04-01",
          "1950-04-01",
          "1951-04-01",
          "1952-04-01",
          "1953-04-01",
          "1954-04-01",
          "1955-04-01",
          "1956-04-01",
          "1957-04-01",
          "1958-04-01",
          "1959-04-01",
          "1960-04-01",
          "1961-04-01",
          "1962-04-01",
          "1963-04-01",
          "1964-04-01",
          "1965-04-01",
          "1966-04-01",
          "1967-04-01",
          "1968-04-01",
          "1969-04-01",
          "1970-04-01",
          "1971-04-01",
          "1972-04-01",
          "1973-04-01",
          "1974-04-01",
          "1975-04-01",
          "1976-04-01",
          "1977-04-01",
          "1978-04-01",
          "1979-04-01",
          "1980-04-01",
          "1981-04-01",
          "1982-04-01",
          "1983-04-01",
          "1984-04-01",
          "1985-04-01",
          "1986-04-01",
          "1987-04-01",
          "1988-04-01",
          "1989-04-01",
          "1990-04-01",
          "1991-04-01",
          "1992-04-01",
          "1993-04-01",
          "1994-04-01",
          "1995-04-01",
          "1996-04-01",
          "1997-04-01",
          "1998-04-01",
          "1999-04-01",
          "2000-04-01",
          "2001-04-01",
          "2002-04-01",
          "2003-04-01",
          "2004-04-01",
          "2005-04-01",
          "2006-04-01",
          "2007-04-01",
          "2008-04-01",
          "2009-04-01",
          "2010-04-01",
          "2011-04-01",
          "2012-04-01",
          "2013-04-01",
          "2014-04-01",
          "2015-04-01",
          "2016-04-01",
          "2017-04-01",
          "2018-04-01",
          "2019-04-01"
         ],
         "y": [
          20516.05035803396,
          21427.965090203776,
          23960.18977790748,
          22259.10834097561,
          21874.353618317054,
          22370.108999466105,
          23777.87039423597,
          23930.357258202614,
          23863.65299039919,
          24438.76026559416,
          23663.979226068946,
          24702.661633668773,
          25768.924122883433,
          25295.309753606958,
          26219.521504031563,
          27255.216900296193,
          28349.862491813685,
          29170.827188040363,
          28217.636314880507,
          27923.131612492827,
          27789.354773820625,
          30059.146570757173,
          30223.910472139316,
          32471.824989593086,
          33946.35951280665,
          35209.449659206315,
          33157.22833827004,
          32393.841011758246,
          34313.50703441429,
          32458.533850279484,
          32684.79060863261,
          32212.442761429447,
          32293.4098843482,
          33139.60467365462,
          34087.759606914384,
          35846.58978722709,
          34607.678484297314,
          35909.099105455585,
          36987.89178034542,
          38876.5697713105,
          40005.16106665276,
          38708.346313838825,
          37702.98619458402,
          36865.80285574777,
          37074.32818942083,
          39031.81159614194,
          39338.53316223794,
          40440.628254086165,
          41467.36296959061,
          41912.57095285064,
          42650.36502903197,
          44058.422572402196,
          44904.871272913115,
          46128.46691298903,
          46807.709441398976,
          48156.62213912859,
          49521.202985084434,
          49598.21010302811,
          50887.074282533045,
          52660.86673281759,
          51931.11308042163,
          51750.87308285907,
          51089.14369698147,
          52758.722406213165,
          53029.03368265847,
          55054.51706246752,
          56042.2768555355,
          57475.97323380727,
          58918.4264975595,
          60427.950773943776,
          60692.364100306644
         ]
        },
        {
         "line": {
          "color": "rgba(55, 128, 191, 1.0)",
          "dash": "solid",
          "shape": "linear",
          "width": 1.3
         },
         "mode": "lines",
         "name": "Deflated Consumption per capita",
         "text": "",
         "type": "scatter",
         "x": [
          "1949-04-01",
          "1950-04-01",
          "1951-04-01",
          "1952-04-01",
          "1953-04-01",
          "1954-04-01",
          "1955-04-01",
          "1956-04-01",
          "1957-04-01",
          "1958-04-01",
          "1959-04-01",
          "1960-04-01",
          "1961-04-01",
          "1962-04-01",
          "1963-04-01",
          "1964-04-01",
          "1965-04-01",
          "1966-04-01",
          "1967-04-01",
          "1968-04-01",
          "1969-04-01",
          "1970-04-01",
          "1971-04-01",
          "1972-04-01",
          "1973-04-01",
          "1974-04-01",
          "1975-04-01",
          "1976-04-01",
          "1977-04-01",
          "1978-04-01",
          "1979-04-01",
          "1980-04-01",
          "1981-04-01",
          "1982-04-01",
          "1983-04-01",
          "1984-04-01",
          "1985-04-01",
          "1986-04-01",
          "1987-04-01",
          "1988-04-01",
          "1989-04-01",
          "1990-04-01",
          "1991-04-01",
          "1992-04-01",
          "1993-04-01",
          "1994-04-01",
          "1995-04-01",
          "1996-04-01",
          "1997-04-01",
          "1998-04-01",
          "1999-04-01",
          "2000-04-01",
          "2001-04-01",
          "2002-04-01",
          "2003-04-01",
          "2004-04-01",
          "2005-04-01",
          "2006-04-01",
          "2007-04-01",
          "2008-04-01",
          "2009-04-01",
          "2010-04-01",
          "2011-04-01",
          "2012-04-01",
          "2013-04-01",
          "2014-04-01",
          "2015-04-01",
          "2016-04-01",
          "2017-04-01",
          "2018-04-01",
          "2019-04-01"
         ],
         "y": [
          14141.616664710207,
          13436.534304589466,
          13828.447077112372,
          14279.667151775935,
          13146.871967542373,
          13594.542745100436,
          14895.648349040452,
          15177.461295808218,
          14976.258497071853,
          15850.915841660724,
          14893.23968405923,
          14626.162206508721,
          16515.897561624428,
          17575.254248010977,
          17778.39345157105,
          18327.68723454781,
          18653.59411402006,
          19300.20649315048,
          19151.92933710679,
          18966.246366957865,
          18774.050258919422,
          19168.79316581193,
          18986.48815955286,
          19540.31695381451,
          20060.704828073685,
          20528.08166471368,
          20033.99976067965,
          19372.2696484721,
          19528.903120568564,
          19423.87673727301,
          19483.584403845864,
          19201.492966991103,
          19484.267133152895,
          19347.971313299142,
          20207.70125577008,
          20870.733605462752,
          20307.67645747748,
          21636.770166830425,
          20821.571501713646,
          22372.506323195583,
          23055.261663863766,
          22583.45591062904,
          22693.271264140287,
          22149.949720072702,
          21990.64564827042,
          22378.361884105816,
          22722.524108677237,
          23323.066542630404,
          24317.02503811158,
          24662.73328074509,
          25751.434977791774,
          26019.170174969,
          26036.566661051547,
          26111.223835746125,
          26933.996736937555,
          27632.520527660414,
          28449.564093029847,
          28854.666457235588,
          29716.45243788249,
          29924.348334128154,
          30087.766830058066,
          30208.345339380758,
          29669.69485824632,
          30912.10196985889,
          31361.62879847261,
          31800.730973678554,
          32282.10710872415,
          32981.577372052125,
          33955.84439566712,
          34714.74804290873,
          35240.24593025067
         ]
        }
       ],
       "layout": {
        "autosize": true,
        "legend": {
         "x": 0,
         "y": 1
        },
        "template": {
         "data": {
          "bar": [
           {
            "error_x": {
             "color": "#f2f5fa"
            },
            "error_y": {
             "color": "#f2f5fa"
            },
            "marker": {
             "line": {
              "color": "rgb(17,17,17)",
              "width": 0.5
             }
            },
            "type": "bar"
           }
          ],
          "barpolar": [
           {
            "marker": {
             "line": {
              "color": "rgb(17,17,17)",
              "width": 0.5
             }
            },
            "type": "barpolar"
           }
          ],
          "carpet": [
           {
            "aaxis": {
             "endlinecolor": "#A2B1C6",
             "gridcolor": "#506784",
             "linecolor": "#506784",
             "minorgridcolor": "#506784",
             "startlinecolor": "#A2B1C6"
            },
            "baxis": {
             "endlinecolor": "#A2B1C6",
             "gridcolor": "#506784",
             "linecolor": "#506784",
             "minorgridcolor": "#506784",
             "startlinecolor": "#A2B1C6"
            },
            "type": "carpet"
           }
          ],
          "choropleth": [
           {
            "colorbar": {
             "outlinewidth": 0,
             "ticks": ""
            },
            "type": "choropleth"
           }
          ],
          "contour": [
           {
            "colorbar": {
             "outlinewidth": 0,
             "ticks": ""
            },
            "colorscale": [
             [
              0,
              "#0d0887"
             ],
             [
              0.1111111111111111,
              "#46039f"
             ],
             [
              0.2222222222222222,
              "#7201a8"
             ],
             [
              0.3333333333333333,
              "#9c179e"
             ],
             [
              0.4444444444444444,
              "#bd3786"
             ],
             [
              0.5555555555555556,
              "#d8576b"
             ],
             [
              0.6666666666666666,
              "#ed7953"
             ],
             [
              0.7777777777777778,
              "#fb9f3a"
             ],
             [
              0.8888888888888888,
              "#fdca26"
             ],
             [
              1,
              "#f0f921"
             ]
            ],
            "type": "contour"
           }
          ],
          "contourcarpet": [
           {
            "colorbar": {
             "outlinewidth": 0,
             "ticks": ""
            },
            "type": "contourcarpet"
           }
          ],
          "heatmap": [
           {
            "colorbar": {
             "outlinewidth": 0,
             "ticks": ""
            },
            "colorscale": [
             [
              0,
              "#0d0887"
             ],
             [
              0.1111111111111111,
              "#46039f"
             ],
             [
              0.2222222222222222,
              "#7201a8"
             ],
             [
              0.3333333333333333,
              "#9c179e"
             ],
             [
              0.4444444444444444,
              "#bd3786"
             ],
             [
              0.5555555555555556,
              "#d8576b"
             ],
             [
              0.6666666666666666,
              "#ed7953"
             ],
             [
              0.7777777777777778,
              "#fb9f3a"
             ],
             [
              0.8888888888888888,
              "#fdca26"
             ],
             [
              1,
              "#f0f921"
             ]
            ],
            "type": "heatmap"
           }
          ],
          "heatmapgl": [
           {
            "colorbar": {
             "outlinewidth": 0,
             "ticks": ""
            },
            "colorscale": [
             [
              0,
              "#0d0887"
             ],
             [
              0.1111111111111111,
              "#46039f"
             ],
             [
              0.2222222222222222,
              "#7201a8"
             ],
             [
              0.3333333333333333,
              "#9c179e"
             ],
             [
              0.4444444444444444,
              "#bd3786"
             ],
             [
              0.5555555555555556,
              "#d8576b"
             ],
             [
              0.6666666666666666,
              "#ed7953"
             ],
             [
              0.7777777777777778,
              "#fb9f3a"
             ],
             [
              0.8888888888888888,
              "#fdca26"
             ],
             [
              1,
              "#f0f921"
             ]
            ],
            "type": "heatmapgl"
           }
          ],
          "histogram": [
           {
            "marker": {
             "colorbar": {
              "outlinewidth": 0,
              "ticks": ""
             }
            },
            "type": "histogram"
           }
          ],
          "histogram2d": [
           {
            "colorbar": {
             "outlinewidth": 0,
             "ticks": ""
            },
            "colorscale": [
             [
              0,
              "#0d0887"
             ],
             [
              0.1111111111111111,
              "#46039f"
             ],
             [
              0.2222222222222222,
              "#7201a8"
             ],
             [
              0.3333333333333333,
              "#9c179e"
             ],
             [
              0.4444444444444444,
              "#bd3786"
             ],
             [
              0.5555555555555556,
              "#d8576b"
             ],
             [
              0.6666666666666666,
              "#ed7953"
             ],
             [
              0.7777777777777778,
              "#fb9f3a"
             ],
             [
              0.8888888888888888,
              "#fdca26"
             ],
             [
              1,
              "#f0f921"
             ]
            ],
            "type": "histogram2d"
           }
          ],
          "histogram2dcontour": [
           {
            "colorbar": {
             "outlinewidth": 0,
             "ticks": ""
            },
            "colorscale": [
             [
              0,
              "#0d0887"
             ],
             [
              0.1111111111111111,
              "#46039f"
             ],
             [
              0.2222222222222222,
              "#7201a8"
             ],
             [
              0.3333333333333333,
              "#9c179e"
             ],
             [
              0.4444444444444444,
              "#bd3786"
             ],
             [
              0.5555555555555556,
              "#d8576b"
             ],
             [
              0.6666666666666666,
              "#ed7953"
             ],
             [
              0.7777777777777778,
              "#fb9f3a"
             ],
             [
              0.8888888888888888,
              "#fdca26"
             ],
             [
              1,
              "#f0f921"
             ]
            ],
            "type": "histogram2dcontour"
           }
          ],
          "mesh3d": [
           {
            "colorbar": {
             "outlinewidth": 0,
             "ticks": ""
            },
            "type": "mesh3d"
           }
          ],
          "parcoords": [
           {
            "line": {
             "colorbar": {
              "outlinewidth": 0,
              "ticks": ""
             }
            },
            "type": "parcoords"
           }
          ],
          "pie": [
           {
            "automargin": true,
            "type": "pie"
           }
          ],
          "scatter": [
           {
            "hoverlabel": {
             "namelength": -1
            },
            "marker": {
             "line": {
              "color": "#283442"
             }
            },
            "type": "scatter"
           }
          ],
          "scatter3d": [
           {
            "line": {
             "colorbar": {
              "outlinewidth": 0,
              "ticks": ""
             }
            },
            "marker": {
             "colorbar": {
              "outlinewidth": 0,
              "ticks": ""
             }
            },
            "type": "scatter3d"
           }
          ],
          "scattercarpet": [
           {
            "marker": {
             "colorbar": {
              "outlinewidth": 0,
              "ticks": ""
             }
            },
            "type": "scattercarpet"
           }
          ],
          "scattergeo": [
           {
            "marker": {
             "colorbar": {
              "outlinewidth": 0,
              "ticks": ""
             }
            },
            "type": "scattergeo"
           }
          ],
          "scattergl": [
           {
            "marker": {
             "line": {
              "color": "#283442"
             }
            },
            "type": "scattergl"
           }
          ],
          "scattermapbox": [
           {
            "marker": {
             "colorbar": {
              "outlinewidth": 0,
              "ticks": ""
             }
            },
            "type": "scattermapbox"
           }
          ],
          "scatterpolar": [
           {
            "marker": {
             "colorbar": {
              "outlinewidth": 0,
              "ticks": ""
             }
            },
            "type": "scatterpolar"
           }
          ],
          "scatterpolargl": [
           {
            "marker": {
             "colorbar": {
              "outlinewidth": 0,
              "ticks": ""
             }
            },
            "type": "scatterpolargl"
           }
          ],
          "scatterternary": [
           {
            "marker": {
             "colorbar": {
              "outlinewidth": 0,
              "ticks": ""
             }
            },
            "type": "scatterternary"
           }
          ],
          "surface": [
           {
            "colorbar": {
             "outlinewidth": 0,
             "ticks": ""
            },
            "colorscale": [
             [
              0,
              "#0d0887"
             ],
             [
              0.1111111111111111,
              "#46039f"
             ],
             [
              0.2222222222222222,
              "#7201a8"
             ],
             [
              0.3333333333333333,
              "#9c179e"
             ],
             [
              0.4444444444444444,
              "#bd3786"
             ],
             [
              0.5555555555555556,
              "#d8576b"
             ],
             [
              0.6666666666666666,
              "#ed7953"
             ],
             [
              0.7777777777777778,
              "#fb9f3a"
             ],
             [
              0.8888888888888888,
              "#fdca26"
             ],
             [
              1,
              "#f0f921"
             ]
            ],
            "type": "surface"
           }
          ],
          "table": [
           {
            "cells": {
             "fill": {
              "color": "#506784"
             },
             "line": {
              "color": "rgb(17,17,17)"
             }
            },
            "header": {
             "fill": {
              "color": "#2a3f5f"
             },
             "line": {
              "color": "rgb(17,17,17)"
             }
            },
            "type": "table"
           }
          ]
         },
         "layout": {
          "annotationdefaults": {
           "arrowcolor": "#f2f5fa",
           "arrowhead": 0,
           "arrowwidth": 1
          },
          "coloraxis": {
           "colorbar": {
            "outlinewidth": 0,
            "ticks": ""
           }
          },
          "colorscale": {
           "diverging": [
            [
             0,
             "#8e0152"
            ],
            [
             0.1,
             "#c51b7d"
            ],
            [
             0.2,
             "#de77ae"
            ],
            [
             0.3,
             "#f1b6da"
            ],
            [
             0.4,
             "#fde0ef"
            ],
            [
             0.5,
             "#f7f7f7"
            ],
            [
             0.6,
             "#e6f5d0"
            ],
            [
             0.7,
             "#b8e186"
            ],
            [
             0.8,
             "#7fbc41"
            ],
            [
             0.9,
             "#4d9221"
            ],
            [
             1,
             "#276419"
            ]
           ],
           "sequential": [
            [
             0,
             "#0d0887"
            ],
            [
             0.1111111111111111,
             "#46039f"
            ],
            [
             0.2222222222222222,
             "#7201a8"
            ],
            [
             0.3333333333333333,
             "#9c179e"
            ],
            [
             0.4444444444444444,
             "#bd3786"
            ],
            [
             0.5555555555555556,
             "#d8576b"
            ],
            [
             0.6666666666666666,
             "#ed7953"
            ],
            [
             0.7777777777777778,
             "#fb9f3a"
            ],
            [
             0.8888888888888888,
             "#fdca26"
            ],
            [
             1,
             "#f0f921"
            ]
           ],
           "sequentialminus": [
            [
             0,
             "#0d0887"
            ],
            [
             0.1111111111111111,
             "#46039f"
            ],
            [
             0.2222222222222222,
             "#7201a8"
            ],
            [
             0.3333333333333333,
             "#9c179e"
            ],
            [
             0.4444444444444444,
             "#bd3786"
            ],
            [
             0.5555555555555556,
             "#d8576b"
            ],
            [
             0.6666666666666666,
             "#ed7953"
            ],
            [
             0.7777777777777778,
             "#fb9f3a"
            ],
            [
             0.8888888888888888,
             "#fdca26"
            ],
            [
             1,
             "#f0f921"
            ]
           ]
          },
          "colorway": [
           "#636efa",
           "#EF553B",
           "#00cc96",
           "#ab63fa",
           "#FFA15A",
           "#19d3f3",
           "#FF6692",
           "#B6E880",
           "#FF97FF",
           "#FECB52"
          ],
          "font": {
           "color": "#f2f5fa"
          },
          "geo": {
           "bgcolor": "rgb(17,17,17)",
           "lakecolor": "rgb(17,17,17)",
           "landcolor": "rgb(17,17,17)",
           "showlakes": true,
           "showland": true,
           "subunitcolor": "#506784"
          },
          "hoverlabel": {
           "align": "left"
          },
          "hovermode": "x",
          "mapbox": {
           "style": "dark"
          },
          "paper_bgcolor": "rgb(17,17,17)",
          "plot_bgcolor": "rgb(17,17,17)",
          "polar": {
           "angularaxis": {
            "gridcolor": "#506784",
            "linecolor": "#506784",
            "ticks": ""
           },
           "bgcolor": "rgb(17,17,17)",
           "radialaxis": {
            "gridcolor": "#506784",
            "linecolor": "#506784",
            "ticks": ""
           }
          },
          "scene": {
           "xaxis": {
            "backgroundcolor": "rgb(17,17,17)",
            "gridcolor": "#506784",
            "gridwidth": 2,
            "linecolor": "#506784",
            "showbackground": true,
            "ticks": "",
            "zerolinecolor": "#C8D4E3"
           },
           "yaxis": {
            "backgroundcolor": "rgb(17,17,17)",
            "gridcolor": "#506784",
            "gridwidth": 2,
            "linecolor": "#506784",
            "showbackground": true,
            "ticks": "",
            "zerolinecolor": "#C8D4E3"
           },
           "zaxis": {
            "backgroundcolor": "rgb(17,17,17)",
            "gridcolor": "#506784",
            "gridwidth": 2,
            "linecolor": "#506784",
            "showbackground": true,
            "ticks": "",
            "zerolinecolor": "#C8D4E3"
           }
          },
          "shapedefaults": {
           "line": {
            "color": "#f2f5fa"
           }
          },
          "sliderdefaults": {
           "bgcolor": "#C8D4E3",
           "bordercolor": "rgb(17,17,17)",
           "borderwidth": 1,
           "tickwidth": 0
          },
          "ternary": {
           "aaxis": {
            "gridcolor": "#506784",
            "linecolor": "#506784",
            "ticks": ""
           },
           "baxis": {
            "gridcolor": "#506784",
            "linecolor": "#506784",
            "ticks": ""
           },
           "bgcolor": "rgb(17,17,17)",
           "caxis": {
            "gridcolor": "#506784",
            "linecolor": "#506784",
            "ticks": ""
           }
          },
          "title": {
           "x": 0.05
          },
          "updatemenudefaults": {
           "bgcolor": "#506784",
           "borderwidth": 0
          },
          "xaxis": {
           "automargin": true,
           "gridcolor": "#283442",
           "linecolor": "#506784",
           "ticks": "",
           "title": {
            "standoff": 15
           },
           "zerolinecolor": "#283442",
           "zerolinewidth": 2
          },
          "yaxis": {
           "automargin": true,
           "gridcolor": "#283442",
           "linecolor": "#506784",
           "ticks": "",
           "title": {
            "standoff": 15
           },
           "zerolinecolor": "#283442",
           "zerolinewidth": 2
          }
         }
        },
        "xaxis": {
         "autorange": true,
         "range": [
          "1949-04-01",
          "2019-04-01"
         ],
         "type": "date"
        },
        "yaxis": {
         "autorange": true,
         "range": [
          10505.455737944358,
          63333.78032990466
         ],
         "tickformat": "$.3s",
         "title": {
          "text": "Amount [$K]"
         },
         "type": "linear"
        }
       }
      },
      "image/png": "[encoded data removed]",
      "text/html": [
       "<div>\n",
       "        \n",
       "        \n",
       "            <div id=\"6764fe01-1a06-4dcb-beaf-1f0c47fc9079\" class=\"plotly-graph-div\" style=\"height:525px; width:100%;\"></div>\n",
       "            <script type=\"text/javascript\">\n",
       "                require([\"plotly\"], function(Plotly) {\n",
       "                    window.PLOTLYENV=window.PLOTLYENV || {};\n",
       "                    window.PLOTLYENV.BASE_URL='https://plot.ly';\n",
       "                    \n",
       "                if (document.getElementById(\"6764fe01-1a06-4dcb-beaf-1f0c47fc9079\")) {\n",
       "                    Plotly.newPlot(\n",
       "                        '6764fe01-1a06-4dcb-beaf-1f0c47fc9079',\n",
       "                        [{\"line\": {\"color\": \"rgba(255, 153, 51, 1.0)\", \"dash\": \"solid\", \"shape\": \"linear\", \"width\": 1.3}, \"mode\": \"lines\", \"name\": \"Deflated GDP per capita\", \"text\": \"\", \"type\": \"scatter\", \"x\": [\"1949-04-01\", \"1950-04-01\", \"1951-04-01\", \"1952-04-01\", \"1953-04-01\", \"1954-04-01\", \"1955-04-01\", \"1956-04-01\", \"1957-04-01\", \"1958-04-01\", \"1959-04-01\", \"1960-04-01\", \"1961-04-01\", \"1962-04-01\", \"1963-04-01\", \"1964-04-01\", \"1965-04-01\", \"1966-04-01\", \"1967-04-01\", \"1968-04-01\", \"1969-04-01\", \"1970-04-01\", \"1971-04-01\", \"1972-04-01\", \"1973-04-01\", \"1974-04-01\", \"1975-04-01\", \"1976-04-01\", \"1977-04-01\", \"1978-04-01\", \"1979-04-01\", \"1980-04-01\", \"1981-04-01\", \"1982-04-01\", \"1983-04-01\", \"1984-04-01\", \"1985-04-01\", \"1986-04-01\", \"1987-04-01\", \"1988-04-01\", \"1989-04-01\", \"1990-04-01\", \"1991-04-01\", \"1992-04-01\", \"1993-04-01\", \"1994-04-01\", \"1995-04-01\", \"1996-04-01\", \"1997-04-01\", \"1998-04-01\", \"1999-04-01\", \"2000-04-01\", \"2001-04-01\", \"2002-04-01\", \"2003-04-01\", \"2004-04-01\", \"2005-04-01\", \"2006-04-01\", \"2007-04-01\", \"2008-04-01\", \"2009-04-01\", \"2010-04-01\", \"2011-04-01\", \"2012-04-01\", \"2013-04-01\", \"2014-04-01\", \"2015-04-01\", \"2016-04-01\", \"2017-04-01\", \"2018-04-01\", \"2019-04-01\"], \"y\": [20516.05035803396, 21427.965090203776, 23960.18977790748, 22259.10834097561, 21874.353618317054, 22370.108999466105, 23777.87039423597, 23930.357258202614, 23863.65299039919, 24438.76026559416, 23663.979226068946, 24702.661633668773, 25768.924122883433, 25295.309753606958, 26219.521504031563, 27255.216900296193, 28349.862491813685, 29170.827188040363, 28217.636314880507, 27923.131612492827, 27789.354773820625, 30059.146570757173, 30223.910472139316, 32471.824989593086, 33946.35951280665, 35209.449659206315, 33157.22833827004, 32393.841011758246, 34313.50703441429, 32458.533850279484, 32684.79060863261, 32212.442761429447, 32293.4098843482, 33139.60467365462, 34087.759606914384, 35846.58978722709, 34607.678484297314, 35909.099105455585, 36987.89178034542, 38876.5697713105, 40005.16106665276, 38708.346313838825, 37702.98619458402, 36865.80285574777, 37074.32818942083, 39031.81159614194, 39338.53316223794, 40440.628254086165, 41467.36296959061, 41912.57095285064, 42650.36502903197, 44058.422572402196, 44904.871272913115, 46128.46691298903, 46807.709441398976, 48156.62213912859, 49521.202985084434, 49598.21010302811, 50887.074282533045, 52660.86673281759, 51931.11308042163, 51750.87308285907, 51089.14369698147, 52758.722406213165, 53029.03368265847, 55054.51706246752, 56042.2768555355, 57475.97323380727, 58918.4264975595, 60427.950773943776, 60692.364100306644]}, {\"line\": {\"color\": \"rgba(55, 128, 191, 1.0)\", \"dash\": \"solid\", \"shape\": \"linear\", \"width\": 1.3}, \"mode\": \"lines\", \"name\": \"Deflated Consumption per capita\", \"text\": \"\", \"type\": \"scatter\", \"x\": [\"1949-04-01\", \"1950-04-01\", \"1951-04-01\", \"1952-04-01\", \"1953-04-01\", \"1954-04-01\", \"1955-04-01\", \"1956-04-01\", \"1957-04-01\", \"1958-04-01\", \"1959-04-01\", \"1960-04-01\", \"1961-04-01\", \"1962-04-01\", \"1963-04-01\", \"1964-04-01\", \"1965-04-01\", \"1966-04-01\", \"1967-04-01\", \"1968-04-01\", \"1969-04-01\", \"1970-04-01\", \"1971-04-01\", \"1972-04-01\", \"1973-04-01\", \"1974-04-01\", \"1975-04-01\", \"1976-04-01\", \"1977-04-01\", \"1978-04-01\", \"1979-04-01\", \"1980-04-01\", \"1981-04-01\", \"1982-04-01\", \"1983-04-01\", \"1984-04-01\", \"1985-04-01\", \"1986-04-01\", \"1987-04-01\", \"1988-04-01\", \"1989-04-01\", \"1990-04-01\", \"1991-04-01\", \"1992-04-01\", \"1993-04-01\", \"1994-04-01\", \"1995-04-01\", \"1996-04-01\", \"1997-04-01\", \"1998-04-01\", \"1999-04-01\", \"2000-04-01\", \"2001-04-01\", \"2002-04-01\", \"2003-04-01\", \"2004-04-01\", \"2005-04-01\", \"2006-04-01\", \"2007-04-01\", \"2008-04-01\", \"2009-04-01\", \"2010-04-01\", \"2011-04-01\", \"2012-04-01\", \"2013-04-01\", \"2014-04-01\", \"2015-04-01\", \"2016-04-01\", \"2017-04-01\", \"2018-04-01\", \"2019-04-01\"], \"y\": [14141.616664710207, 13436.534304589466, 13828.447077112372, 14279.667151775935, 13146.871967542373, 13594.542745100436, 14895.648349040452, 15177.461295808218, 14976.258497071853, 15850.915841660724, 14893.23968405923, 14626.162206508721, 16515.897561624428, 17575.254248010977, 17778.39345157105, 18327.68723454781, 18653.59411402006, 19300.20649315048, 19151.92933710679, 18966.246366957865, 18774.050258919422, 19168.79316581193, 18986.48815955286, 19540.31695381451, 20060.704828073685, 20528.08166471368, 20033.99976067965, 19372.2696484721, 19528.903120568564, 19423.87673727301, 19483.584403845864, 19201.492966991103, 19484.267133152895, 19347.971313299142, 20207.70125577008, 20870.733605462752, 20307.67645747748, 21636.770166830425, 20821.571501713646, 22372.506323195583, 23055.261663863766, 22583.45591062904, 22693.271264140287, 22149.949720072702, 21990.64564827042, 22378.361884105816, 22722.524108677237, 23323.066542630404, 24317.02503811158, 24662.73328074509, 25751.434977791774, 26019.170174969, 26036.566661051547, 26111.223835746125, 26933.996736937555, 27632.520527660414, 28449.564093029847, 28854.666457235588, 29716.45243788249, 29924.348334128154, 30087.766830058066, 30208.345339380758, 29669.69485824632, 30912.10196985889, 31361.62879847261, 31800.730973678554, 32282.10710872415, 32981.577372052125, 33955.84439566712, 34714.74804290873, 35240.24593025067]}],\n",
       "                        {\"legend\": {\"x\": 0}, \"template\": {\"data\": {\"bar\": [{\"error_x\": {\"color\": \"#f2f5fa\"}, \"error_y\": {\"color\": \"#f2f5fa\"}, \"marker\": {\"line\": {\"color\": \"rgb(17,17,17)\", \"width\": 0.5}}, \"type\": \"bar\"}], \"barpolar\": [{\"marker\": {\"line\": {\"color\": \"rgb(17,17,17)\", \"width\": 0.5}}, \"type\": \"barpolar\"}], \"carpet\": [{\"aaxis\": {\"endlinecolor\": \"#A2B1C6\", \"gridcolor\": \"#506784\", \"linecolor\": \"#506784\", \"minorgridcolor\": \"#506784\", \"startlinecolor\": \"#A2B1C6\"}, \"baxis\": {\"endlinecolor\": \"#A2B1C6\", \"gridcolor\": \"#506784\", \"linecolor\": \"#506784\", \"minorgridcolor\": \"#506784\", \"startlinecolor\": \"#A2B1C6\"}, \"type\": \"carpet\"}], \"choropleth\": [{\"colorbar\": {\"outlinewidth\": 0, \"ticks\": \"\"}, \"type\": \"choropleth\"}], \"contour\": [{\"colorbar\": {\"outlinewidth\": 0, \"ticks\": \"\"}, \"colorscale\": [[0.0, \"#0d0887\"], [0.1111111111111111, \"#46039f\"], [0.2222222222222222, \"#7201a8\"], [0.3333333333333333, \"#9c179e\"], [0.4444444444444444, \"#bd3786\"], [0.5555555555555556, \"#d8576b\"], [0.6666666666666666, \"#ed7953\"], [0.7777777777777778, \"#fb9f3a\"], [0.8888888888888888, \"#fdca26\"], [1.0, \"#f0f921\"]], \"type\": \"contour\"}], \"contourcarpet\": [{\"colorbar\": {\"outlinewidth\": 0, \"ticks\": \"\"}, \"type\": \"contourcarpet\"}], \"heatmap\": [{\"colorbar\": {\"outlinewidth\": 0, \"ticks\": \"\"}, \"colorscale\": [[0.0, \"#0d0887\"], [0.1111111111111111, \"#46039f\"], [0.2222222222222222, \"#7201a8\"], [0.3333333333333333, \"#9c179e\"], [0.4444444444444444, \"#bd3786\"], [0.5555555555555556, \"#d8576b\"], [0.6666666666666666, \"#ed7953\"], [0.7777777777777778, \"#fb9f3a\"], [0.8888888888888888, \"#fdca26\"], [1.0, \"#f0f921\"]], \"type\": \"heatmap\"}], \"heatmapgl\": [{\"colorbar\": {\"outlinewidth\": 0, \"ticks\": \"\"}, \"colorscale\": [[0.0, \"#0d0887\"], [0.1111111111111111, \"#46039f\"], [0.2222222222222222, \"#7201a8\"], [0.3333333333333333, \"#9c179e\"], [0.4444444444444444, \"#bd3786\"], [0.5555555555555556, \"#d8576b\"], [0.6666666666666666, \"#ed7953\"], [0.7777777777777778, \"#fb9f3a\"], [0.8888888888888888, \"#fdca26\"], [1.0, \"#f0f921\"]], \"type\": \"heatmapgl\"}], \"histogram\": [{\"marker\": {\"colorbar\": {\"outlinewidth\": 0, \"ticks\": \"\"}}, \"type\": \"histogram\"}], \"histogram2d\": [{\"colorbar\": {\"outlinewidth\": 0, \"ticks\": \"\"}, \"colorscale\": [[0.0, \"#0d0887\"], [0.1111111111111111, \"#46039f\"], [0.2222222222222222, \"#7201a8\"], [0.3333333333333333, \"#9c179e\"], [0.4444444444444444, \"#bd3786\"], [0.5555555555555556, \"#d8576b\"], [0.6666666666666666, \"#ed7953\"], [0.7777777777777778, \"#fb9f3a\"], [0.8888888888888888, \"#fdca26\"], [1.0, \"#f0f921\"]], \"type\": \"histogram2d\"}], \"histogram2dcontour\": [{\"colorbar\": {\"outlinewidth\": 0, \"ticks\": \"\"}, \"colorscale\": [[0.0, \"#0d0887\"], [0.1111111111111111, \"#46039f\"], [0.2222222222222222, \"#7201a8\"], [0.3333333333333333, \"#9c179e\"], [0.4444444444444444, \"#bd3786\"], [0.5555555555555556, \"#d8576b\"], [0.6666666666666666, \"#ed7953\"], [0.7777777777777778, \"#fb9f3a\"], [0.8888888888888888, \"#fdca26\"], [1.0, \"#f0f921\"]], \"type\": \"histogram2dcontour\"}], \"mesh3d\": [{\"colorbar\": {\"outlinewidth\": 0, \"ticks\": \"\"}, \"type\": \"mesh3d\"}], \"parcoords\": [{\"line\": {\"colorbar\": {\"outlinewidth\": 0, \"ticks\": \"\"}}, \"type\": \"parcoords\"}], \"pie\": [{\"automargin\": true, \"type\": \"pie\"}], \"scatter\": [{\"hoverlabel\": {\"namelength\": -1}, \"marker\": {\"line\": {\"color\": \"#283442\"}}, \"type\": \"scatter\"}], \"scatter3d\": [{\"line\": {\"colorbar\": {\"outlinewidth\": 0, \"ticks\": \"\"}}, \"marker\": {\"colorbar\": {\"outlinewidth\": 0, \"ticks\": \"\"}}, \"type\": \"scatter3d\"}], \"scattercarpet\": [{\"marker\": {\"colorbar\": {\"outlinewidth\": 0, \"ticks\": \"\"}}, \"type\": \"scattercarpet\"}], \"scattergeo\": [{\"marker\": {\"colorbar\": {\"outlinewidth\": 0, \"ticks\": \"\"}}, \"type\": \"scattergeo\"}], \"scattergl\": [{\"marker\": {\"line\": {\"color\": \"#283442\"}}, \"type\": \"scattergl\"}], \"scattermapbox\": [{\"marker\": {\"colorbar\": {\"outlinewidth\": 0, \"ticks\": \"\"}}, \"type\": \"scattermapbox\"}], \"scatterpolar\": [{\"marker\": {\"colorbar\": {\"outlinewidth\": 0, \"ticks\": \"\"}}, \"type\": \"scatterpolar\"}], \"scatterpolargl\": [{\"marker\": {\"colorbar\": {\"outlinewidth\": 0, \"ticks\": \"\"}}, \"type\": \"scatterpolargl\"}], \"scatterternary\": [{\"marker\": {\"colorbar\": {\"outlinewidth\": 0, \"ticks\": \"\"}}, \"type\": \"scatterternary\"}], \"surface\": [{\"colorbar\": {\"outlinewidth\": 0, \"ticks\": \"\"}, \"colorscale\": [[0.0, \"#0d0887\"], [0.1111111111111111, \"#46039f\"], [0.2222222222222222, \"#7201a8\"], [0.3333333333333333, \"#9c179e\"], [0.4444444444444444, \"#bd3786\"], [0.5555555555555556, \"#d8576b\"], [0.6666666666666666, \"#ed7953\"], [0.7777777777777778, \"#fb9f3a\"], [0.8888888888888888, \"#fdca26\"], [1.0, \"#f0f921\"]], \"type\": \"surface\"}], \"table\": [{\"cells\": {\"fill\": {\"color\": \"#506784\"}, \"line\": {\"color\": \"rgb(17,17,17)\"}}, \"header\": {\"fill\": {\"color\": \"#2a3f5f\"}, \"line\": {\"color\": \"rgb(17,17,17)\"}}, \"type\": \"table\"}]}, \"layout\": {\"annotationdefaults\": {\"arrowcolor\": \"#f2f5fa\", \"arrowhead\": 0, \"arrowwidth\": 1}, \"coloraxis\": {\"colorbar\": {\"outlinewidth\": 0, \"ticks\": \"\"}}, \"colorscale\": {\"diverging\": [[0, \"#8e0152\"], [0.1, \"#c51b7d\"], [0.2, \"#de77ae\"], [0.3, \"#f1b6da\"], [0.4, \"#fde0ef\"], [0.5, \"#f7f7f7\"], [0.6, \"#e6f5d0\"], [0.7, \"#b8e186\"], [0.8, \"#7fbc41\"], [0.9, \"#4d9221\"], [1, \"#276419\"]], \"sequential\": [[0.0, \"#0d0887\"], [0.1111111111111111, \"#46039f\"], [0.2222222222222222, \"#7201a8\"], [0.3333333333333333, \"#9c179e\"], [0.4444444444444444, \"#bd3786\"], [0.5555555555555556, \"#d8576b\"], [0.6666666666666666, \"#ed7953\"], [0.7777777777777778, \"#fb9f3a\"], [0.8888888888888888, \"#fdca26\"], [1.0, \"#f0f921\"]], \"sequentialminus\": [[0.0, \"#0d0887\"], [0.1111111111111111, \"#46039f\"], [0.2222222222222222, \"#7201a8\"], [0.3333333333333333, \"#9c179e\"], [0.4444444444444444, \"#bd3786\"], [0.5555555555555556, \"#d8576b\"], [0.6666666666666666, \"#ed7953\"], [0.7777777777777778, \"#fb9f3a\"], [0.8888888888888888, \"#fdca26\"], [1.0, \"#f0f921\"]]}, \"colorway\": [\"#636efa\", \"#EF553B\", \"#00cc96\", \"#ab63fa\", \"#FFA15A\", \"#19d3f3\", \"#FF6692\", \"#B6E880\", \"#FF97FF\", \"#FECB52\"], \"font\": {\"color\": \"#f2f5fa\"}, \"geo\": {\"bgcolor\": \"rgb(17,17,17)\", \"lakecolor\": \"rgb(17,17,17)\", \"landcolor\": \"rgb(17,17,17)\", \"showlakes\": true, \"showland\": true, \"subunitcolor\": \"#506784\"}, \"hoverlabel\": {\"align\": \"left\"}, \"hovermode\": \"x\", \"mapbox\": {\"style\": \"dark\"}, \"paper_bgcolor\": \"rgb(17,17,17)\", \"plot_bgcolor\": \"rgb(17,17,17)\", \"polar\": {\"angularaxis\": {\"gridcolor\": \"#506784\", \"linecolor\": \"#506784\", \"ticks\": \"\"}, \"bgcolor\": \"rgb(17,17,17)\", \"radialaxis\": {\"gridcolor\": \"#506784\", \"linecolor\": \"#506784\", \"ticks\": \"\"}}, \"scene\": {\"xaxis\": {\"backgroundcolor\": \"rgb(17,17,17)\", \"gridcolor\": \"#506784\", \"gridwidth\": 2, \"linecolor\": \"#506784\", \"showbackground\": true, \"ticks\": \"\", \"zerolinecolor\": \"#C8D4E3\"}, \"yaxis\": {\"backgroundcolor\": \"rgb(17,17,17)\", \"gridcolor\": \"#506784\", \"gridwidth\": 2, \"linecolor\": \"#506784\", \"showbackground\": true, \"ticks\": \"\", \"zerolinecolor\": \"#C8D4E3\"}, \"zaxis\": {\"backgroundcolor\": \"rgb(17,17,17)\", \"gridcolor\": \"#506784\", \"gridwidth\": 2, \"linecolor\": \"#506784\", \"showbackground\": true, \"ticks\": \"\", \"zerolinecolor\": \"#C8D4E3\"}}, \"shapedefaults\": {\"line\": {\"color\": \"#f2f5fa\"}}, \"sliderdefaults\": {\"bgcolor\": \"#C8D4E3\", \"bordercolor\": \"rgb(17,17,17)\", \"borderwidth\": 1, \"tickwidth\": 0}, \"ternary\": {\"aaxis\": {\"gridcolor\": \"#506784\", \"linecolor\": \"#506784\", \"ticks\": \"\"}, \"baxis\": {\"gridcolor\": \"#506784\", \"linecolor\": \"#506784\", \"ticks\": \"\"}, \"bgcolor\": \"rgb(17,17,17)\", \"caxis\": {\"gridcolor\": \"#506784\", \"linecolor\": \"#506784\", \"ticks\": \"\"}}, \"title\": {\"x\": 0.05}, \"updatemenudefaults\": {\"bgcolor\": \"#506784\", \"borderwidth\": 0}, \"xaxis\": {\"automargin\": true, \"gridcolor\": \"#283442\", \"linecolor\": \"#506784\", \"ticks\": \"\", \"title\": {\"standoff\": 15}, \"zerolinecolor\": \"#283442\", \"zerolinewidth\": 2}, \"yaxis\": {\"automargin\": true, \"gridcolor\": \"#283442\", \"linecolor\": \"#506784\", \"ticks\": \"\", \"title\": {\"standoff\": 15}, \"zerolinecolor\": \"#283442\", \"zerolinewidth\": 2}}}, \"yaxis\": {\"tickformat\": \"$.3s\", \"title\": {\"text\": \"Amount [$K]\"}}},\n",
       "                        {\"showLink\": true, \"linkText\": \"Export to plot.ly\", \"plotlyServerURL\": \"https://plot.ly\", \"responsive\": true}\n",
       "                    ).then(function(){\n",
       "                            \n",
       "var gd = document.getElementById('6764fe01-1a06-4dcb-beaf-1f0c47fc9079');\n",
       "var x = new MutationObserver(function (mutations, observer) {{\n",
       "        var display = window.getComputedStyle(gd).display;\n",
       "        if (!display || display === 'none') {{\n",
       "            console.log([gd, 'removed!']);\n",
       "            Plotly.purge(gd);\n",
       "            observer.disconnect();\n",
       "        }}\n",
       "}});\n",
       "\n",
       "// Listen for the removal of the full notebook cells\n",
       "var notebookContainer = gd.closest('#notebook-container');\n",
       "if (notebookContainer) {{\n",
       "    x.observe(notebookContainer, {childList: true});\n",
       "}}\n",
       "\n",
       "// Listen for the clearing of the current output cell\n",
       "var outputEl = gd.closest('.output');\n",
       "if (outputEl) {{\n",
       "    x.observe(outputEl, {childList: true});\n",
       "}}\n",
       "\n",
       "                        })\n",
       "                };\n",
       "                });\n",
       "            </script>\n",
       "        </div>"
      ]
     },
     "metadata": {},
     "output_type": "display_data"
    }
   ],
   "source": [
    "gdp = pd.read_csv('out/gen/gdp_1860-now.csv', parse_dates=True, index_col=0)\n",
    "gdp[['Deflated GDP per capita', 'Deflated Consumption per capita']].dropna().iplot(\n",
    "    layout=go.Layout(\n",
    "        yaxis=go.layout.YAxis(title=\"Amount [$K]\", tickformat=\"$.3s\"),\n",
    "        legend = go.layout.Legend(x=0)\n",
    "    )\n",
    ")\n"
   ]
  },
  {
   "cell_type": "code",
   "execution_count": null,
   "metadata": {},
   "outputs": [],
   "source": []
  }
 ],
 "metadata": {
  "kernelspec": {
   "display_name": "Python 3",
   "language": "python",
   "name": "python3"
  },
  "language_info": {
   "codemirror_mode": {
    "name": "ipython",
    "version": 3
   },
   "file_extension": ".py",
   "mimetype": "text/x-python",
   "name": "python",
   "nbconvert_exporter": "python",
   "pygments_lexer": "ipython3",
   "version": "3.7.4"
  }
 },
 "nbformat": 4,
 "nbformat_minor": 4
}
