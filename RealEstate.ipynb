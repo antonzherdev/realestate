{
 "cells": [
  {
   "cell_type": "markdown",
   "metadata": {},
   "source": [
    "# Real Estate Fair Value\n",
    "\n",
    "## Morgage\n",
    "\n",
    "Owner:\n",
    "\n",
    "$rent - depositO*adjDepositInterest >= (propertyCost - depositO)*morgageInterest + expensesO - adjGain$\n",
    "\n",
    "Investor:\n",
    "\n",
    "$(rent - expensesI - (propertyCost - depositI)*morgageInterest)*(1 - tax) + adjGain >= depositI*adjDepositInterest$\n",
    "\n",
    "Assuming the property inflation is equal to inflation on a long term."
   ]
  },
  {
   "cell_type": "code",
   "execution_count": 210,
   "metadata": {},
   "outputs": [],
   "source": [
    "propertyCost = 500000 #500k\n",
    "rent = 450*52 # $500 weekly\n",
    "rates = 3500\n",
    "\n",
    "morgageInterest = 0.052 #5.2%\n",
    "depositInterest = 0.025 #2.5%\n",
    "\n",
    "inflation = 0.017 #1.7%\n",
    "propertyInflation = inflation #0.02\n",
    "\n",
    "depositPercentO = 0.2 # 20% Current LVR NZ\n",
    "depositPercentI = 0.3 # 30% Current LVR NZ"
   ]
  },
  {
   "cell_type": "code",
   "execution_count": 207,
   "metadata": {},
   "outputs": [
    {
     "name": "stdout",
     "output_type": "stream",
     "text": [
      "adjDepositInterest = 0.1%\n",
      "rent = $23400\n",
      "expensesO = $5600.0 expensesI = $7972.0\n"
     ]
    }
   ],
   "source": [
    "tax = 0.28 #High PIR NZ 28%\n",
    "\n",
    "ratesRate = rates/propertyCost\n",
    "insuranceRateO = 0.002 #0.2%\n",
    "insuranceRateI = 0.003 #0.3%\n",
    "maintainance = 1100\n",
    "managementRentRate = 0.08 #8% of annual rent\n",
    "\n",
    "adjDepositInterest = depositInterest*(1 - tax) - inflation\n",
    "print(\"adjDepositInterest = \" + str(round(adjDepositInterest * 100, 2)) + \"%\")\n",
    "\n",
    "adjGainRate = propertyInflation - inflation\n",
    "adjGain = propertyCost*adjGainRate\n",
    "\n",
    "rates = propertyCost*ratesRate\n",
    "insuranceO = propertyCost*insuranceRateO\n",
    "insuranceI = propertyCost*insuranceRateI\n",
    "management = rent*managementRentRate\n",
    "\n",
    "expensesO = rates + insuranceO + maintainance\n",
    "expensesI = rates + insuranceI + management + maintainance\n",
    "print(\"rent = $\" + str(rent))\n",
    "print(\"expensesO = $\" + str(expensesO), \"expensesI = $\" + str(expensesI))"
   ]
  },
  {
   "cell_type": "code",
   "execution_count": 211,
   "metadata": {},
   "outputs": [
    {
     "name": "stdout",
     "output_type": "stream",
     "text": [
      "Owner = False = 23300 >= 26400\n",
      "Investor = False = -1996 >= 150\n"
     ]
    }
   ],
   "source": [
    "def checkFormulas(depositPercentO=depositPercentO, depositPercentI = depositPercentI):\n",
    "    depositO = propertyCost*depositPercentO\n",
    "    depositI = propertyCost*depositPercentI\n",
    "    leftO = rent - depositO*adjDepositInterest \n",
    "    rightO = (propertyCost - depositO)*morgageInterest + expensesO - adjGain\n",
    "    print(\"Owner =\", leftO >= rightO, \"=\", round(leftO), \">=\", round(rightO))\n",
    "    \n",
    "    leftI = (rent - expensesI - (propertyCost - depositI)*morgageInterest)*(1 - tax) + adjGain\n",
    "    rightI = depositI*adjDepositInterest\n",
    "    print(\"Investor =\", leftI >= rightI, \"=\", round(leftI), \">=\", round(rightI))\n",
    "checkFormulas()"
   ]
  },
  {
   "cell_type": "markdown",
   "metadata": {},
   "source": [
    "## No morgage \n",
    "\n",
    "$deposit == propertyCost$\n",
    "\n",
    "Owner: $rent + adjGain - propertyCost*adjDepositInterest >= expenses$\n",
    "\n",
    "Or: $rent + adjGain - expenses >= propertyCost*adjDepositInterest$\n",
    "\n",
    "Investor: $(rent - expenses)*(1 - tax) + adjGain >= propertyCost*adjDepositInterest$"
   ]
  },
  {
   "cell_type": "code",
   "execution_count": 175,
   "metadata": {},
   "outputs": [
    {
     "name": "stdout",
     "output_type": "stream",
     "text": [
      "Owner = True = 22984 >= 5432\n",
      "Investor = True = 11290 >= 416\n"
     ]
    }
   ],
   "source": [
    "checkFormulas(depositPercentO=1, depositPercentI=1)"
   ]
  },
  {
   "cell_type": "markdown",
   "metadata": {},
   "source": [
    "## Removing property cost\n",
    "\n",
    "We can remove the property cost from the equasion with:\n",
    "\n",
    "Owner:\n",
    "\n",
    "$rentInterest - depositPercentO*adjDepositInterest >= (1 - depositPercentO)*morgageInterest + expenseRateO - adjGainRate$\n",
    "\n",
    "$rentInterest + adjGainRate - adjDepositInterest >= expenseRateO$\n",
    "\n",
    "Investor:\n",
    "\n",
    "$(rentInterest - expenseRateI - (1 - depositPercentI)*morgageInterest)*(1 - tax) + adjGainRate >= depositPercent*adjDepositInterest$\n",
    "\n",
    "$(rentInterest - expenseRateI)*(1 - tax) + adjGainRate >= adjDepositInterest$"
   ]
  },
  {
   "cell_type": "code",
   "execution_count": 158,
   "metadata": {},
   "outputs": [
    {
     "name": "stdout",
     "output_type": "stream",
     "text": [
      "rentInterest = 4.68% adjDepositInterest = 0.1% expensesRateO = 1.12% expensesRateI = 1.59% adjGainRate = 0.0%\n"
     ]
    }
   ],
   "source": [
    "rentInterest = rent/propertyCost\n",
    "expensesRateO = ratesRate + insuranceRateO + maintainance/propertyCost\n",
    "expensesRateI = ratesRate + insuranceRateI + managementRentRate*rent/propertyCost + maintainance/propertyCost\n",
    "print(\"rentInterest =\", str(round(rentInterest*100, 2)) + \"%\", \n",
    "      \"adjDepositInterest =\", str(round(adjDepositInterest*100, 2)) + \"%\",\n",
    "      \"expensesRateO =\", str(round(expensesRateO*100, 2)) + \"%\",\n",
    "      \"expensesRateI =\", str(round(expensesRateI*100, 2)) + \"%\",\n",
    "      \"adjGainRate =\", str(round(adjGainRate*100, 2)) + \"%\",\n",
    "     )\n",
    "\n"
   ]
  },
  {
   "cell_type": "markdown",
   "metadata": {},
   "source": [
    "## Intrinsic value"
   ]
  },
  {
   "cell_type": "code",
   "execution_count": 243,
   "metadata": {},
   "outputs": [
    {
     "name": "stdout",
     "output_type": "stream",
     "text": [
      "intrinsicCost = 429k\n"
     ]
    }
   ],
   "source": [
    "def intrinsicCost(rent, rates, \n",
    "                  depositPercent = 0.2, morgageInterest = 0.052, depositInterest = 0.025, \n",
    "                  insuranceRate = 0.002, maintanance = 1100, \n",
    "                  inflation = 0.017): \n",
    "    return (rent - rates - maintanance)/(morgageInterest - depositPercent*morgageInterest + insuranceRate + depositPercent*(depositInterest*(1 - tax) - inflation))\n",
    "#rent - propertyCost*depositPercentO*adjDepositInterest >= (propertyCost - propertyCost*depositPercentO)*morgageInterest + rates + insuranceRateO*propertyCost + maintainance - adjGain\n",
    "#intrinsicCost = (rent + adjGain - expensesO)/ (morgageInterest - depositPercentO*morgageInterest + depositPercentO*adjDepositInterest)\n",
    "intrinsicCost = intrinsicCost(rent, rates)\n",
    "print(\"intrinsicCost =\", str(round(intrinsicCost/1000)) + \"k\")"
   ]
  },
  {
   "cell_type": "markdown",
   "metadata": {},
   "source": [
    "## Deposit percent calculation"
   ]
  },
  {
   "cell_type": "code",
   "execution_count": 146,
   "metadata": {},
   "outputs": [
    {
     "name": "stdout",
     "output_type": "stream",
     "text": [
      "depositPercentO >=  32%, depositPercentI >=  42%\n",
      "Owner = False = 23300 >= 26400\n",
      "Investor = False = -1996 >= 150\n"
     ]
    }
   ],
   "source": [
    "startDepositPercentO = (expensesRateO + morgageInterest - rentInterest - adjGainRate)/ (morgageInterest - adjDepositInterest)\n",
    "startDepositPercentI = ((expensesRateI + morgageInterest - rentInterest)*(1 - tax) - adjGainRate)/(morgageInterest*(1 - tax) - adjDepositInterest)\n",
    "print(\"depositPercentO >= \", str(round(startDepositPercentO*100)) + \"%,\", \n",
    "      \"depositPercentI >= \", str(round(startDepositPercentI*100)) + \"%\")\n",
    "\n",
    "checkFormulas()"
   ]
  },
  {
   "cell_type": "code",
   "execution_count": 147,
   "metadata": {},
   "outputs": [],
   "source": [
    "import pandas as pd"
   ]
  },
  {
   "cell_type": "markdown",
   "metadata": {},
   "source": [
    "## Inflation\n",
    "For older data infration will need to be applied. CPI Level 2 Subgroups for New Zealand (Qrtly-Mar/Jun/Sep/Dec)\n",
    "http://archive.stats.govt.nz/infoshare/SelectVariables.aspx?pxID=4cd6f132-2491-456d-aa7d-1900801982ad"
   ]
  },
  {
   "cell_type": "code",
   "execution_count": 148,
   "metadata": {},
   "outputs": [
    {
     "name": "stdout",
     "output_type": "stream",
     "text": [
      "Household categories ['Home ownership' 'Property maintenance'\n",
      " 'Property rates and related services' 'Household energy'\n",
      " 'Furniture, furnishings and floor coverings' 'Household textiles'\n",
      " 'Household appliances' 'Glassware, tableware and household utensils'\n",
      " 'Tools and equipment for house and garden'\n",
      " 'Other household supplies and services' 'Overall Property']\n"
     ]
    },
    {
     "data": {
      "text/html": [
       "<div>\n",
       "<style scoped>\n",
       "    .dataframe tbody tr th:only-of-type {\n",
       "        vertical-align: middle;\n",
       "    }\n",
       "\n",
       "    .dataframe tbody tr th {\n",
       "        vertical-align: top;\n",
       "    }\n",
       "\n",
       "    .dataframe thead th {\n",
       "        text-align: right;\n",
       "    }\n",
       "</style>\n",
       "<table border=\"1\" class=\"dataframe\">\n",
       "  <thead>\n",
       "    <tr style=\"text-align: right;\">\n",
       "      <th></th>\n",
       "      <th>Home ownership</th>\n",
       "      <th>Property maintenance</th>\n",
       "      <th>Property rates and related services</th>\n",
       "      <th>Household energy</th>\n",
       "      <th>Furniture, furnishings and floor coverings</th>\n",
       "      <th>Household textiles</th>\n",
       "      <th>Household appliances</th>\n",
       "      <th>Glassware, tableware and household utensils</th>\n",
       "      <th>Tools and equipment for house and garden</th>\n",
       "      <th>Other household supplies and services</th>\n",
       "      <th>Overall Property</th>\n",
       "    </tr>\n",
       "  </thead>\n",
       "  <tbody>\n",
       "    <tr>\n",
       "      <td>2018-01-01</td>\n",
       "      <td>1028.0</td>\n",
       "      <td>1035.0</td>\n",
       "      <td>1031.0</td>\n",
       "      <td>1012.0</td>\n",
       "      <td>1025.0</td>\n",
       "      <td>987.0</td>\n",
       "      <td>975.0</td>\n",
       "      <td>950.0</td>\n",
       "      <td>1001.0</td>\n",
       "      <td>1010.0</td>\n",
       "      <td>10054.0</td>\n",
       "    </tr>\n",
       "    <tr>\n",
       "      <td>2018-04-01</td>\n",
       "      <td>1039.0</td>\n",
       "      <td>1041.0</td>\n",
       "      <td>1031.0</td>\n",
       "      <td>1028.0</td>\n",
       "      <td>1015.0</td>\n",
       "      <td>969.0</td>\n",
       "      <td>982.0</td>\n",
       "      <td>969.0</td>\n",
       "      <td>990.0</td>\n",
       "      <td>1018.0</td>\n",
       "      <td>10082.0</td>\n",
       "    </tr>\n",
       "    <tr>\n",
       "      <td>2018-07-01</td>\n",
       "      <td>1052.0</td>\n",
       "      <td>1048.0</td>\n",
       "      <td>1077.0</td>\n",
       "      <td>1027.0</td>\n",
       "      <td>1022.0</td>\n",
       "      <td>998.0</td>\n",
       "      <td>983.0</td>\n",
       "      <td>976.0</td>\n",
       "      <td>979.0</td>\n",
       "      <td>1035.0</td>\n",
       "      <td>10197.0</td>\n",
       "    </tr>\n",
       "    <tr>\n",
       "      <td>2018-10-01</td>\n",
       "      <td>1061.0</td>\n",
       "      <td>1055.0</td>\n",
       "      <td>1078.0</td>\n",
       "      <td>1027.0</td>\n",
       "      <td>1050.0</td>\n",
       "      <td>971.0</td>\n",
       "      <td>966.0</td>\n",
       "      <td>910.0</td>\n",
       "      <td>970.0</td>\n",
       "      <td>1029.0</td>\n",
       "      <td>10117.0</td>\n",
       "    </tr>\n",
       "    <tr>\n",
       "      <td>2019-01-01</td>\n",
       "      <td>1068.0</td>\n",
       "      <td>1058.0</td>\n",
       "      <td>1078.0</td>\n",
       "      <td>1039.0</td>\n",
       "      <td>992.0</td>\n",
       "      <td>932.0</td>\n",
       "      <td>992.0</td>\n",
       "      <td>954.0</td>\n",
       "      <td>989.0</td>\n",
       "      <td>1022.0</td>\n",
       "      <td>10124.0</td>\n",
       "    </tr>\n",
       "  </tbody>\n",
       "</table>\n",
       "</div>"
      ],
      "text/plain": [
       "            Home ownership  Property maintenance  \\\n",
       "2018-01-01          1028.0                1035.0   \n",
       "2018-04-01          1039.0                1041.0   \n",
       "2018-07-01          1052.0                1048.0   \n",
       "2018-10-01          1061.0                1055.0   \n",
       "2019-01-01          1068.0                1058.0   \n",
       "\n",
       "            Property rates and related services  Household energy  \\\n",
       "2018-01-01                               1031.0            1012.0   \n",
       "2018-04-01                               1031.0            1028.0   \n",
       "2018-07-01                               1077.0            1027.0   \n",
       "2018-10-01                               1078.0            1027.0   \n",
       "2019-01-01                               1078.0            1039.0   \n",
       "\n",
       "            Furniture, furnishings and floor coverings  Household textiles  \\\n",
       "2018-01-01                                      1025.0               987.0   \n",
       "2018-04-01                                      1015.0               969.0   \n",
       "2018-07-01                                      1022.0               998.0   \n",
       "2018-10-01                                      1050.0               971.0   \n",
       "2019-01-01                                       992.0               932.0   \n",
       "\n",
       "            Household appliances  Glassware, tableware and household utensils  \\\n",
       "2018-01-01                 975.0                                        950.0   \n",
       "2018-04-01                 982.0                                        969.0   \n",
       "2018-07-01                 983.0                                        976.0   \n",
       "2018-10-01                 966.0                                        910.0   \n",
       "2019-01-01                 992.0                                        954.0   \n",
       "\n",
       "            Tools and equipment for house and garden  \\\n",
       "2018-01-01                                    1001.0   \n",
       "2018-04-01                                     990.0   \n",
       "2018-07-01                                     979.0   \n",
       "2018-10-01                                     970.0   \n",
       "2019-01-01                                     989.0   \n",
       "\n",
       "            Other household supplies and services  Overall Property  \n",
       "2018-01-01                                 1010.0           10054.0  \n",
       "2018-04-01                                 1018.0           10082.0  \n",
       "2018-07-01                                 1035.0           10197.0  \n",
       "2018-10-01                                 1029.0           10117.0  \n",
       "2019-01-01                                 1022.0           10124.0  "
      ]
     },
     "execution_count": 148,
     "metadata": {},
     "output_type": "execute_result"
    }
   ],
   "source": [
    "inflation = pd.read_csv('inflation.csv', index_col=0, header=1, skipfooter=33, engine='python', parse_dates=True, na_values='..')\n",
    "inflation = inflation[['Home ownership', 'Property maintenance', 'Property rates and related services', 'Household energy',\n",
    "       'Furniture, furnishings and floor coverings', 'Household textiles',\n",
    "       'Household appliances', 'Glassware, tableware and household utensils',\n",
    "       'Tools and equipment for house and garden',\n",
    "       'Other household supplies and services']].dropna()\n",
    "inflation['Overall Property'] = inflation.sum(axis=1)\n",
    "print(\"Household categories\", inflation.columns.values)\n",
    "inflation.tail()"
   ]
  },
  {
   "cell_type": "markdown",
   "metadata": {},
   "source": [
    "## Maintenance cost\n",
    "Source: https://www.scoop.co.nz/stories/BU1703/S00953/property-maintenance-costs-surprising.htm"
   ]
  },
  {
   "cell_type": "code",
   "execution_count": 149,
   "metadata": {},
   "outputs": [
    {
     "data": {
      "text/html": [
       "<div>\n",
       "<style scoped>\n",
       "    .dataframe tbody tr th:only-of-type {\n",
       "        vertical-align: middle;\n",
       "    }\n",
       "\n",
       "    .dataframe tbody tr th {\n",
       "        vertical-align: top;\n",
       "    }\n",
       "\n",
       "    .dataframe thead th {\n",
       "        text-align: right;\n",
       "    }\n",
       "</style>\n",
       "<table border=\"1\" class=\"dataframe\">\n",
       "  <thead>\n",
       "    <tr style=\"text-align: right;\">\n",
       "      <th></th>\n",
       "      <th>annual_cost</th>\n",
       "    </tr>\n",
       "    <tr>\n",
       "      <th>property_type</th>\n",
       "      <th></th>\n",
       "    </tr>\n",
       "  </thead>\n",
       "  <tbody>\n",
       "    <tr>\n",
       "      <td>Appartment</td>\n",
       "      <td>728</td>\n",
       "    </tr>\n",
       "    <tr>\n",
       "      <td>Unit</td>\n",
       "      <td>784</td>\n",
       "    </tr>\n",
       "    <tr>\n",
       "      <td>Flat</td>\n",
       "      <td>805</td>\n",
       "    </tr>\n",
       "    <tr>\n",
       "      <td>Townhouse</td>\n",
       "      <td>921</td>\n",
       "    </tr>\n",
       "    <tr>\n",
       "      <td>House</td>\n",
       "      <td>1024</td>\n",
       "    </tr>\n",
       "  </tbody>\n",
       "</table>\n",
       "</div>"
      ],
      "text/plain": [
       "               annual_cost\n",
       "property_type             \n",
       "Appartment             728\n",
       "Unit                   784\n",
       "Flat                   805\n",
       "Townhouse              921\n",
       "House                 1024"
      ]
     },
     "execution_count": 149,
     "metadata": {},
     "output_type": "execute_result"
    }
   ],
   "source": [
    "maitenanceDf = pd.read_csv('maintenance.csv', index_col=0)\n",
    "maitenanceDf.head()"
   ]
  },
  {
   "cell_type": "code",
   "execution_count": null,
   "metadata": {},
   "outputs": [],
   "source": []
  }
 ],
 "metadata": {
  "kernelspec": {
   "display_name": "Python 3",
   "language": "python",
   "name": "python3"
  },
  "language_info": {
   "codemirror_mode": {
    "name": "ipython",
    "version": 3
   },
   "file_extension": ".py",
   "mimetype": "text/x-python",
   "name": "python",
   "nbconvert_exporter": "python",
   "pygments_lexer": "ipython3",
   "version": "3.7.4"
  }
 },
 "nbformat": 4,
 "nbformat_minor": 4
}
