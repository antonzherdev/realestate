{
 "cells": [
  {
   "cell_type": "markdown",
   "metadata": {},
   "source": [
    "# !MANUAL!\n",
    "No automatic way to download the files.\n",
    "\n",
    "## Yahoo Finance\n",
    "\n",
    "### NZX Data\n",
    "1. https://nz.finance.yahoo.com/quote/%5ENZ50/history?p=%5ENZ50\n",
    "2. Period: Max\n",
    "3. Download Data\n",
    "4. Put into the ./drop/ folder\n",
    "\n",
    "## Stats NZ Infoshare\n",
    "\n",
    "### Steps:\n",
    "1. http://archive.stats.govt.nz/infoshare/SearchPage.aspx\n",
    "2. Search for \\<Table Code>\n",
    "3. Open and select all or as described\n",
    "5. Right hand corner choose .csv\n",
    "6. Put into the ./drop/ folder.\n",
    "\n",
    "### Tables: \n",
    "1. CPI009AA: CPI All Groups for New Zealand (Qrtly-Mar/Jun/Sep/Dec)\n",
    "2. CPI017AA: CPI Non-standard All Groups Less/Plus Selected Groupings for New Zealand (Qrtly-Mar/Jun/Sep/Dec)\n",
    "3. CPI028AA: CPI Level 2 Subgroups for New Zealand, Seasonally adjusted (Qrtly-Mar/Jun/Sep/Dec)\n",
    "3. CPI029AA: CPI Level 3 Classes for New Zealand, Seasonally adjusted (Qrtly-Mar/Jun/Sep/Dec)\n",
    "3. DPE054AA: Estimated Resident Population by Age and Sex (1991+) (Qrtly-Mar/Jun/Sep/Dec)\n",
    "  1. Estimate Type: As at\n",
    "  2. Population group: Male and Female\n",
    "  3. Observations: 0 Years, 1 Years, ..., 89 Years, 90 Years and Over\n",
    "  4. Time: Select All\n",
    "4. DDE002AA: Estimated Households in Private Occupied Dwellings, As At Quarter Ended (Qrtly-Mar/Jun/Sep/Dec)\n",
    "5. DDE005AA: Estimated Private Dwellings, As At Quarter Ended (Qrtly-Mar/Jun/Sep/Dec).\n",
    "6. SNE205AA: Households, Income & Outlay account, Current Prices (Annual-Mar)\n",
    "7. SNE095AA: Group: National Accounts - SNA 2008 - SNE\n",
    "8. LAS003AA: Local Authority Statistics - LAS: Income - Seasonally Adjusted (Qrtly-Mar/Jun/Sep/Dec)"
   ]
  },
  {
   "cell_type": "code",
   "execution_count": 1,
   "metadata": {},
   "outputs": [
    {
     "data": {
      "text/html": [
       "        <script type=\"text/javascript\">\n",
       "        window.PlotlyConfig = {MathJaxConfig: 'local'};\n",
       "        if (window.MathJax) {MathJax.Hub.Config({SVG: {font: \"STIX-Web\"}});}\n",
       "        if (typeof require !== 'undefined') {\n",
       "        require.undef(\"plotly\");\n",
       "        requirejs.config({\n",
       "            paths: {\n",
       "                'plotly': ['https://cdn.plot.ly/plotly-latest.min']\n",
       "            }\n",
       "        });\n",
       "        require(['plotly'], function(Plotly) {\n",
       "            window._Plotly = Plotly;\n",
       "        });\n",
       "        }\n",
       "        </script>\n",
       "        "
      ]
     },
     "metadata": {},
     "output_type": "display_data"
    },
    {
     "data": {
      "text/html": [
       "        <script type=\"text/javascript\">\n",
       "        window.PlotlyConfig = {MathJaxConfig: 'local'};\n",
       "        if (window.MathJax) {MathJax.Hub.Config({SVG: {font: \"STIX-Web\"}});}\n",
       "        if (typeof require !== 'undefined') {\n",
       "        require.undef(\"plotly\");\n",
       "        requirejs.config({\n",
       "            paths: {\n",
       "                'plotly': ['https://cdn.plot.ly/plotly-latest.min']\n",
       "            }\n",
       "        });\n",
       "        require(['plotly'], function(Plotly) {\n",
       "            window._Plotly = Plotly;\n",
       "        });\n",
       "        }\n",
       "        </script>\n",
       "        "
      ]
     },
     "metadata": {},
     "output_type": "display_data"
    }
   ],
   "source": [
    "import ipywidgets as widgets\n",
    "import pandas as pd\n",
    "import numpy as np\n",
    "import requests\n",
    "import os\n",
    "import glob   \n",
    "from shutil import copyfile\n",
    "\n",
    "import chart_studio.plotly as py\n",
    "import plotly.graph_objs as go\n",
    "from plotly.offline import iplot, init_notebook_mode\n",
    "import cufflinks\n",
    "cufflinks.go_offline(connected=True)\n",
    "init_notebook_mode(connected=True)\n",
    "    \n",
    "def prepend_history(history, now, kfunc=np.mean):  \n",
    "    \"\"\"\n",
    "    Prepend the history rows to the current rows.\n",
    "    There should be an intersection.\n",
    "    It assumes that the current values are more precise. \n",
    "    It calculates the correction coefficient on the intersection\n",
    "    which will be used as a multiplier for all historical value.\n",
    "    \"\"\"\n",
    "    def f(ns, hs):\n",
    "        ks = ns.combine(hs, lambda n, h: n/h)\n",
    "        if kfunc == 'oldest':\n",
    "            k = ks.dropna().head(1).mean()\n",
    "        else:\n",
    "            k = kfunc(ks)\n",
    "        hs = hs.loc[:ns.first_valid_index()]\n",
    "        if np.isnan(k):\n",
    "            return ns.combine(hs, lambda n, h: n if not np.isnan(n) else h)\n",
    "        else:\n",
    "            return ns.combine(hs, lambda n, h: n if not np.isnan(n) else h*k)\n",
    "    return now.combine(history, f)  \n",
    "\n",
    "def prepend_history_regions(history, now):\n",
    "    \"\"\"\n",
    "    now is dataframe with index [Region, Date]\n",
    "    history is just [Date] when region split is unknown\n",
    "    \"\"\"\n",
    "    return now.groupby(level = 0).apply(lambda df: prepend_history(history, df.droplevel(0), kfunc = np.mean if df.index[0][0] == 'Total' else 'oldest'))\n",
    "\n",
    "def read_stats_nz_csv(file, year='march', header=1, na_values=['..', '0.000000'], skiprows_after_header=0, usecols=None, names=None):\n",
    "    df = pd.read_csv(file)\n",
    "    rows = df[df.iloc[:, 0] == 'Table information:'].index[0]\n",
    "    df = pd.read_csv(file, index_col=0, header=header, \n",
    "                     skiprows=range(header + 1, header + 1 + skiprows_after_header), \n",
    "                     nrows=rows - header - skiprows_after_header,  \n",
    "                     parse_dates=True, na_values=na_values,\n",
    "                     usecols=usecols, names=names)\n",
    "    if year == 'march':\n",
    "        df.index += pd.DateOffset(months=3)\n",
    "    return df\n",
    "\n",
    "if not os.path.exists(\"drop\"):\n",
    "    os.mkdir(\"drop\")\n",
    "if not os.path.exists(\"out\"):\n",
    "    os.mkdir(\"out\")\n",
    "if not os.path.exists(\"out/download\"):\n",
    "    os.mkdir(\"out/download\")\n",
    "if not os.path.exists(\"out/drop\"):\n",
    "    os.mkdir(\"out/drop\")    \n",
    "if not os.path.exists(\"out/tmp\"):\n",
    "    os.mkdir(\"out/tmp\")\n",
    "if not os.path.exists(\"out/gen\"):\n",
    "    os.mkdir(\"out/gen\") "
   ]
  },
  {
   "cell_type": "code",
   "execution_count": 2,
   "metadata": {},
   "outputs": [],
   "source": [
    "def drop(what, src, dst):\n",
    "    cpis = glob.glob(\"drop/\" + src)\n",
    "    src_drop_file = \"src/drop/\" + dst\n",
    "    drop_file = \"out/drop/\" + dst\n",
    "    if len(cpis) == 1:\n",
    "        if os.path.exists(drop_file):\n",
    "            os.remove(drop_file)\n",
    "        if os.path.exists(src_drop_file):\n",
    "            os.remove(src_drop_file)\n",
    "        copyfile(cpis[0], src_drop_file)\n",
    "        os.rename(cpis[0], drop_file)\n",
    "        print(\"Dropped ./\" + drop_file)\n",
    "    elif not os.path.exists(drop_file):\n",
    "        copyfile(src_drop_file, drop_file)\n",
    "        print(\"Copied old file from ./src/drop ./\" + drop_file)\n",
    "        \n",
    "drop(\"NZX 50\", \"^NZ50.csv\", \"nzx_yahoo_2003-now.csv\")\n",
    "drop(\"Consumer price index (CPI)\", \"CPI316601*.csv\", \"cpi_stats-nz_1914-now.csv\")\n",
    "drop(\"Non-standard Consumer price index (CPI)\", \"CPI318001*.csv\", \"cpi-nstd_stats-nz_1999-now.csv\")\n",
    "drop(\"CPI Subgroups\", \"CPI471301*.csv\", \"cpi-subgroups-nz_2006-now.csv\")\n",
    "drop(\"CPI Classes\", \"CPI471401*.csv\", \"cpi-classes-nz_2006-now.csv\")\n",
    "drop(\"Population\", \"DPE*.csv\", \"population_stats-nz_1991-now.csv\")\n",
    "drop(\"Occupied Dwellings\", \"DDE268801*.csv\", \"dwellings-occupied_stats-nz_1991-now.csv\")\n",
    "drop(\"All Dwellings\", \"DDE269101*.csv\", \"dwellings-all_stats-nz_1991-now.csv\")\n",
    "drop(\"Disposable Income\", \"SNE532901*.csv\", \"income_stats-nz_1987-now.csv\")\n",
    "drop(\"Disposable Income 1972\", \"SNE449101*.csv\", \"income_stats-nz_1972-now.csv\")\n",
    "drop(\"Rates\", \"LAS182601*.csv\", \"rates_stats-nz_1992-now.csv\")"
   ]
  },
  {
   "cell_type": "code",
   "execution_count": 3,
   "metadata": {},
   "outputs": [
    {
     "name": "stdout",
     "output_type": "stream",
     "text": [
      "Downloaded ./out/download/rent-region_mbie_1993-now.csv\n",
      "Downloaded ./out/download/gdp_rbnz_1987-now.xlsx\n",
      "Downloaded ./out/download/mortgage_rbnz_1964-now.xlsx\n"
     ]
    }
   ],
   "source": [
    "def download(file, url): \n",
    "    r = requests.get(url)\n",
    "    if r.status_code == 200:\n",
    "        with open('out/download/' + file, 'wb') as f:\n",
    "            f.write(r.content)\n",
    "            print(\"Downloaded ./out/download/\" + file)\n",
    "        copyfile('out/download/' + file, 'src/download/' + file)\n",
    "    else:\n",
    "        raise Exception('Cannot download ' + file + ': ' + r.status_code)\n",
    "\n",
    "download('rent-region_mbie_1993-now.csv', 'https://www.mbie.govt.nz/assets/Data-Files/Building-and-construction/Tenancy-and-housing/Rental-bond-data/Region/region-mean-rents.csv')\n",
    "download('gdp_rbnz_1987-now.xlsx', 'https://www.rbnz.govt.nz/-/media/ReserveBank/Files/Statistics/tables/m5/hm5.xlsx')\n",
    "download('mortgage_rbnz_1964-now.xlsx', 'https://www.rbnz.govt.nz/-/media/ReserveBank/Files/Statistics/tables/b3/hb3.xlsx')"
   ]
  },
  {
   "cell_type": "markdown",
   "metadata": {},
   "source": [
    "# CPI Consumers price index (Deflator)\n",
    "\n",
    "!TODO: Purchase of new houses and rent is included in CPI and it needs to be adjusted"
   ]
  },
  {
   "cell_type": "code",
   "execution_count": 4,
   "metadata": {},
   "outputs": [
    {
     "name": "stdout",
     "output_type": "stream",
     "text": [
      "Generated ./out/gen/cpi_1914-now.csv\n"
     ]
    }
   ],
   "source": [
    "#Quartally March\n",
    "cpi = read_stats_nz_csv('out/drop/cpi_stats-nz_1914-now.csv')\n",
    "cpi.index.name = 'Date'\n",
    "cpi.columns = ['CPI']\n",
    "\n",
    "cpi['CPI - Housing'] = cpi['CPI']\n",
    "\n",
    "#Quartally March\n",
    "cpi_nstd = read_stats_nz_csv('out/drop/cpi-nstd_stats-nz_1999-now.csv')\n",
    "cpi_nstd = cpi_nstd[['All groups less housing and household utilities group']].dropna()\n",
    "cpi_nstd.columns = ['CPI - Housing']\n",
    "\n",
    "cpi = prepend_history(history = cpi, now = cpi_nstd, kfunc='oldest')\n",
    "\n",
    "cpi = cpi / cpi.iloc[-1]\n",
    "cpi['Deflator'] = cpi['CPI - Housing']\n",
    "cpi = cpi.resample('MS').interpolate(method='linear').fillna(method='ffill')\n",
    "\n",
    "\n",
    "deflator = cpi[['Deflator']]\n",
    "cpiDeflator = cpi[['CPI']]\n",
    "cpiDeflator.columns = ['CPIDeflator']\n",
    "\n",
    "def merge_deflator(df):\n",
    "    return pd.merge_asof(df, deflator, left_index=True, right_index=True)\n",
    "\n",
    "def merge_deflator_regions(df):\n",
    "    df = merge_deflator(df.reset_index(level=0).sort_index())\n",
    "    df.index.name = 'Date'\n",
    "    return df.reset_index().set_index(['Region', 'Date']).sort_index()\n",
    "\n",
    "\n",
    "cpi.to_csv('out/gen/cpi_1914-now.csv')\n",
    "print(\"Generated ./out/gen/cpi_1914-now.csv\")"
   ]
  },
  {
   "cell_type": "markdown",
   "metadata": {},
   "source": [
    "# Reinz Indexes\n",
    "\n",
    "https://www.interest.co.nz/charts/real-estate/median-price-reinz\n",
    "\n",
    "House prices csv files are downloaded for all regions and total in the house-prices folder and merge the csv files in one ./now/house-prices-reinz-1992-now.csv"
   ]
  },
  {
   "cell_type": "code",
   "execution_count": 5,
   "metadata": {},
   "outputs": [
    {
     "name": "stdout",
     "output_type": "stream",
     "text": [
      "Created ./out/gen/house-prices_reinz_1992-now.csv\n"
     ]
    }
   ],
   "source": [
    "regions = pd.read_csv('src/const/nz-regions.csv', index_col=0)\n",
    "housePricesDirName = 'out/download/house-prices'\n",
    "housePricesSrcDirName = 'src/download/house-prices'\n",
    "if not os.path.exists(housePricesDirName):\n",
    "    os.mkdir(housePricesDirName)\n",
    "\n",
    "def downloadRegion(code):\n",
    "    base_url = 'https://www.interest.co.nz/charts-csv/chart_data/real%20estate/medianhouseprice-$code.csv'\n",
    "    url = base_url.replace('$code', code)\n",
    "    r = requests.get(url)\n",
    "    if r.status_code == 200:    \n",
    "        with open(housePricesDirName + '/' + code + '.csv', 'wb') as f:\n",
    "            f.write(r.content)\n",
    "            #print(\"Downloaded region \" + code)\n",
    "        copyfile(housePricesDirName + '/' + code + '.csv', housePricesSrcDirName + '/' + code + '.csv')\n",
    "    else:\n",
    "        raise Exception('Cannot download region ' + code + ': ' + r.status_code)\n",
    "\n",
    "def downloadHousePrices():\n",
    "    downloadRegion('total')\n",
    "    for code in regions.index.values:\n",
    "        downloadRegion(code)\n",
    "\n",
    "def loadDf(code, name): \n",
    "    df = pd.read_csv(housePricesDirName + '/' + code + '.csv', \n",
    "                header=None, names=['Date', 'Nominal House Prices'], \n",
    "                index_col='Date', parse_dates=True)\n",
    "    df.index = df.index + pd.DateOffset(1)\n",
    "    df['Region'] = name\n",
    "    return df.reset_index().set_index(['Region', 'Date'])\n",
    "    \n",
    "def combineCsv():\n",
    "    dfs = [loadDf(index, r['Name']) for index, r in regions.iterrows()]\n",
    "    dfs.append(loadDf('total', 'Total'))\n",
    "    housePrices = pd.concat(dfs, axis='rows')\n",
    "    housePrices.to_csv('out/gen/house-prices_reinz_1992-now.csv')\n",
    "    print(\"Created ./out/gen/house-prices_reinz_1992-now.csv\")\n",
    "        \n",
    "\n",
    "downloadHousePrices()\n",
    "combineCsv()"
   ]
  },
  {
   "cell_type": "markdown",
   "metadata": {},
   "source": [
    "# Stats NZ: Long term house prices\n",
    "\n",
    "http://archive.stats.govt.nz/browse_for_stats/economic_indicators/NationalAccounts/long-term-data-series/prices.aspx\n",
    "\n",
    "G6.1 Property prices and indexes.xls\n",
    "http://archive.stats.govt.nz/~/media/Statistics/browse-categories/economic-indicators/national-accounts/Long-term%20data%20series/G%20Prices/table-g6-1.xls\n",
    "\n",
    "Sheet AREMOS\n",
    "Located ./src/history/table-g6-1.xls\n",
    "Year ending December\n",
    "\n",
    "We join it with the REINZ index and save at ./out/gen/house-prices-1962-now.csv\n"
   ]
  },
  {
   "cell_type": "code",
   "execution_count": 6,
   "metadata": {},
   "outputs": [
    {
     "name": "stdout",
     "output_type": "stream",
     "text": [
      "Created ./out/gen/house-prices_1962-now.csv\n"
     ]
    }
   ],
   "source": [
    "#Monthly End\n",
    "houses1992 = pd.read_csv('out/gen/house-prices_reinz_1992-now.csv', index_col=['Region', 'Date'], parse_dates=True)\n",
    "\n",
    "#Annually December\n",
    "houses1962 = pd.read_excel(\n",
    "    'src/history/house-prices_stats-nz_table-g6-1_1962-2004.xls', sheet_name='AREMOS', \n",
    "    parse_dates=True, index_col=0, skipfooter=1,  \n",
    ")\n",
    "df = houses1962['PQHPI'].to_frame()\n",
    "df.columns = ['Nominal House Prices']\n",
    "houses1962['Nominal House Prices'] = houses1962['PQHDR']\n",
    "houses1962 = houses1962[['Nominal House Prices']]\n",
    "houses1962 = prepend_history(df, houses1962).dropna()\n",
    "houses1962\n",
    "\n",
    "houses = prepend_history_regions(houses1962, houses1992).dropna()\n",
    "houses = houses.groupby(level=0).apply(lambda df: df.droplevel(0).resample('MS').interpolate(method='linear'))\n",
    "houses = merge_deflator_regions(houses)\n",
    "houses['Deflated House Prices'] = houses['Nominal House Prices']/houses.Deflator\n",
    "houses.to_csv('out/gen/house-prices_1962-now.csv')\n",
    "\n",
    "print(\"Created ./out/gen/house-prices_1962-now.csv\")"
   ]
  },
  {
   "cell_type": "markdown",
   "metadata": {},
   "source": [
    "# Population\n",
    "\n",
    "Stats NZ since 1936"
   ]
  },
  {
   "cell_type": "code",
   "execution_count": 7,
   "metadata": {},
   "outputs": [
    {
     "name": "stdout",
     "output_type": "stream",
     "text": [
      "Created ./out/gen/population_stats-nz_1936-now.csv\n"
     ]
    }
   ],
   "source": [
    "#Annual December\n",
    "pop1936 = read_stats_nz_csv('src/history/population_stats-nz_1936-1995.csv', year='december', header=3)\n",
    "\n",
    "pop1936['Population'] = pop1936.sum(axis = 1)\n",
    "pop1936 = pop1936[['Population']]\n",
    "\n",
    "#Quartally March\n",
    "pop1991 = read_stats_nz_csv('out/drop/population_stats-nz_1991-now.csv', header=3)\n",
    "pop1991['Population'] = pop1991.sum(axis = 1)\n",
    "pop1991 = pop1991[['Population']]\n",
    "\n",
    "pop = pop1991.combine_first(pop1936)\n",
    "pop.index.name = 'Date'\n",
    "pop = pop.resample('MS').interpolate(method='linear')\n",
    "pop.to_csv('out/gen/population_stats-nz_1936-now.csv')\n",
    "print(\"Created ./out/gen/population_stats-nz_1936-now.csv\")"
   ]
  },
  {
   "cell_type": "markdown",
   "metadata": {},
   "source": [
    "# Dwellings \n",
    "\n",
    "Stats NZ since 1961\n",
    "\n",
    "Count of unoccupied dwellings look like estimated in centuses and then interpolated. It does not have much value.\n",
    "\n",
    "!TODO: Calculate household considering flats"
   ]
  },
  {
   "cell_type": "code",
   "execution_count": 8,
   "metadata": {},
   "outputs": [
    {
     "name": "stdout",
     "output_type": "stream",
     "text": [
      "Created ./out/gen/dwellings_stats-nz_1961-now.csv\n"
     ]
    }
   ],
   "source": [
    "#Annually March\n",
    "dw1961 = read_stats_nz_csv('src/history/dwellings_stats-nz_1961-1997.csv', skiprows_after_header=1)\n",
    "dw1961['Dwellings'] = dw1961.sum(axis=1)\n",
    "del(dw1961['Unoccupied Dwellings'])\n",
    "\n",
    "#Quartarlly March\n",
    "dw1991_occ = read_stats_nz_csv('out/drop/dwellings-occupied_stats-nz_1991-now.csv',\n",
    "                         usecols=[0,1,3], names=['Date', 'Occupied Dwellings', 'Rented Dwellings']\n",
    "                        )\n",
    "#Quartarlly March\n",
    "dw1991_all = read_stats_nz_csv('out/drop/dwellings-all_stats-nz_1991-now.csv', \n",
    "                         usecols=[0,1], names=['Date', 'Dwellings']\n",
    "                        )\n",
    "\n",
    "dw1991 = dw1991_all.join(dw1991_occ).dropna()\n",
    "dwellings = prepend_history(dw1961, dw1991)\n",
    "\n",
    "dwellings = dwellings.resample('MS').interpolate(method='linear')\n",
    "dwellings = pd.merge_asof(dwellings, pop, left_index=True, right_index=True)\n",
    "dwellings['People per Dwelling'] = dwellings['Population']/dwellings['Occupied Dwellings']\n",
    "dwellings['Occupancy Rate'] = dwellings['Occupied Dwellings']/dwellings['Dwellings']\n",
    "dwellings['Rented Dwellings Rate'] = dwellings['Rented Dwellings']/dwellings['Occupied Dwellings']\n",
    "dwellings.to_csv('out/gen/dwellings_stats-nz_1961-now.csv')\n",
    "print(\"Created ./out/gen/dwellings_stats-nz_1961-now.csv\")"
   ]
  },
  {
   "cell_type": "markdown",
   "metadata": {},
   "source": [
    "# MBIE: Rental Bond Data\n",
    "https://www.mbie.govt.nz/building-and-energy/tenancy-and-housing/rental-bond-data/\n",
    "\n",
    "Mean rent by region from 1993\n",
    "\n",
    "To get more historical rents we get src/history/cpi-groups_stats-nz_1975-1999.csv and Dwelling Rentals serias.\n",
    "\n",
    "The result is saved out/gen/rent_1975-now.csv"
   ]
  },
  {
   "cell_type": "code",
   "execution_count": 9,
   "metadata": {},
   "outputs": [
    {
     "name": "stdout",
     "output_type": "stream",
     "text": [
      "Created ./out/gen/rent_1975-now.csv\n"
     ]
    }
   ],
   "source": [
    "#Quartally march\n",
    "rent1975 = read_stats_nz_csv('src/history/cpi-groups_stats-nz_1975-1999.csv', header=2)\n",
    "rent1975 = rent1975[['Dwelling Rentals**']]\n",
    "rent1975.columns = ['Nominal Rent']\n",
    "rent1975 = rent1975.resample('MS').interpolate(method='linear')\n",
    "\n",
    "#Monthly start\n",
    "rent1993 = pd.read_csv('out/download/rent-region_mbie_1993-now.csv', parse_dates=True, index_col=0)\n",
    "rent1993 = rent1993.rename({'National Total': 'Total'}, axis=1)\n",
    "\n",
    "#rent.reset_index().melt(id_vars='index') \n",
    "rent = rent1993.stack().to_frame().swaplevel()\n",
    "rent.columns = ['Nominal Rent']\n",
    "rent.index.names = ['Region', 'Date']\n",
    "rent = rent.sort_index()\n",
    "#rent.loc['National Total']\n",
    "\n",
    "rent = prepend_history_regions(rent1975, rent)\n",
    "rent = merge_deflator_regions(rent)\n",
    "rent['Deflated Rent'] = rent['Nominal Rent']/rent.Deflator\n",
    "\n",
    "rent.to_csv('out/gen/rent_1975-now.csv')\n",
    "print(\"Created ./out/gen/rent_1975-now.csv\")\n"
   ]
  },
  {
   "cell_type": "markdown",
   "metadata": {},
   "source": [
    "# Disposable Income\n",
    "\n",
    "Before 1987 there is no data for household income. We can get from salaries.\n",
    "\n",
    "\"Gross operating surplus and gross mixed income\" is removed from disposable income because it's the rent payments and imputed credit for the rent: \n",
    "https://www.abs.gov.au/AUSSTATS/abs@.nsf/66f306f503e529a5ca25697e0017661f/ac6c11a0f11910fbca2569a40006164b!OpenDocument\n",
    "\n",
    "Gross disposobale income does not consider houses depreciation. So we need it rather than net."
   ]
  },
  {
   "cell_type": "code",
   "execution_count": 10,
   "metadata": {},
   "outputs": [
    {
     "name": "stdout",
     "output_type": "stream",
     "text": [
      "Created ./out/gen/income_stats-nz_1972-now.csv\n"
     ]
    }
   ],
   "source": [
    "#Annually March\n",
    "income1987 = read_stats_nz_csv('out/drop/income_stats-nz_1987-now.csv', header=2, skiprows_after_header=2)\n",
    "income1987 = income1987[['Gross disposable income', 'Gross operating surplus and gross mixed income']]\n",
    "income1987['Income'] = income1987['Gross disposable income'] - income1987['Gross operating surplus and gross mixed income']\n",
    "income1987 = income1987[['Income']]\n",
    "\n",
    "#Annually March\n",
    "income1972 = read_stats_nz_csv('out/drop/income_stats-nz_1972-now.csv')\n",
    "income1972 = income1972[['Compensation Of Employees - received', 'Disposable Income - gross', 'Gross operating surplus and gross mixed income']]\n",
    "income1972['Income'] = income1972['Disposable Income - gross'] - income1972['Gross operating surplus and gross mixed income']\n",
    "income1972.columns = ['Salaries', 'x', 'y', 'Income']\n",
    "income1972 = income1972[['Salaries', 'Income']]\n",
    "\n",
    "\n",
    "income = prepend_history(income1972, income1987)\n",
    "income = income*1000000\n",
    "income = income.resample('MS').interpolate(method='linear')\n",
    "income = pd.merge_asof(income, pop, left_index=True, right_index=True)\n",
    "income = merge_deflator(income)\n",
    "income = pd.merge_asof(income, rent.loc['Total'][[\"Nominal Rent\", \"Deflated Rent\"]], left_index=True, right_index=True)\n",
    "income = pd.merge_asof(income, dwellings[[\"Occupied Dwellings\"]], left_index=True, right_index=True)\n",
    "\n",
    "income['Deflated Income'] = income['Income']/income.Deflator\n",
    "income['Deflated Salaries'] = income['Salaries']/income.Deflator\n",
    "income['Deflated Household Income'] = income['Deflated Income']/income['Occupied Dwellings']\n",
    "income['Deflated Rent'] = income['Deflated Rent']*365/7\n",
    "income['Rent Income Ratio'] = income['Deflated Rent']/income['Deflated Household Income'] \n",
    "\n",
    "income.to_csv(\"out/gen/income_stats-nz_1972-now.csv\")\n",
    "print(\"Created ./out/gen/income_stats-nz_1972-now.csv\")"
   ]
  },
  {
   "cell_type": "markdown",
   "metadata": {},
   "source": [
    "# Mortgages\n",
    "\n",
    "RBNZ, Stats NZ\n",
    "\n",
    "! TODO: Deposite rates\n"
   ]
  },
  {
   "cell_type": "code",
   "execution_count": 11,
   "metadata": {},
   "outputs": [
    {
     "name": "stdout",
     "output_type": "stream",
     "text": [
      "Created ./out/gen/mortgage_1913-now.csv\n"
     ]
    }
   ],
   "source": [
    "from mortgage import Loan\n",
    "\n",
    "#Monthly End\n",
    "mortgage = pd.read_excel('out/download/mortgage_rbnz_1964-now.xlsx', \n",
    "                        header=None, skiprows=5, \n",
    "                        parse_dates=True, index_col=0,\n",
    "                        usecols=\"A,C,F\", names=[\"Date\", \"Mortgage Rate\", \"Deposit Rate\"]\n",
    "                       )\n",
    "mortgage.index = mortgage.index + pd.DateOffset(days=1)\n",
    "\n",
    "#Annually March\n",
    "mortgage1913 = pd.read_excel(\n",
    "        'src/history/mortgage_stats-nz_table-f3-1_1913-2004.xls', \n",
    "         header=None, skiprows=9,\n",
    "         parse_dates=True, index_col=0, \n",
    "         usecols=\"A,I\", names=[\"Date\", \"Mortgage Rate\"]\n",
    "    ).dropna()\n",
    "mortgage1913.index = mortgage1913.index + pd.DateOffset(months=3)\n",
    "mortgage1913\n",
    "\n",
    "mortgage = mortgage.combine_first(mortgage1913)\n",
    "mortgage = mortgage.resample('MS').interpolate(method='linear')\n",
    "mortgage = mortgage/100\n",
    "inflation = deflator.pct_change(12)\n",
    "inflation.columns = ['Inflation']\n",
    "mortgage = pd.merge_asof(mortgage, inflation, left_index=True, right_index=True)\n",
    "mortgage['Real Mortgage Rate'] = mortgage['Mortgage Rate'] - mortgage['Inflation']\n",
    "mortgage.dropna()\n",
    "mortgage = pd.merge_asof(mortgage, houses.loc['Total'], left_index=True, right_index=True)\n",
    "mortgage.dropna()\n",
    "\n",
    "def calcMortgage(row): \n",
    "    loan = Loan(principal=row['Deflated House Prices']*0.8, interest=row['Mortgage Rate'], term=30)\n",
    "    return pd.Series([float(loan.monthly_payment*12), float(loan.total_interest)], index=['Deflated Mortgage', 'Deflated Total Mortgage'])\n",
    "mortgagePayment = mortgage.dropna().apply(calcMortgage, axis=1)\n",
    "mortgage = mortgage.join(mortgagePayment)\n",
    "del(mortgage['Deflator'])\n",
    "mortgage = pd.merge_asof(mortgage, income, left_index=True, right_index=True)\n",
    "mortgage['Mortgage Income Ratio'] = mortgage['Deflated Mortgage']/mortgage['Deflated Household Income'] \n",
    "mortgage['House Prices Income Ratio'] = mortgage['Deflated House Prices']/mortgage['Deflated Household Income'] \n",
    "mortgage.to_csv('out/gen/mortgage_1913-now.csv')\n",
    "print(\"Created ./out/gen/mortgage_1913-now.csv\")\n"
   ]
  },
  {
   "cell_type": "markdown",
   "metadata": {},
   "source": [
    "# Rates\n",
    "\n",
    "It's unclear how much rates are collected from resedential properties only. Business rates percentage vary highly from region. In Auckland, it's about 35%, in Rotorua, it's 10%. We will assume that 25% is businness rates. Later it can be improved.\n",
    "\n",
    "Rates, insurance, maintanance, management\n",
    "Depreciation?"
   ]
  },
  {
   "cell_type": "code",
   "execution_count": 12,
   "metadata": {},
   "outputs": [
    {
     "name": "stdout",
     "output_type": "stream",
     "text": [
      "Created ./out/gen/rates_1992-now.csv\n"
     ]
    }
   ],
   "source": [
    "#Quartally Match\n",
    "rates = read_stats_nz_csv('out/drop/rates_stats-nz_1992-now.csv')\n",
    "rates = rates[[\"All rates\"]]\n",
    "rates.columns = [\"Rates\"]\n",
    "rates = rates*0.75 *1000 #Remove business rates and $K => $\n",
    "rates = rates.rolling(4).sum().dropna()\n",
    "rates = rates.resample('MS').interpolate(method='linear')\n",
    "rates = pd.merge_asof(dwellings, rates, left_index=True, right_index=True)\n",
    "rates[\"Average Rate\"] = rates[\"Rates\"]/rates[\"Dwellings\"]\n",
    "df = cpi[[\"CPI\"]]\n",
    "df.columns = [\"Average Rate\"]\n",
    "rates = prepend_history(history = df, now=rates, kfunc='oldest')\n",
    "rates[\"Rates\"] = rates[\"Average Rate\"]*rates[\"Dwellings\"]\n",
    "\n",
    "rates = rates[[\"Average Rate\", \"Dwellings\", \"Rates\"]].dropna()\n",
    "rates = pd.merge_asof(rates, cpiDeflator, left_index=True, right_index=True)\n",
    "rates[\"Deflated Average Rate\"] = rates[\"Average Rate\"]/rates.CPIDeflator\n",
    "\n",
    "rates = pd.merge_asof(rates, income, left_index=True, right_index=True)\n",
    "rates['Average Rate Income Ratio'] = rates['Deflated Average Rate']/rates['Deflated Household Income'] \n",
    "\n",
    "rates.to_csv('out/gen/rates_1992-now.csv')\n",
    "print(\"Created ./out/gen/rates_1992-now.csv\")"
   ]
  },
  {
   "cell_type": "markdown",
   "metadata": {},
   "source": [
    "# Maintenance\n",
    "\n",
    "Barfoot & Thomson calculated maintenance for rental properties in 2016: https://www.scoop.co.nz/stories/BU1703/S00953/property-maintenance-costs-surprising.htm\n",
    "\n",
    "CPI Subgroups up to 2006 then standard CPI because there is no suitable group in the earlier CPI"
   ]
  },
  {
   "cell_type": "code",
   "execution_count": 13,
   "metadata": {},
   "outputs": [
    {
     "name": "stdout",
     "output_type": "stream",
     "text": [
      "Created ./out/gen/maitenance_2006-now.csv\n"
     ]
    }
   ],
   "source": [
    "#For 2016    \n",
    "maitenance = pd.read_csv('src/history/maintenance_barfoot_2016.csv', index_col=0)\n",
    "house = maitenance.loc['House', 'annual_cost']\n",
    "cpiSubgroups = read_stats_nz_csv('out/drop/cpi-subgroups-nz_2006-now.csv', header=2)\n",
    "pm = cpiSubgroups[['Property maintenance']]\n",
    "maitenance = pm*house/pm.loc['2017-01-01']\n",
    "maitenance.columns = ['Maintenance']\n",
    "maitenance = maitenance.resample('MS').interpolate(method='linear')\n",
    "df = deflator.copy()\n",
    "df.columns = ['Maintenance']\n",
    "maitenance = prepend_history(df, maitenance, kfunc='oldest')\n",
    "maitenance = pd.merge_asof(maitenance, deflator, left_index=True, right_index=True)\n",
    "maitenance['Deflated Maintenance'] = maitenance['Maintenance']/maitenance.Deflator\n",
    "\n",
    "maitenance.to_csv('out/gen/maitenance_2006-now.csv')\n",
    "print(\"Created ./out/gen/maitenance_2006-now.csv\")"
   ]
  },
  {
   "cell_type": "markdown",
   "metadata": {},
   "source": [
    "# Insurance\n",
    "\n",
    "CPI Classes contain insurance inflation up to 2006. There is no data before.\n",
    "\n",
    "Sample beginning 2011: https://www.interest.co.nz/insurance-data/house/premium-rates"
   ]
  },
  {
   "cell_type": "code",
   "execution_count": 14,
   "metadata": {},
   "outputs": [
    {
     "name": "stdout",
     "output_type": "stream",
     "text": [
      "Created ./out/gen/insurance_2006-now.csv\n"
     ]
    }
   ],
   "source": [
    "xl = pd.ExcelFile('src/history/insurance_interest-co-nz_2011.xlsx')\n",
    "dfs = [xl.parse(sheet_name, header=1, skiprows=range(2, 7)) for sheet_name in xl.sheet_names]\n",
    "df = pd.concat(dfs)\n",
    "df = df.melt(id_vars=['Company', 'Plan name', 'Product\\nScore', 'Excess\\n$'])\n",
    "insurance2011 = df.value.mean()\n",
    "\n",
    "cpi_classes = read_stats_nz_csv('out/drop/cpi-classes-nz_2006-now.csv', header=2)\n",
    "pm = cpi_classes[['Dwelling insurance']]\n",
    "insurance = pm*insurance2011/pm.loc['2011-01-01']\n",
    "insurance.columns = ['Insurance']\n",
    "insurance = insurance.resample('MS').interpolate(method='linear')\n",
    "\n",
    "df = deflator.copy()\n",
    "df.columns = ['Insurance']\n",
    "insurance = prepend_history(df, insurance, kfunc='oldest')\n",
    "\n",
    "insurance = pd.merge_asof(insurance, deflator, left_index=True, right_index=True)\n",
    "insurance['Deflated Insurance'] = insurance['Insurance']/maitenance.Deflator\n",
    "insurance.to_csv('out/gen/insurance_2006-now.csv')\n",
    "print(\"Created ./out/gen/insurance_2006-now.csv\")\n"
   ]
  },
  {
   "cell_type": "markdown",
   "metadata": {},
   "source": [
    "# Model\n",
    "\n",
    "$rent - deposit*depositInterest' >= (propertyCost - deposit)*morgageInterest + expenses - gain'$\n",
    "\n",
    "$depositInterest' = depositInterest*(1-tax) - inflation$\n",
    "\n",
    "$gain' = propertyCost*(properyInflation - inflation)$\n",
    "\n",
    "$deposit = propertyCost*depositRate$\n",
    "\n",
    "$expenses = rates + insurance + maintenance$\n",
    "\n",
    "Parameters:\n",
    "* rent - av annual rent\n",
    "* depositRate - deposit percentage, default min 20%\n",
    "* depositInterest - 6 month deposit interest\n",
    "* tax - income tax = 0.28\n",
    "* inflation - annual products inflation excluding rent\n",
    "* propertyCost - av property cost\n"
   ]
  },
  {
   "cell_type": "code",
   "execution_count": 15,
   "metadata": {},
   "outputs": [
    {
     "name": "stdout",
     "output_type": "stream",
     "text": [
      "Created ./out/gen/model_1975-now.csv\n"
     ]
    }
   ],
   "source": [
    "model = rates[['Deflated Average Rate']]\n",
    "model = pd.merge_asof(model, insurance[['Deflated Insurance']], left_index=True, right_index=True)\n",
    "model = pd.merge_asof(model, maitenance[['Deflated Maintenance']], left_index=True, right_index=True)\n",
    "model = pd.merge_asof(model, mortgage[['Mortgage Rate', 'Deposit Rate']], left_index=True, right_index=True)\n",
    "model = pd.merge_asof(model, cpi[['CPI - Housing']].pct_change(12), left_index=True, right_index=True)\n",
    "model = rent[['Deflated Rent']].groupby(level=0).apply(lambda df: pd.merge_asof(df.droplevel(0), model, left_index=True, right_index=True)) \n",
    "\n",
    "model = model.join(houses[['Deflated House Prices']])\n",
    "\n",
    "model = model.rename({\n",
    "    'Deflated Average Rate': 'rates', \n",
    "    'Deflated Insurance': 'insurance', \n",
    "    'Deflated Maintenance': 'maintenance',\n",
    "    'Deflated Rent': 'rent',\n",
    "    'Mortgage Rate': 'mortgage_interest',\n",
    "    'Deposit Rate': 'deposit_interest',\n",
    "    'Deflated House Prices': 'property_cost',\n",
    "    'CPI - Housing': 'inflation'\n",
    "}, axis=1)\n",
    "\n",
    "model = model.dropna()\n",
    "model.rent = model.rent*365/7\n",
    "model['tax'] = 0.28\n",
    "model['expenses'] = model.rates + model.insurance + model.maintenance\n",
    "model['management'] = model.rent*0.08\n",
    "model['investor_expenses'] = model.management + model.rates + model.insurance*1.5 + model.maintenance\n",
    "model['expenses_rate'] = model.expenses/model.property_cost\n",
    "model['investor_expenses_rate'] = model.expenses/model.property_cost\n",
    "model['rent_interest'] = model.rent/model.property_cost\n",
    "model['property_inflation'] = model.inflation\n",
    "model['gain_rate'] = model.property_inflation - model.inflation\n",
    "model['deposit_interest_adj'] = model.deposit_interest*(1-model.tax) - model.inflation\n",
    "\n",
    "model.to_csv('out/gen/model_1975-now.csv')\n",
    "print(\"Created ./out/gen/model_1975-now.csv\")"
   ]
  },
  {
   "cell_type": "markdown",
   "metadata": {},
   "source": [
    "# Interest\n",
    "\n",
    "NZX vs Housing\n",
    "\n",
    "NZX include dividends which are reinvested when received. To compare, we need to reinvest rent.\n",
    "\n",
    "NZX include 0.5% management fee of the ETF fund"
   ]
  },
  {
   "cell_type": "code",
   "execution_count": 30,
   "metadata": {},
   "outputs": [
    {
     "name": "stdout",
     "output_type": "stream",
     "text": [
      "Created ./out/gen/nzx_2003-now.csv\n"
     ]
    }
   ],
   "source": [
    "nzx = pd.read_csv('out/drop/nzx_yahoo_2003-now.csv', parse_dates=True, header=0, index_col=0, usecols=[0, 5], names=[\"date\", \"nzx\"])\n",
    "nzx = nzx.resample('MS').ffill().fillna(method = 'ffill')#.fillna(1)\n",
    "nzx['fee'] = (1 - 0.005)**(1/12)\n",
    "nzx['fee'] = nzx.fee.cumprod()\n",
    "nzx['nzx'] = nzx.nzx*nzx.fee\n",
    "nzx['nzx'] = nzx.nzx/nzx.nzx.iloc[1]\n",
    "nzx = nzx.fillna(1)\n",
    "\n",
    "intr = rates[['Average Rate']]\n",
    "intr = pd.merge_asof(intr, insurance[['Insurance']], left_index=True, right_index=True)\n",
    "intr = pd.merge_asof(intr, maitenance[['Maintenance']], left_index=True, right_index=True)\n",
    "intr = pd.merge_asof(intr, mortgage[['Mortgage Rate', 'Deposit Rate']], left_index=True, right_index=True)\n",
    "intr = pd.merge_asof(intr, nzx, left_index=True, right_index=True)\n",
    "intr = pd.merge_asof(intr, deflator, left_index=True, right_index=True)\n",
    "\n",
    "intr = rent[['Nominal Rent']].groupby(level=0).apply(lambda df: pd.merge_asof(df.droplevel(0), intr, left_index=True, right_index=True)) \n",
    "intr = intr.join(houses[['Nominal House Prices']])\n",
    "intr['tax'] = 0.28\n",
    "intr = intr.rename({\n",
    "    'Average Rate': 'rates', \n",
    "    'Insurance': 'insurance', \n",
    "    'Maintenance': 'maintenance',\n",
    "    'Nominal Rent': 'rent_wk',\n",
    "    'Mortgage Rate': 'mortgage_interest',\n",
    "    'Deposit Rate': 'deposit_interest',\n",
    "    'Nominal House Prices': 'property_cost',\n",
    "}, axis=1)\n",
    "\n",
    "#intr.groupby(level=[0,1]).apply(lambda df: df.droplevel(0, 1).iloc[''])\n",
    "#intr = intr.loc[(slice(None), slice('2013-03-01')), :]\n",
    "intr = intr.loc[(slice(None), slice('2003-01-01', None)), :]\n",
    "#\n",
    "\n",
    "def add_date_diff(df):\n",
    "    df['days'] = df.droplevel(0).index\n",
    "    df['days'] = df.days.diff().dt.days\n",
    "    #df['Deflator'] = df.Deflator/df.Deflator.iloc[0]\n",
    "    df['property'] = df.property_cost/df.property_cost.iloc[0]\n",
    "    return df\n",
    "\n",
    "intr = intr.groupby(level=0).apply(add_date_diff)\n",
    "\n",
    "\n",
    "intr['rent'] = intr.rent_wk*intr.days/7\n",
    "intr = pd.concat([\n",
    "    intr.assign(expenses = (intr.rates + intr.insurance + intr.maintenance)*intr.days/365, rent_tax = 0),\n",
    "    intr.assign(expenses = (intr.rates + intr.insurance*1.5 + intr.maintenance)*intr.days/365 + intr.rent*0.08, rent_tax = intr.tax)\n",
    "], keys = ['owner', 'investor'])\n",
    "intr['income'] = (intr.rent - intr.expenses)*(1 - intr.rent_tax)\n",
    "intr = intr[['income', 'property_cost', 'deposit_interest', 'Deflator', 'nzx', 'property']]\n",
    "intr['prop_interest'] = intr.groupby(level=[0, 1]).property_cost.pct_change() + intr.income/intr.property_cost\n",
    "#intr['income_interest'] = intr.income/intr.property_cost\n",
    "#intr.fillna({'gain_interest': 0, 'income_interest': 0, 'income': 0}, inplace=True)\n",
    "intr.fillna({'prop_interest': 0, 'income': 0}, inplace=True)\n",
    "intr['property_property'] = intr.prop_interest + 1\n",
    "intr['property_property'] = intr.groupby(level=[0, 1]).property_property.cumprod()\n",
    "\n",
    "def reinvest_into(intr, interest, result):\n",
    "    def calc(df):\n",
    "        r = 0\n",
    "        rs = []\n",
    "        for value in df[[interest, 'income']].itertuples(): \n",
    "            r = value[2] + r*(1 + value[1])\n",
    "            rs.append(r)\n",
    "        df[result] = rs\n",
    "        df[result] = df[result] + df.property_cost\n",
    "        df[result] = df[result]/df[result].iloc[0]\n",
    "        return df\n",
    "    return intr.groupby(level=[0, 1]).apply(calc)\n",
    "    #intr = intr.sort_index(ascending=False)\n",
    "    #intr[result] = intr[interest] + 1\n",
    "    #intr[result] = intr.groupby(level=[0, 1])[result].cumprod()\n",
    "    #intr[result] = intr[result]*intr.income\n",
    "    #intr = intr.sort_index(ascending=True)\n",
    "    #intr[result] = intr.groupby(level=[0, 1])[result].cumsum()\n",
    "    #\n",
    "    #return intr\n",
    "\n",
    "intr['deposit_interest'] = intr.deposit_interest/12\n",
    "intr = reinvest_into(intr, 'deposit_interest', result='property_deposit')\n",
    "intr['deposit_interest'] = intr.deposit_interest*12\n",
    "\n",
    "intr['nzx_interest'] = intr.groupby(level=[0, 1]).nzx.pct_change().fillna(0)\n",
    "intr = reinvest_into(intr, 'nzx_interest', result='property_nzx')\n",
    "\n",
    "intr['inflation'] = intr.groupby(level=[0, 1]).Deflator.pct_change(12)\n",
    "intr['nzx_interest'] = intr.groupby(level=[0, 1]).nzx.pct_change(12)\n",
    "intr['property_interest'] = intr.groupby(level=[0, 1]).property.pct_change(12)\n",
    "intr['property_property_interest'] = intr.groupby(level=[0, 1]).property_property.pct_change(12)\n",
    "intr['property_nzx_interest'] = intr.groupby(level=[0, 1]).property_nzx.pct_change(12)\n",
    "intr['property_deposit_interest'] = intr.groupby(level=[0, 1]).property_deposit.pct_change(12)\n",
    "\n",
    "intr.loc['owner'].loc['Total']\n",
    "\n",
    "intr.to_csv('out/gen/nzx_2003-now.csv')\n",
    "print(\"Created ./out/gen/nzx_2003-now.csv\")\n",
    "\n",
    "#intr['def_nzx'] = intr.nzx/intr.Deflator\n",
    "#intr['def_prop_reinvest_idx'] = intr.prop_reinvest_idx/intr.Deflator\n",
    "#intr['def_prop_nzx_idx'] = intr.prop_nzx_idx/intr.Deflator\n",
    "#intr['def_prop_deposit_idx'] = intr.prop_deposit_idx/intr.Deflator\n",
    "#intr.loc['owner'].loc['Total'][['prop_reinvest_idx', 'prop_deposit_idx', 'prop_nzx_idx', 'nzx']].iplot(layout = go.Layout())\n",
    "#intr\n",
    "\n",
    "#def build_portfolio(df):\n",
    "#    prev = 0\n",
    "#    portfolio = 0 #df['property_cost'].iloc[0]\n",
    "#    def proc_row(row):\n",
    "#        nonlocal prev\n",
    "#        nonlocal portfolio\n",
    "#        if prev == 0:\n",
    "#            portfolio = row['property_cost']\n",
    "#        else:\n",
    "#            portfolio = portfolio*row['property_cost']/prev + row['income']*portfolio/prev\n",
    "#            \n",
    "#        prev = row['property_cost']\n",
    "       # print(row)\n",
    "        #row.set_value('test', 33)\n",
    "#        return portfolio\n",
    "#    df['portfolio'] = df.apply(proc_row, axis=1)\n",
    "#    return df\n",
    "#intr.groupby(level=[0, 1]).apply(build_portfolio)\n",
    "#intr['investor_expenses'] = (intr.rates + intr.insurance*1.5 + intr.maintenance)*intr.days/365 + intr.rent*0.08\n",
    "#intr['owner_income'] = intr.rent - intr.owner_expenses\n",
    "#intr['investor_income'] = (intr.rent - intr.investor_expenses)*(1 - intr.tax)\n",
    "#intr['owner_cum_income'] = intr['owner_income'].cumsum()\n",
    "#intr['investor_cum_income'] = intr['investor_income'].cumsum() \n",
    "#intr"
   ]
  },
  {
   "cell_type": "code",
   "execution_count": null,
   "metadata": {},
   "outputs": [],
   "source": []
  },
  {
   "cell_type": "markdown",
   "metadata": {},
   "source": [
    "# !TODO: Issued Money (M2)\n",
    "\n",
    "M2, money velocity"
   ]
  },
  {
   "cell_type": "markdown",
   "metadata": {},
   "source": [
    "# GDP and private cosumption\n",
    "\n",
    "RBNZ GDP since 1987\n",
    "Stats NZ Long term data: http://archive.stats.govt.nz/browse_for_stats/economic_indicators/NationalAccounts/long-term-data-series/prices.aspx\n",
    "\n",
    "Table E1 for GDP\n",
    "\n",
    "Table E4 for private consumption\n",
    "\n",
    "Consumption and GDP includes not only rent but also imputed rent by owner occupied houses:\n",
    "http://datainfoplus.stats.govt.nz/Item/example.org/87a4fec5-24a8-48fd-a261-3fad8495136e\n",
    "\n",
    "!TODO: It looks like a part of morgages (here pricipal is mentioned) are included in consumption:\n",
    "http://archive.stats.govt.nz/browse_for_stats/people_and_communities/Households/HouseholdEconomicSurvey_HOTPYeJun07/Commentary.aspx\n",
    "\n",
    "Detalization can be found in national accounts: https://www.stats.govt.nz/information-releases/national-accounts-income-and-expenditure-year-ended-march-2019\n",
    "\n",
    "It's available on infoshare."
   ]
  },
  {
   "cell_type": "code",
   "execution_count": null,
   "metadata": {},
   "outputs": [],
   "source": [
    "#Quartally Date\n",
    "gdp1987 = pd.read_excel('out/download/gdp_rbnz_1987-now.xlsx', \n",
    "                        header=None, skiprows=5, \n",
    "                        parse_dates=True, index_col=0,\n",
    "                        usecols=\"A,F,N\", names=[\"Date\", \"GDP\", \"Consumption\"]\n",
    "                       )\n",
    "gdp1987 = gdp1987.rolling(4).sum().iloc[3::4]\n",
    "gdp1987.index = gdp1987.index + pd.DateOffset(days=1)\n",
    "\n",
    "#Quartally March\n",
    "cons1949 = pd.read_excel(\n",
    "        'src/history/private-consumption_stats-nz_table-e4_1949-2004.xls', \n",
    "         header=None, skiprows=9,\n",
    "         parse_dates=True, index_col=0, \n",
    "         usecols=\"A,N\", names=[\"Date\", \"Consumption\"]\n",
    "    ).dropna()\n",
    "cons1949.index = cons1949.index + pd.DateOffset(months=3)\n",
    "cons1949\n",
    "\n",
    "\n",
    "#Quartally March\n",
    "gdp1860 = pd.read_excel(\n",
    "        'src/history/gdp_stats-nz_table-e1_1860-2004.xls', \n",
    "         header=None, skiprows=9,\n",
    "         parse_dates=True, index_col=0, \n",
    "         usecols=\"A,Z\", names=[\"Date\", \"GDP\"]\n",
    "    ).dropna()\n",
    "gdp1860.index = gdp1860.index + pd.DateOffset(months=3)\n",
    "gdp1860\n",
    "\n",
    "\n",
    "gdp = prepend_history(cons1949, gdp1987)\n",
    "gdp = prepend_history(gdp1860, gdp)\n",
    "\n",
    "mln = 1000000\n",
    "gdp = gdp*mln\n",
    "gdp = pd.merge_asof(gdp, pop, left_index=True, right_index=True)\n",
    "gdp = pd.merge_asof(gdp, deflator, left_index=True, right_index=True)\n",
    "gdp = pd.merge_asof(gdp, rent[[\"Nominal Rent\"]], left_index=True, right_index=True)\n",
    "gdp = pd.merge_asof(gdp, dwellings[[\"Occupied Dwellings\"]], left_index=True, right_index=True)\n",
    "\n",
    "\n",
    "gdp[\"Rent\"] = gdp[\"Nominal Rent\"]*365/7*gdp[\"Occupied Dwellings\"]\n",
    "del(gdp[\"Nominal Rent\"])\n",
    "#gdp[\"Consumption - Rent\"] = gdp[\"Consumption\"] - gdp[\"Rent\"]\n",
    "#gdp[\"GDP - Rent\"] = gdp[\"GDP\"] - gdp[\"Rent\"]\n",
    "\n",
    "gdp[\"Deflated GDP\"] = gdp[\"GDP\"]/gdp.Deflator\n",
    "gdp[\"Deflated Consumption\"] = gdp[\"Consumption\"]/gdp.Deflator\n",
    "#gdp[\"Deflated GDP - Rent\"] = gdp[\"GDP - Rent\"]/gdp.Deflator\n",
    "#gdp[\"Deflated Consumption - Rent\"] = gdp[\"Consumption - Rent\"]/gdp.Deflator\n",
    "\n",
    "#gdp[\"GDP per capita\"] = gdp[\"GDP\"]*mln/gdp.Population\n",
    "#gdp[\"Deflated GDP per capita\"] = gdp[\"Deflated GDP\"]*mln/gdp.Population\n",
    "#gdp[\"Deflated GDP - Rent per capita\"] = gdp[\"Deflated GDP - Rent\"]*mln/gdp.Population\n",
    "#gdp[\"Consumption per capita\"] = gdp[\"Consumption\"]*mln/gdp.Population\n",
    "#gdp[\"Deflated Consumption per capita\"] = gdp[\"Deflated Consumption\"]*mln/gdp.Population\n",
    "#gdp[\"Deflated Consumption - Rent per capita\"] = gdp[\"Deflated Consumption - Rent\"]*mln/gdp.Population\n",
    "\n",
    "gdp.to_csv(\"out/gen/gdp_1860-now.csv\")\n",
    "print(\"Created ./out/gen/gdp_1860-now.csv\")"
   ]
  },
  {
   "cell_type": "code",
   "execution_count": null,
   "metadata": {},
   "outputs": [],
   "source": []
  }
 ],
 "metadata": {
  "kernelspec": {
   "display_name": "Python 3",
   "language": "python",
   "name": "python3"
  },
  "language_info": {
   "codemirror_mode": {
    "name": "ipython",
    "version": 3
   },
   "file_extension": ".py",
   "mimetype": "text/x-python",
   "name": "python",
   "nbconvert_exporter": "python",
   "pygments_lexer": "ipython3",
   "version": "3.7.4"
  }
 },
 "nbformat": 4,
 "nbformat_minor": 4
}
