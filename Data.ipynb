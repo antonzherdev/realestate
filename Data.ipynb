{
 "cells": [
  {
   "cell_type": "markdown",
   "metadata": {},
   "source": [
    "# !MANUAL!: Stats NZ Consumer price index (CPI)\n",
    "No automatic way to download the file.\n",
    "\n",
    "1. http://archive.stats.govt.nz/infoshare/SearchPage.aspx\n",
    "2. Search for CPIQ.SE9A. Search options: Look for time series identifier\n",
    "3. Open CPI All Groups for New Zealand (Qrtly-Mar/Jun/Sep/Dec)\n",
    "4. Select all groups and all Time\n",
    "5. Right hand corner choose .csv\n",
    "6. Put into the ./drop/ folder."
   ]
  },
  {
   "cell_type": "markdown",
   "metadata": {},
   "source": [
    "# !MANUAL!: Stats NZ Population stats\n",
    "\n",
    "1. http://archive.stats.govt.nz/infoshare/SearchPage.aspx\n",
    "2. Search for DPE054AA. Search options: Include at least one of the keywords\n",
    "3. Open Estimated Resident Population by Age and Sex (1991+) (Qrtly-Mar/Jun/Sep/Dec)\n",
    "4. Select:\n",
    "  1. Estimate Type: As at\n",
    "  2. Population group: Male and Female\n",
    "  3. Observations: 0 Years, 1 Years, ..., 89 Years, 90 Years and Over\n",
    "  4. Time: Select All\n",
    "5. Right hand corner choose .csv\n",
    "6. Put into the ./drop/ folder."
   ]
  },
  {
   "cell_type": "markdown",
   "metadata": {},
   "source": [
    "# !MANUAL!: Stats NZ Dwellings\n",
    "\n",
    "1. http://archive.stats.govt.nz/infoshare/SearchPage.aspx\n",
    "2. Search for DDE002AA. Search options: Include at least one of the keywords\n",
    "3. Estimated Households in Private Occupied Dwellings, As At Quarter Ended (Qrtly-Mar/Jun/Sep/Dec)\n",
    "4. Select:\n",
    "  1. Tenure: Select all\n",
    "  2. Time: Select all\n",
    "5. Right hand corner choose .csv\n",
    "6. Put into the ./drop/ folder.\n",
    "7. Repeat the same for DDE005AA."
   ]
  },
  {
   "cell_type": "code",
   "execution_count": 5,
   "metadata": {},
   "outputs": [
    {
     "data": {
      "text/html": [
       "        <script type=\"text/javascript\">\n",
       "        window.PlotlyConfig = {MathJaxConfig: 'local'};\n",
       "        if (window.MathJax) {MathJax.Hub.Config({SVG: {font: \"STIX-Web\"}});}\n",
       "        if (typeof require !== 'undefined') {\n",
       "        require.undef(\"plotly\");\n",
       "        requirejs.config({\n",
       "            paths: {\n",
       "                'plotly': ['https://cdn.plot.ly/plotly-latest.min']\n",
       "            }\n",
       "        });\n",
       "        require(['plotly'], function(Plotly) {\n",
       "            window._Plotly = Plotly;\n",
       "        });\n",
       "        }\n",
       "        </script>\n",
       "        "
      ]
     },
     "metadata": {},
     "output_type": "display_data"
    },
    {
     "data": {
      "text/html": [
       "        <script type=\"text/javascript\">\n",
       "        window.PlotlyConfig = {MathJaxConfig: 'local'};\n",
       "        if (window.MathJax) {MathJax.Hub.Config({SVG: {font: \"STIX-Web\"}});}\n",
       "        if (typeof require !== 'undefined') {\n",
       "        require.undef(\"plotly\");\n",
       "        requirejs.config({\n",
       "            paths: {\n",
       "                'plotly': ['https://cdn.plot.ly/plotly-latest.min']\n",
       "            }\n",
       "        });\n",
       "        require(['plotly'], function(Plotly) {\n",
       "            window._Plotly = Plotly;\n",
       "        });\n",
       "        }\n",
       "        </script>\n",
       "        "
      ]
     },
     "metadata": {},
     "output_type": "display_data"
    }
   ],
   "source": [
    "import ipywidgets as widgets\n",
    "import pandas as pd\n",
    "import numpy as np\n",
    "import requests\n",
    "import os\n",
    "import glob   \n",
    "\n",
    "import chart_studio.plotly as py\n",
    "import plotly.graph_objs as go\n",
    "from plotly.offline import iplot, init_notebook_mode\n",
    "import cufflinks\n",
    "cufflinks.go_offline(connected=True)\n",
    "init_notebook_mode(connected=True)\n",
    "    \n",
    "def prepend_history(history, now):  \n",
    "    \"\"\"\n",
    "    Prepend the history rows to the current rows.\n",
    "    There should be an intersection.\n",
    "    It assumes that the current values are more precise. \n",
    "    It calculates the correction coefficient on the intersection\n",
    "    which will be used as a multiplier for all historical value.\n",
    "    \"\"\"\n",
    "    def f(ns, hs):\n",
    "        k = ns.combine(hs, lambda n, h: n/h).mean()\n",
    "        return ns.combine(hs, lambda n, h: n if not np.isnan(n) else h*k)\n",
    "    return now.combine(history, f)    \n",
    "\n",
    "\n",
    "if not os.path.exists(\"drop\"):\n",
    "    os.mkdir(\"drop\")\n",
    "if not os.path.exists(\"out\"):\n",
    "    os.mkdir(\"out\")\n",
    "if not os.path.exists(\"out/download\"):\n",
    "    os.mkdir(\"out/download\")\n",
    "if not os.path.exists(\"out/drop\"):\n",
    "    os.mkdir(\"out/drop\")    \n",
    "if not os.path.exists(\"out/tmp\"):\n",
    "    os.mkdir(\"out/tmp\")\n",
    "if not os.path.exists(\"out/gen\"):\n",
    "    os.mkdir(\"out/gen\") "
   ]
  },
  {
   "cell_type": "code",
   "execution_count": 72,
   "metadata": {},
   "outputs": [],
   "source": [
    "from shutil import copyfile\n",
    "\n",
    "def drop(what, src, dst):\n",
    "    cpis = glob.glob(\"drop/\" + src)\n",
    "    src_drop_file = \"src/drop/\" + dst\n",
    "    drop_file = \"out/drop/\" + dst\n",
    "    if len(cpis) == 1:\n",
    "        os.remove(drop_file)\n",
    "        os.remove(src_drop_file)\n",
    "        copyfile(cpis[0], src_drop_file)\n",
    "        os.rename(cpis[0], drop_file)\n",
    "        print(\"Dropped ./\" + drop_file)\n",
    "    elif not os.path.exists(drop_file):\n",
    "        copyfile(src_drop_file, drop_file)\n",
    "        print(\"Copied old file from ./src/drop ./\" + drop_file)\n",
    "        \n",
    "drop(\"Consumer price index (CPI)\", \"CPI*.csv\", \"cpi_stats-nz_1914-now.csv\")\n",
    "drop(\"Population\", \"DPE*.csv\", \"population_stats-nz_1991-now.csv\")\n",
    "drop(\"Occupied Dwellings\", \"DDE268801*.csv\", \"dwellings-occupied_stats-nz_1991-now.csv\")\n",
    "drop(\"All Dwellings\", \"DDE269101*.csv\", \"dwellings-all_stats-nz_1991-now.csv\")"
   ]
  },
  {
   "cell_type": "code",
   "execution_count": 7,
   "metadata": {},
   "outputs": [
    {
     "name": "stdout",
     "output_type": "stream",
     "text": [
      "Generated ./out/gen/deflator_1914-now.csv\n"
     ]
    }
   ],
   "source": [
    "cpi = pd.read_csv('out/drop/cpi_stats-nz_1914-now.csv', index_col=0, header=1, skipfooter=33, engine='python', parse_dates=True, na_values='0.000000')\n",
    "cpi = cpi.resample('MS').interpolate(method='linear').fillna(method='ffill')\n",
    "cpi.index.name = 'Date'\n",
    "deflator = cpi / cpi.iloc[-1]\n",
    "deflator.columns = ['Deflator']\n",
    "deflator.to_csv('out/gen/deflator_1914-now.csv')\n",
    "print(\"Generated ./out/gen/deflator_1914-now.csv\")"
   ]
  },
  {
   "cell_type": "markdown",
   "metadata": {},
   "source": [
    "# Reinz Indexes\n",
    "\n",
    "https://www.interest.co.nz/charts/real-estate/median-price-reinz\n",
    "\n",
    "House prices csv files are downloaded for all regions and total in the house-prices folder and merge the csv files in one ./now/house-prices-reinz-1992-now.csv"
   ]
  },
  {
   "cell_type": "code",
   "execution_count": 8,
   "metadata": {},
   "outputs": [
    {
     "name": "stdout",
     "output_type": "stream",
     "text": [
      "Created ./out/gen/house-prices_reinz_1992-now.csv\n"
     ]
    }
   ],
   "source": [
    "regions = pd.read_csv('src/const/nz-regions.csv', index_col=0)\n",
    "housePricesDirName = 'out/download/house-prices'\n",
    "\n",
    "def downloadRegion(code):\n",
    "    base_url = 'https://www.interest.co.nz/charts-csv/chart_data/real%20estate/medianhouseprice-$code.csv'\n",
    "    url = base_url.replace('$code', code)\n",
    "    r = requests.get(url)\n",
    "    if r.status_code == 200:\n",
    "        if not os.path.exists(housePricesDirName):\n",
    "            os.mkdir(housePricesDirName)\n",
    "            \n",
    "        with open(housePricesDirName + '/' + code + '.csv', 'wb') as f:\n",
    "            f.write(r.content)\n",
    "            #print(\"Downloaded region \" + code)\n",
    "    else:\n",
    "        raise Exception('Cannot download region ' + code + ': ' + r.status_code)\n",
    "\n",
    "def downloadHousePrices():\n",
    "    downloadRegion('total')\n",
    "    for code in regions.index.values:\n",
    "        downloadRegion(code)\n",
    "\n",
    "def loadDf(code, name): \n",
    "    df = pd.read_csv(housePricesDirName + '/' + code + '.csv', \n",
    "                header=None, names=['Date', name], \n",
    "                index_col='Date', parse_dates=True)\n",
    "    df.index = df.index + pd.DateOffset(1)\n",
    "    return df\n",
    "    \n",
    "def combineCsv():\n",
    "    dfs = [loadDf(index, r['Name']) for index, r in regions.iterrows()]\n",
    "    dfs.append(loadDf('total', 'New Zealand'))\n",
    "    housePrices = pd.concat(dfs, axis='columns')\n",
    "    housePrices.to_csv('out/gen/house-prices_reinz_1992-now.csv')\n",
    "    print(\"Created ./out/gen/house-prices_reinz_1992-now.csv\")\n",
    "        \n",
    "\n",
    "downloadHousePrices()\n",
    "combineCsv()"
   ]
  },
  {
   "cell_type": "markdown",
   "metadata": {},
   "source": [
    "# Stats NZ: Long term house prices\n",
    "\n",
    "http://archive.stats.govt.nz/browse_for_stats/economic_indicators/NationalAccounts/long-term-data-series/prices.aspx\n",
    "\n",
    "G6.1 Property prices and indexes.xls\n",
    "http://archive.stats.govt.nz/~/media/Statistics/browse-categories/economic-indicators/national-accounts/Long-term%20data%20series/G%20Prices/table-g6-1.xls\n",
    "\n",
    "Sheet AREMOS\n",
    "Located ./src/history/table-g6-1.xls\n",
    "\n",
    "We join it with the REINZ index and save at ./out/gen/house-prices-1962-now.csv\n"
   ]
  },
  {
   "cell_type": "code",
   "execution_count": 9,
   "metadata": {},
   "outputs": [
    {
     "name": "stdout",
     "output_type": "stream",
     "text": [
      "Created ./out/gen/house-prices_1962-now.csv\n"
     ]
    }
   ],
   "source": [
    "houses1992 = pd.read_csv('out/gen/house-prices_reinz_1992-now.csv', index_col='Date', parse_dates=True)\n",
    "houses1992 = houses1992[['New Zealand']]\n",
    "houses1992.columns = ['Nominal House Prices']\n",
    "\n",
    "houses1962 = pd.read_excel(\n",
    "    'src/history/house-prices_stats-nz_table-g6-1_1962-2004.xls', sheet_name='AREMOS', \n",
    "    parse_dates=True, index_col=0, skipfooter=1,  \n",
    ")\n",
    "df = houses1962['PQHPI'].to_frame()\n",
    "df.columns = ['Nominal House Prices']\n",
    "houses1962['Nominal House Prices'] = houses1962['PQHDR']\n",
    "houses1962 = houses1962[['Nominal House Prices']]\n",
    "houses1962 = prepend_history(df, houses1962).dropna()\n",
    "houses1962\n",
    "\n",
    "houses = prepend_history(houses1962, houses1992).dropna()\n",
    "houses = houses.resample('MS').interpolate(method='linear')\n",
    "houses = pd.merge_asof(houses, deflator, left_index=True, right_index=True)\n",
    "houses['Deflated House Prices'] = houses['Nominal House Prices']/houses.Deflator\n",
    "houses.to_csv('out/gen/house-prices_1962-now.csv')\n",
    "\n",
    "print(\"Created ./out/gen/house-prices_1962-now.csv\")"
   ]
  },
  {
   "cell_type": "markdown",
   "metadata": {},
   "source": [
    "# Population\n",
    "\n",
    "Stats NZ since 1936"
   ]
  },
  {
   "cell_type": "code",
   "execution_count": 10,
   "metadata": {},
   "outputs": [
    {
     "name": "stdout",
     "output_type": "stream",
     "text": [
      "Created ./out/gen/population_stats-nz_1936-now.csv\n"
     ]
    }
   ],
   "source": [
    "pop1936 = pd.read_csv('src/history/population_stats-nz_1936-1995.csv', index_col=0, \n",
    "            header=3, skipfooter=33, engine='python', mangle_dupe_cols=True, parse_dates=True)\n",
    "pop1936['Population'] = pop1936.sum(axis = 1)\n",
    "pop1936 = pop1936[['Population']]\n",
    "pop1991 = pd.read_csv('out/drop/population_stats-nz_1991-now.csv', index_col=0, \n",
    "            header=3, skipfooter=121, engine='python', mangle_dupe_cols=True, parse_dates=True)\n",
    "pop1991['Population'] = pop1991.sum(axis = 1)\n",
    "pop1991 = pop1991[['Population']]\n",
    "pop = pop1991.combine_first(pop1936)\n",
    "pop.index.name = 'Date'\n",
    "pop = pop.resample('MS').interpolate(method='linear')\n",
    "pop.to_csv('out/gen/population_stats-nz_1936-now.csv')\n",
    "print(\"Created ./out/gen/population_stats-nz_1936-now.csv\")"
   ]
  },
  {
   "cell_type": "markdown",
   "metadata": {},
   "source": [
    "# Dwellings \n",
    "\n",
    "Stats NZ since 1961\n",
    "\n",
    "Count of unoccupied dwellings look like estimated in centuses and then interpolated. It does not have much value."
   ]
  },
  {
   "cell_type": "code",
   "execution_count": 68,
   "metadata": {},
   "outputs": [
    {
     "name": "stdout",
     "output_type": "stream",
     "text": [
      "Created ./out/gen/dwellings_stats-nz_1961-now.csv\n"
     ]
    },
    {
     "data": {
      "text/html": [
       "<div>\n",
       "<style scoped>\n",
       "    .dataframe tbody tr th:only-of-type {\n",
       "        vertical-align: middle;\n",
       "    }\n",
       "\n",
       "    .dataframe tbody tr th {\n",
       "        vertical-align: top;\n",
       "    }\n",
       "\n",
       "    .dataframe thead th {\n",
       "        text-align: right;\n",
       "    }\n",
       "</style>\n",
       "<table border=\"1\" class=\"dataframe\">\n",
       "  <thead>\n",
       "    <tr style=\"text-align: right;\">\n",
       "      <th></th>\n",
       "      <th>Dwellings</th>\n",
       "      <th>Occupied Dwellings</th>\n",
       "      <th>Population</th>\n",
       "      <th>People per dwelling</th>\n",
       "      <th>Occupancy rate</th>\n",
       "    </tr>\n",
       "  </thead>\n",
       "  <tbody>\n",
       "    <tr>\n",
       "      <td>1961-04-01</td>\n",
       "      <td>6.997449e+05</td>\n",
       "      <td>6.721848e+05</td>\n",
       "      <td>2.474855e+06</td>\n",
       "      <td>3.681807</td>\n",
       "      <td>0.960614</td>\n",
       "    </tr>\n",
       "    <tr>\n",
       "      <td>1961-05-01</td>\n",
       "      <td>7.014100e+05</td>\n",
       "      <td>6.737317e+05</td>\n",
       "      <td>2.479413e+06</td>\n",
       "      <td>3.680120</td>\n",
       "      <td>0.960539</td>\n",
       "    </tr>\n",
       "    <tr>\n",
       "      <td>1961-06-01</td>\n",
       "      <td>7.030751e+05</td>\n",
       "      <td>6.752786e+05</td>\n",
       "      <td>2.483972e+06</td>\n",
       "      <td>3.678440</td>\n",
       "      <td>0.960464</td>\n",
       "    </tr>\n",
       "    <tr>\n",
       "      <td>1961-07-01</td>\n",
       "      <td>7.047402e+05</td>\n",
       "      <td>6.768255e+05</td>\n",
       "      <td>2.488530e+06</td>\n",
       "      <td>3.676767</td>\n",
       "      <td>0.960390</td>\n",
       "    </tr>\n",
       "    <tr>\n",
       "      <td>1961-08-01</td>\n",
       "      <td>7.064053e+05</td>\n",
       "      <td>6.783724e+05</td>\n",
       "      <td>2.493088e+06</td>\n",
       "      <td>3.675103</td>\n",
       "      <td>0.960316</td>\n",
       "    </tr>\n",
       "    <tr>\n",
       "      <td>...</td>\n",
       "      <td>...</td>\n",
       "      <td>...</td>\n",
       "      <td>...</td>\n",
       "      <td>...</td>\n",
       "      <td>...</td>\n",
       "    </tr>\n",
       "    <tr>\n",
       "      <td>2019-03-01</td>\n",
       "      <td>1.893167e+06</td>\n",
       "      <td>1.766433e+06</td>\n",
       "      <td>4.918860e+06</td>\n",
       "      <td>2.784628</td>\n",
       "      <td>0.933057</td>\n",
       "    </tr>\n",
       "    <tr>\n",
       "      <td>2019-04-01</td>\n",
       "      <td>1.895700e+06</td>\n",
       "      <td>1.768500e+06</td>\n",
       "      <td>4.922660e+06</td>\n",
       "      <td>2.783523</td>\n",
       "      <td>0.932901</td>\n",
       "    </tr>\n",
       "    <tr>\n",
       "      <td>2019-05-01</td>\n",
       "      <td>1.898267e+06</td>\n",
       "      <td>1.770567e+06</td>\n",
       "      <td>4.929280e+06</td>\n",
       "      <td>2.784013</td>\n",
       "      <td>0.932728</td>\n",
       "    </tr>\n",
       "    <tr>\n",
       "      <td>2019-06-01</td>\n",
       "      <td>1.900833e+06</td>\n",
       "      <td>1.772633e+06</td>\n",
       "      <td>4.935900e+06</td>\n",
       "      <td>2.784501</td>\n",
       "      <td>0.932556</td>\n",
       "    </tr>\n",
       "    <tr>\n",
       "      <td>2019-07-01</td>\n",
       "      <td>1.903400e+06</td>\n",
       "      <td>1.774700e+06</td>\n",
       "      <td>4.942520e+06</td>\n",
       "      <td>2.784989</td>\n",
       "      <td>0.932384</td>\n",
       "    </tr>\n",
       "  </tbody>\n",
       "</table>\n",
       "<p>700 rows × 5 columns</p>\n",
       "</div>"
      ],
      "text/plain": [
       "               Dwellings  Occupied Dwellings    Population  \\\n",
       "1961-04-01  6.997449e+05        6.721848e+05  2.474855e+06   \n",
       "1961-05-01  7.014100e+05        6.737317e+05  2.479413e+06   \n",
       "1961-06-01  7.030751e+05        6.752786e+05  2.483972e+06   \n",
       "1961-07-01  7.047402e+05        6.768255e+05  2.488530e+06   \n",
       "1961-08-01  7.064053e+05        6.783724e+05  2.493088e+06   \n",
       "...                  ...                 ...           ...   \n",
       "2019-03-01  1.893167e+06        1.766433e+06  4.918860e+06   \n",
       "2019-04-01  1.895700e+06        1.768500e+06  4.922660e+06   \n",
       "2019-05-01  1.898267e+06        1.770567e+06  4.929280e+06   \n",
       "2019-06-01  1.900833e+06        1.772633e+06  4.935900e+06   \n",
       "2019-07-01  1.903400e+06        1.774700e+06  4.942520e+06   \n",
       "\n",
       "            People per dwelling  Occupancy rate  \n",
       "1961-04-01             3.681807        0.960614  \n",
       "1961-05-01             3.680120        0.960539  \n",
       "1961-06-01             3.678440        0.960464  \n",
       "1961-07-01             3.676767        0.960390  \n",
       "1961-08-01             3.675103        0.960316  \n",
       "...                         ...             ...  \n",
       "2019-03-01             2.784628        0.933057  \n",
       "2019-04-01             2.783523        0.932901  \n",
       "2019-05-01             2.784013        0.932728  \n",
       "2019-06-01             2.784501        0.932556  \n",
       "2019-07-01             2.784989        0.932384  \n",
       "\n",
       "[700 rows x 5 columns]"
      ]
     },
     "execution_count": 68,
     "metadata": {},
     "output_type": "execute_result"
    }
   ],
   "source": [
    "dw1961 = pd.read_csv('src/history/dwellings_stats-nz_1961-1997.csv', skiprows=[0, 2], \n",
    "                     parse_dates=True, index_col=0, skipfooter=27, engine='python')\n",
    "dw1961.index = dw1961.index + pd.DateOffset(months=3)\n",
    "dw1961['Dwellings'] = dw1961.sum(axis=1)\n",
    "del(dw1961['Unoccupied Dwellings'])\n",
    "dw1991_occ = pd.read_csv('out/drop/dwellings-occupied_stats-nz_1991-now.csv', skiprows=2, \n",
    "                         parse_dates=True, index_col=0, skipfooter=41, engine='python',\n",
    "                         usecols=[0,1], names=['Date', 'Occupied Dwellings']\n",
    "                        )\n",
    "dw1991_all = pd.read_csv('out/drop/dwellings-all_stats-nz_1991-now.csv', skiprows=2, \n",
    "                         parse_dates=True, index_col=0, skipfooter=37, engine='python',\n",
    "                         usecols=[0,1], names=['Date', 'Dwellings']\n",
    "                        )\n",
    "\n",
    "dw1991 = dw1991_all.join(dw1991_occ).dropna()\n",
    "dwellings = prepend_history(dw1961, dw1991)\n",
    "dwellings = dwellings.resample('MS').interpolate(method='linear')\n",
    "dwellings = pd.merge_asof(dwellings, pop, left_index=True, right_index=True)\n",
    "dwellings['People per dwelling'] = dwellings['Population']/dwellings['Occupied Dwellings']\n",
    "dwellings['Occupancy rate'] = dwellings['Occupied Dwellings']/dwellings['Dwellings']\n",
    "dwellings.to_csv('out/gen/dwellings_stats-nz_1961-now.csv')\n",
    "print(\"Created ./out/gen/dwellings_stats-nz_1961-now.csv\")"
   ]
  },
  {
   "cell_type": "markdown",
   "metadata": {},
   "source": [
    "# MBIE: Rental Bond Data\n",
    "https://www.mbie.govt.nz/building-and-energy/tenancy-and-housing/rental-bond-data/\n",
    "\n",
    "Mean rent by region from 1993\n",
    "\n",
    "To get more historical rents we get src/history/cpi-groups_stats-nz_1975-1999.csv and Dwelling Rentals serias.\n",
    "\n",
    "The result is saved out/gen/rent_1975-now.csv"
   ]
  },
  {
   "cell_type": "code",
   "execution_count": 36,
   "metadata": {},
   "outputs": [
    {
     "name": "stdout",
     "output_type": "stream",
     "text": [
      "Downloaded out/download/rent-region_mbie_1993-now.csv\n"
     ]
    }
   ],
   "source": [
    "url = 'https://www.mbie.govt.nz/assets/Data-Files/Building-and-construction/Tenancy-and-housing/Rental-bond-data/Region/region-mean-rents.csv'\n",
    "r = requests.get(url)\n",
    "if r.status_code == 200:\n",
    "    with open('out/download/rent-region_mbie_1993-now.csv', 'wb') as f:\n",
    "        f.write(r.content)\n",
    "        print(\"Downloaded out/download/rent-region_mbie_1993-now.csv\")\n",
    "else:\n",
    "    raise Exception('Cannot download region-mean-rents.csv: ' + r.status_code)"
   ]
  },
  {
   "cell_type": "code",
   "execution_count": 36,
   "metadata": {},
   "outputs": [
    {
     "name": "stdout",
     "output_type": "stream",
     "text": [
      "Created ./out/gen/rent_1975-now.csv\n"
     ]
    }
   ],
   "source": [
    "rent1975 = pd.read_csv('src/history/cpi-groups_stats-nz_1975-1999.csv', header=2, skipfooter=28, engine='python', parse_dates=True, index_col=0)\n",
    "rent1975 = rent1975[['Dwelling Rentals**']]\n",
    "rent1975.columns = ['Nominal Rent']\n",
    "rent1975 = rent1975.resample('MS').interpolate(method='linear')\n",
    "\n",
    "rent1993 = pd.read_csv('out/download/rent-region_mbie_1993-now.csv', parse_dates=True, index_col=0)\n",
    "rent1993 = rent1993[['National Total']]\n",
    "rent1993.columns = ['Nominal Rent']\n",
    "\n",
    "rent = prepend_history(rent1975, rent1993)\n",
    "rent = pd.merge_asof(rent, deflator, left_index=True, right_index=True)\n",
    "rent['Deflated Rent'] = rent['Nominal Rent']/rent.Deflator\n",
    "rent = rent[['Nominal Rent', 'Deflated Rent', 'Deflator']].dropna()\n",
    "rent.to_csv('out/gen/rent_1975-now.csv')\n",
    "print(\"Created ./out/gen/rent_1975-now.csv\")"
   ]
  },
  {
   "cell_type": "markdown",
   "metadata": {},
   "source": [
    "# GDP and private cosumption\n",
    "\n",
    "RBNZ GDP since 1987\n",
    "Stats NZ Long term data: http://archive.stats.govt.nz/browse_for_stats/economic_indicators/NationalAccounts/long-term-data-series/prices.aspx\n",
    "\n",
    "Table E1 for GDP\n",
    "\n",
    "Table E4 for private consumption"
   ]
  },
  {
   "cell_type": "code",
   "execution_count": 40,
   "metadata": {},
   "outputs": [
    {
     "name": "stdout",
     "output_type": "stream",
     "text": [
      "Downloaded ./out/download/gdp_rbnz_1987-now.xlsx\n"
     ]
    }
   ],
   "source": [
    "url = 'https://www.rbnz.govt.nz/-/media/ReserveBank/Files/Statistics/tables/m5/hm5.xlsx'\n",
    "r = requests.get(url)\n",
    "if r.status_code == 200:\n",
    "    with open('out/download/gdp_rbnz_1987-now.xlsx', 'wb') as f:\n",
    "        f.write(r.content)\n",
    "        print(\"Downloaded ./out/download/gdp_rbnz_1987-now.xlsx\")\n",
    "else:\n",
    "    raise Exception('Cannot download gdp_rbnz_1987-now.xlsx: ' + r.status_code)"
   ]
  },
  {
   "cell_type": "code",
   "execution_count": 38,
   "metadata": {},
   "outputs": [
    {
     "name": "stdout",
     "output_type": "stream",
     "text": [
      "Created ./out/gen/gdp_1860-now.csv\n"
     ]
    }
   ],
   "source": [
    "gdp1987 = pd.read_excel('out/download/gdp_rbnz_1987-now.xlsx', \n",
    "                        header=None, skiprows=5, \n",
    "                        parse_dates=True, index_col=0,\n",
    "                        usecols=\"A,F,N\", names=[\"Date\", \"GDP\", \"Consumption\"]\n",
    "                       )\n",
    "#gdp1987.index = gdp1987.index + pd.DateOffset(months=-3)\n",
    "gdp1987 = gdp1987.rolling(4).sum().iloc[3::4]\n",
    "gdp1987.index = gdp1987.index + pd.DateOffset(days=1)\n",
    "\n",
    "cons1949 = pd.read_excel(\n",
    "        'src/history/private-consumption_stats-nz_table-e4_1949-2004.xls', \n",
    "         header=None, skiprows=9,\n",
    "         parse_dates=True, index_col=0, \n",
    "         usecols=\"A,N\", names=[\"Date\", \"Consumption\"]\n",
    "    ).dropna()\n",
    "cons1949.index = cons1949.index + pd.DateOffset(months=3)\n",
    "cons1949\n",
    "\n",
    "\n",
    "gdp1860 = pd.read_excel(\n",
    "        'src/history/gdp_stats-nz_table-e1_1860-2004.xls', \n",
    "         header=None, skiprows=9,\n",
    "         parse_dates=True, index_col=0, \n",
    "         usecols=\"A,Z\", names=[\"Date\", \"GDP\"]\n",
    "    ).dropna()\n",
    "gdp1860.index = gdp1860.index + pd.DateOffset(months=3)\n",
    "gdp1860\n",
    "\n",
    "\n",
    "gdp = prepend_history(cons1949, gdp1987)\n",
    "gdp = prepend_history(gdp1860, gdp)\n",
    "gdp = pd.merge_asof(gdp, pop, left_index=True, right_index=True)\n",
    "gdp = pd.merge_asof(gdp, deflator, left_index=True, right_index=True)\n",
    "gdp[\"Deflated GDP\"] = gdp[\"GDP\"]/gdp.Deflator\n",
    "gdp[\"Deflated Consumption\"] = gdp[\"Consumption\"]/gdp.Deflator\n",
    "mln = 1000000\n",
    "gdp[\"GDP per capita\"] = gdp[\"GDP\"]*mln/gdp.Population\n",
    "gdp[\"Deflated GDP per capita\"] = gdp[\"Deflated GDP\"]*mln/gdp.Population\n",
    "gdp[\"Consumption per capita\"] = gdp[\"Consumption\"]*mln/gdp.Population\n",
    "gdp[\"Deflated Consumption per capita\"] = gdp[\"Deflated Consumption\"]*mln/gdp.Population\n",
    "\n",
    "gdp.to_csv(\"out/gen/gdp_1860-now.csv\")\n",
    "print(\"Created ./out/gen/gdp_1860-now.csv\")"
   ]
  },
  {
   "cell_type": "code",
   "execution_count": null,
   "metadata": {},
   "outputs": [],
   "source": []
  }
 ],
 "metadata": {
  "kernelspec": {
   "display_name": "Python 3",
   "language": "python",
   "name": "python3"
  },
  "language_info": {
   "codemirror_mode": {
    "name": "ipython",
    "version": 3
   },
   "file_extension": ".py",
   "mimetype": "text/x-python",
   "name": "python",
   "nbconvert_exporter": "python",
   "pygments_lexer": "ipython3",
   "version": "3.7.4"
  }
 },
 "nbformat": 4,
 "nbformat_minor": 4
}
